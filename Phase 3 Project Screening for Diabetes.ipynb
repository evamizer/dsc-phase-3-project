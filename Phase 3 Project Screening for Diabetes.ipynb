{
 "cells": [
  {
   "cell_type": "markdown",
   "metadata": {},
   "source": [
    "## Phase 3 Project Submission - Screening for Diabetes\n",
    "\n",
    "* Student name: Eva Mizer\n",
    "* Student pace: Flex\n",
    "* Scheduled project review date/time: Tuesday, Jan 10th, 10:00am via Zoom\n",
    "* Instructor name: Morgan Jones\n",
    "* Blog post URL: https://www.blogger.com/blog/posts/4845670283059937521?pli=1\n"
   ]
  },
  {
   "cell_type": "markdown",
   "metadata": {},
   "source": [
    "## Introduction"
   ]
  },
  {
   "cell_type": "markdown",
   "metadata": {},
   "source": [
    "### Business Case "
   ]
  },
  {
   "cell_type": "markdown",
   "metadata": {},
   "source": [
    "#### Stake Holders:\n",
    "* Medical facilities such as primary care physician offices, or even other medical care facilities such as convenient care facilities, urgent care facilities, and hospitals. While these are my primary stake holders, it would be within the rhealm of possibility that this model could be used by insurance companies.\n",
    "\n",
    "#### Business Problem/Solution:\n",
    "* When receiving a new patient or even reviewing updated information for a current patient, medical professionals need to know if someone is likely to have diabetes. This model would allow them to input the basic data points needed for the model to see if a patient might have diabetes (diagnosed or not), and give indicators to look out for. \n",
    "\n",
    "#### Performance Goals:\n",
    "* **My goal is to make predictions with my model as accurately as possible while maximizing true positive cases. We will be setting our threshold at 75% for recall.** \n",
    "\n",
    "* **Recall** indicates that when you predict that someone has diabetes, you are correct the percentage of what ever your recall is. For example, if you have a recall value of .75, that would mean you correctly predicted that someone had diabetes 75% of the time.\n",
    "\n",
    "* Since this is just a quick tool to screen if someone is likely to have diabetes, it would be better to overdiagnose positive cases than to underdiagnose. Undiagnosed diabetes can have pretty serious health complications if left untreated, so overdiagnosing (high recall for true positives even at the expense of true negatives recall) would be advised. Doctors can order more specific tests to determine if someone does indeed have diabetes. \n",
    "\n",
    "* **It should be noted that this model does not distinguish between Type-1 and Type-2 diabetes.**"
   ]
  },
  {
   "cell_type": "markdown",
   "metadata": {},
   "source": [
    "### Overview \n"
   ]
  },
  {
   "cell_type": "markdown",
   "metadata": {},
   "source": [
    "#### The Data\n",
    "The [data](\"https://www.kaggle.com/datasets/prosperchuks/health-dataset\") we are using today is from the [Behavioral Risk Factor Surveillance System (BRFSS)](https://www.kaggle.com/datasets/cdc/behavioral-risk-factor-surveillance-system\"), a health-related telephone survey that is collected annually by the CDC. This dataset is a balanced subset of the original dataset of 441,455 Americans on health-related risk behaviors, chronic health conditions, and the use of preventative services from 2015, made available on Kaggle. These features are either questions directly asked of participants, or calculated variables based on individual participant responses. While the original dataset had over 330 features and over 400,000 entries, this subset has 18 feature variables and 70,692 entries. Because the subset is so large, we will be take a 50% sample of that subset for ease of use. \n",
    "\n",
    "**It should be noted that this dataset does not distinguish between Type-1 and Type-2 diabetes.**\n",
    "\n",
    "#### Scoring Metric\n",
    "* Accuracy and recall will be used as the scoring metric for our models.\n",
    "* We want to maximize our true positives in recall.\n",
    "\n",
    "##### 1. [Import Libraries and Data](#Import_Libraries)\n",
    "##### 2. [Clean and Inspect the Data](#Clean)\n",
    "##### 3. [Data Prep](#Dataprep)\n",
    "* Choose target features (diabetes/all others)\n",
    "* Split into X and Y\n",
    "* Split for Training and Testing\n",
    "* OHE\n",
    "\n",
    "##### 4. [Models and refinement](#Modeling) \n",
    "* Classification model report\n",
    "* Analysis\n",
    "\n",
    "##### 5. [Final Model Selection](#final)\n",
    "\n",
    "##### 6. [Business Recommendations](#business)\n",
    "\n",
    "##### 7. [Going Further](#further)"
   ]
  },
  {
   "cell_type": "markdown",
   "metadata": {},
   "source": [
    "## 1. Import the Libraries <a id='Import_Libraries'></a>"
   ]
  },
  {
   "cell_type": "code",
   "execution_count": 1,
   "metadata": {},
   "outputs": [],
   "source": [
    "# IMPORT ALL THE THINGS!\n",
    "\n",
    "#Basic Goodies\n",
    "import numpy as np \n",
    "import pandas as pd\n",
    "import xgboost \n",
    "from matplotlib import pyplot as plt\n",
    "from sklearn.utils import resample\n",
    "\n",
    "#Basic Classifiers\n",
    "from sklearn.linear_model import LogisticRegression, LinearRegression\n",
    "from sklearn.tree import DecisionTreeClassifier\n",
    "from logitboost import LogitBoost\n",
    "from xgboost import XGBClassifier\n",
    "from sklearn.ensemble import AdaBoostClassifier\n",
    "from sklearn.svm import SVC\n",
    "from sklearn.linear_model import Lasso\n",
    "\n",
    "#model selection\n",
    "from sklearn.model_selection import train_test_split, GridSearchCV, cross_val_score, cross_validate\n",
    "from sklearn.ensemble import RandomForestClassifier, AdaBoostClassifier, GradientBoostingClassifier\n",
    "import statsmodels.api as sm\n",
    "\n",
    "#Preprocessing Tools\n",
    "from sklearn.preprocessing import OneHotEncoder, StandardScaler\n",
    "\n",
    "#Model tuning methods\n",
    "from sklearn.pipeline import Pipeline, make_pipeline\n",
    "from sklearn.compose import ColumnTransformer\n",
    "\n",
    "#For checking precision, etc.\n",
    "from sklearn.metrics import classification_report, accuracy_score, roc_curve, auc, confusion_matrix, precision_score, plot_roc_curve, roc_curve, roc_auc_score, plot_confusion_matrix\n",
    "from sklearn.model_selection import StratifiedKFold\n",
    "from sklearn.metrics import plot_roc_curve, roc_curve, roc_auc_score\n",
    "from sklearn.metrics import precision_score, recall_score, accuracy_score, f1_score\n",
    "\n",
    "#Import scikit-learn metrics module for accuracy calculation\n",
    "from sklearn import metrics\n",
    "\n",
    "#For Visuals\n",
    "import matplotlib.pyplot as plt\n",
    "import seaborn as sns\n",
    "\n",
    "#Because I hate pink warnings\n",
    "import warnings\n",
    "warnings.filterwarnings('ignore')"
   ]
  },
  {
   "cell_type": "markdown",
   "metadata": {},
   "source": [
    "### Meet the Data\n",
    "Before we get started, let's take a look at the dataset itself. We have mostly binary features, with a few categorical and one scaled. "
   ]
  },
  {
   "cell_type": "markdown",
   "metadata": {},
   "source": [
    "#### Target Feature:\n",
    "* **Diabetes:** Binary. Does patient have diabetes?\n",
    "    * 0 = no \n",
    "    * 1 = yes\n",
    "\n",
    "#### Predictive Features:\n",
    "* **Age:** Categorical. 13-level age category, 1-13 in sets of 5. \n",
    "    * 1 = 18-24 \n",
    "    * 2 = 25-29\n",
    "    * 3 = 30-34\n",
    "    * 4 = 35-39\n",
    "    * 5 = 40-44\n",
    "    * 6 = 45-49\n",
    "    * 7 = 50-54\n",
    "    * 8 = 55-59\n",
    "    * 9 = 60-64\n",
    "    * 10 = 65-69\n",
    "    * 11 = 70-74\n",
    "    * 12 = 75-79\n",
    "    * 13 = 80 or older\n",
    "* **Sex:** Binary. Patient's gender.\n",
    "    * 1: male; \n",
    "    * 0: female\n",
    "* **HighChol:** Binary. \n",
    "    * 0 = no high cholesterol \n",
    "    * 1 = high cholesterol\n",
    "* **CholCheck:** Binary.\n",
    "    * 0 = no cholesterol check in 5 years \n",
    "    * 1 = yes cholesterol check in 5 years\n",
    "* **BMI:** Numerical (non-binary). Patients BMI\n",
    "* **Smoker:** Binary. Has patient smoked at least 100 cigarettes in their entire life? \n",
    "[Note: 5 packs = 100 cigarettes] \n",
    "    * 0 = no \n",
    "    * 1 = yes\n",
    "* **HeartDiseaseorAttack:**  Binary. Coronary heart disease (CHD) or myocardial infarction (MI)     \n",
    "    * 0 = no \n",
    "    * 1 = yes\n",
    "* **PhysActivity:** Binary. Physical activity in past 30 days - not including job    \n",
    "    * 0 = no \n",
    "    * 1 = yes\n",
    "* **Fruits:** Binary. Consume Fruit 1 or more times per day    \n",
    "    * 0 = no \n",
    "    * 1 = yes\n",
    "* **Veggies:** Binary. Consume Vegetables 1 or more times per day    \n",
    "    * 0 = no \n",
    "    * 1 = yes\n",
    "* **HvyAlcoholConsump:** Binary. (adult men >=14 drinks per week and adult women>=7 drinks per week) \n",
    "    * 0 = no \n",
    "    * 1 = yes\n",
    "* **GenHlth:** Categorical. Patients asked to rank their general your health on a scale of 1-5. \n",
    "    * 1 = excellent \n",
    "    * 2 = very good \n",
    "    * 3 = good \n",
    "    * 4 = fair \n",
    "    * 5 = poor\n",
    "* **MentHlth:** Numerical. Number of days of poor mental health in the last 30 days on a scale of 1-30 days\n",
    "* **PhysHlth:**  Numerical. Number of days of physical illness or injury days in past 30 days on a scale of 1-30 days\n",
    "* **DiffWalk:** Binary. Does patient have serious difficulty walking or climbing stairs?\n",
    "    * 0 = no \n",
    "    * 1 = yes\n",
    "* **Stroke:** Binary. Has patient ever experienced a stroke?\n",
    "    * 0 = no \n",
    "    * 1 = yes\n",
    "* **HighBP:** Binary. Does patient have high blood pressure?\n",
    "    * 0 = no \n",
    "    * 1 = yes"
   ]
  },
  {
   "cell_type": "markdown",
   "metadata": {},
   "source": [
    "Now let's take a look at each feature, how many entries we have, how many nulls, and what type it is, etc. "
   ]
  },
  {
   "cell_type": "code",
   "execution_count": 2,
   "metadata": {
    "scrolled": false
   },
   "outputs": [
    {
     "name": "stdout",
     "output_type": "stream",
     "text": [
      "(70692, 18)\n",
      "<class 'pandas.core.frame.DataFrame'>\n",
      "RangeIndex: 70692 entries, 0 to 70691\n",
      "Data columns (total 18 columns):\n",
      " #   Column                Non-Null Count  Dtype  \n",
      "---  ------                --------------  -----  \n",
      " 0   Age                   70692 non-null  float64\n",
      " 1   Sex                   70692 non-null  float64\n",
      " 2   HighChol              70692 non-null  float64\n",
      " 3   CholCheck             70692 non-null  float64\n",
      " 4   BMI                   70692 non-null  float64\n",
      " 5   Smoker                70692 non-null  float64\n",
      " 6   HeartDiseaseorAttack  70692 non-null  float64\n",
      " 7   PhysActivity          70692 non-null  float64\n",
      " 8   Fruits                70692 non-null  float64\n",
      " 9   Veggies               70692 non-null  float64\n",
      " 10  HvyAlcoholConsump     70692 non-null  float64\n",
      " 11  GenHlth               70692 non-null  float64\n",
      " 12  MentHlth              70692 non-null  float64\n",
      " 13  PhysHlth              70692 non-null  float64\n",
      " 14  DiffWalk              70692 non-null  float64\n",
      " 15  Stroke                70692 non-null  float64\n",
      " 16  HighBP                70692 non-null  float64\n",
      " 17  Diabetes              70692 non-null  float64\n",
      "dtypes: float64(18)\n",
      "memory usage: 9.7 MB\n",
      "None\n"
     ]
    }
   ],
   "source": [
    "# Load the diabetes dataset\n",
    "data = pd.read_csv('data/diabetes_data.csv') \n",
    "# Print the dimensions of data\n",
    "print(data.shape)\n",
    "# Check out the info for the dataframe\n",
    "print(data.info())\n"
   ]
  },
  {
   "cell_type": "code",
   "execution_count": 3,
   "metadata": {},
   "outputs": [
    {
     "data": {
      "text/html": [
       "<div>\n",
       "<style scoped>\n",
       "    .dataframe tbody tr th:only-of-type {\n",
       "        vertical-align: middle;\n",
       "    }\n",
       "\n",
       "    .dataframe tbody tr th {\n",
       "        vertical-align: top;\n",
       "    }\n",
       "\n",
       "    .dataframe thead th {\n",
       "        text-align: right;\n",
       "    }\n",
       "</style>\n",
       "<table border=\"1\" class=\"dataframe\">\n",
       "  <thead>\n",
       "    <tr style=\"text-align: right;\">\n",
       "      <th></th>\n",
       "      <th>Age</th>\n",
       "      <th>Sex</th>\n",
       "      <th>HighChol</th>\n",
       "      <th>CholCheck</th>\n",
       "      <th>BMI</th>\n",
       "      <th>Smoker</th>\n",
       "      <th>HeartDiseaseorAttack</th>\n",
       "      <th>PhysActivity</th>\n",
       "      <th>Fruits</th>\n",
       "      <th>Veggies</th>\n",
       "      <th>HvyAlcoholConsump</th>\n",
       "      <th>GenHlth</th>\n",
       "      <th>MentHlth</th>\n",
       "      <th>PhysHlth</th>\n",
       "      <th>DiffWalk</th>\n",
       "      <th>Stroke</th>\n",
       "      <th>HighBP</th>\n",
       "      <th>Diabetes</th>\n",
       "    </tr>\n",
       "  </thead>\n",
       "  <tbody>\n",
       "    <tr>\n",
       "      <th>0</th>\n",
       "      <td>4.0</td>\n",
       "      <td>1.0</td>\n",
       "      <td>0.0</td>\n",
       "      <td>1.0</td>\n",
       "      <td>26.0</td>\n",
       "      <td>0.0</td>\n",
       "      <td>0.0</td>\n",
       "      <td>1.0</td>\n",
       "      <td>0.0</td>\n",
       "      <td>1.0</td>\n",
       "      <td>0.0</td>\n",
       "      <td>3.0</td>\n",
       "      <td>5.0</td>\n",
       "      <td>30.0</td>\n",
       "      <td>0.0</td>\n",
       "      <td>0.0</td>\n",
       "      <td>1.0</td>\n",
       "      <td>0.0</td>\n",
       "    </tr>\n",
       "    <tr>\n",
       "      <th>1</th>\n",
       "      <td>12.0</td>\n",
       "      <td>1.0</td>\n",
       "      <td>1.0</td>\n",
       "      <td>1.0</td>\n",
       "      <td>26.0</td>\n",
       "      <td>1.0</td>\n",
       "      <td>0.0</td>\n",
       "      <td>0.0</td>\n",
       "      <td>1.0</td>\n",
       "      <td>0.0</td>\n",
       "      <td>0.0</td>\n",
       "      <td>3.0</td>\n",
       "      <td>0.0</td>\n",
       "      <td>0.0</td>\n",
       "      <td>0.0</td>\n",
       "      <td>1.0</td>\n",
       "      <td>1.0</td>\n",
       "      <td>0.0</td>\n",
       "    </tr>\n",
       "    <tr>\n",
       "      <th>2</th>\n",
       "      <td>13.0</td>\n",
       "      <td>1.0</td>\n",
       "      <td>0.0</td>\n",
       "      <td>1.0</td>\n",
       "      <td>26.0</td>\n",
       "      <td>0.0</td>\n",
       "      <td>0.0</td>\n",
       "      <td>1.0</td>\n",
       "      <td>1.0</td>\n",
       "      <td>1.0</td>\n",
       "      <td>0.0</td>\n",
       "      <td>1.0</td>\n",
       "      <td>0.0</td>\n",
       "      <td>10.0</td>\n",
       "      <td>0.0</td>\n",
       "      <td>0.0</td>\n",
       "      <td>0.0</td>\n",
       "      <td>0.0</td>\n",
       "    </tr>\n",
       "    <tr>\n",
       "      <th>3</th>\n",
       "      <td>11.0</td>\n",
       "      <td>1.0</td>\n",
       "      <td>1.0</td>\n",
       "      <td>1.0</td>\n",
       "      <td>28.0</td>\n",
       "      <td>1.0</td>\n",
       "      <td>0.0</td>\n",
       "      <td>1.0</td>\n",
       "      <td>1.0</td>\n",
       "      <td>1.0</td>\n",
       "      <td>0.0</td>\n",
       "      <td>3.0</td>\n",
       "      <td>0.0</td>\n",
       "      <td>3.0</td>\n",
       "      <td>0.0</td>\n",
       "      <td>0.0</td>\n",
       "      <td>1.0</td>\n",
       "      <td>0.0</td>\n",
       "    </tr>\n",
       "    <tr>\n",
       "      <th>4</th>\n",
       "      <td>8.0</td>\n",
       "      <td>0.0</td>\n",
       "      <td>0.0</td>\n",
       "      <td>1.0</td>\n",
       "      <td>29.0</td>\n",
       "      <td>1.0</td>\n",
       "      <td>0.0</td>\n",
       "      <td>1.0</td>\n",
       "      <td>1.0</td>\n",
       "      <td>1.0</td>\n",
       "      <td>0.0</td>\n",
       "      <td>2.0</td>\n",
       "      <td>0.0</td>\n",
       "      <td>0.0</td>\n",
       "      <td>0.0</td>\n",
       "      <td>0.0</td>\n",
       "      <td>0.0</td>\n",
       "      <td>0.0</td>\n",
       "    </tr>\n",
       "  </tbody>\n",
       "</table>\n",
       "</div>"
      ],
      "text/plain": [
       "    Age  Sex  HighChol  CholCheck   BMI  Smoker  HeartDiseaseorAttack  \\\n",
       "0   4.0  1.0       0.0        1.0  26.0     0.0                   0.0   \n",
       "1  12.0  1.0       1.0        1.0  26.0     1.0                   0.0   \n",
       "2  13.0  1.0       0.0        1.0  26.0     0.0                   0.0   \n",
       "3  11.0  1.0       1.0        1.0  28.0     1.0                   0.0   \n",
       "4   8.0  0.0       0.0        1.0  29.0     1.0                   0.0   \n",
       "\n",
       "   PhysActivity  Fruits  Veggies  HvyAlcoholConsump  GenHlth  MentHlth  \\\n",
       "0           1.0     0.0      1.0                0.0      3.0       5.0   \n",
       "1           0.0     1.0      0.0                0.0      3.0       0.0   \n",
       "2           1.0     1.0      1.0                0.0      1.0       0.0   \n",
       "3           1.0     1.0      1.0                0.0      3.0       0.0   \n",
       "4           1.0     1.0      1.0                0.0      2.0       0.0   \n",
       "\n",
       "   PhysHlth  DiffWalk  Stroke  HighBP  Diabetes  \n",
       "0      30.0       0.0     0.0     1.0       0.0  \n",
       "1       0.0       0.0     1.0     1.0       0.0  \n",
       "2      10.0       0.0     0.0     0.0       0.0  \n",
       "3       3.0       0.0     0.0     1.0       0.0  \n",
       "4       0.0       0.0     0.0     0.0       0.0  "
      ]
     },
     "execution_count": 3,
     "metadata": {},
     "output_type": "execute_result"
    }
   ],
   "source": [
    "# Show the first 5 rows\n",
    "data.head()"
   ]
  },
  {
   "cell_type": "markdown",
   "metadata": {},
   "source": [
    "Cool! Looks like a nice descriptive dataset with some columns that will need to be reformatted and/or dummied out, and a good hunk of entries to work with. \n",
    "\n",
    "Now let's explore a little more at what kind of unique values we are working with and how many Nans we have."
   ]
  },
  {
   "cell_type": "code",
   "execution_count": 4,
   "metadata": {},
   "outputs": [
    {
     "name": "stdout",
     "output_type": "stream",
     "text": [
      "Age                     13\n",
      "Sex                      2\n",
      "HighChol                 2\n",
      "CholCheck                2\n",
      "BMI                     80\n",
      "Smoker                   2\n",
      "HeartDiseaseorAttack     2\n",
      "PhysActivity             2\n",
      "Fruits                   2\n",
      "Veggies                  2\n",
      "HvyAlcoholConsump        2\n",
      "GenHlth                  5\n",
      "MentHlth                31\n",
      "PhysHlth                31\n",
      "DiffWalk                 2\n",
      "Stroke                   2\n",
      "HighBP                   2\n",
      "Diabetes                 2\n",
      "dtype: int64\n",
      "There are 0 Nans!\n"
     ]
    }
   ],
   "source": [
    "#How many unique values per column?\n",
    "print(data.nunique())\n",
    "\n",
    "#How many Nans, computer?\n",
    "print(\"There are\", data.isna().sum().sum(), \"Nans!\")"
   ]
  },
  {
   "cell_type": "markdown",
   "metadata": {},
   "source": [
    "So it looks like we will need to dummy out Age, and GenHlth. We will need to scale MentHlth, PhysHlth, and BMI, but everything else is already in 0/1 format and, even better, have no Nans!! \n",
    "\n",
    "Let's see the correlation between Diabetes and the other columns. "
   ]
  },
  {
   "cell_type": "code",
   "execution_count": 5,
   "metadata": {},
   "outputs": [
    {
     "data": {
      "text/plain": [
       "Diabetes                1.000000\n",
       "GenHlth                 0.407612\n",
       "HighBP                  0.381516\n",
       "BMI                     0.293373\n",
       "HighChol                0.289213\n",
       "DiffWalk                0.272646\n",
       "PhysHlth                0.213081\n",
       "HeartDiseaseorAttack    0.211523\n",
       "Stroke                  0.125427\n",
       "CholCheck               0.115382\n",
       "MentHlth                0.087029\n",
       "Smoker                  0.085999\n",
       "Sex                     0.044413\n",
       "Fruits                 -0.054077\n",
       "Veggies                -0.079293\n",
       "HvyAlcoholConsump      -0.094853\n",
       "PhysActivity           -0.158666\n",
       "Name: Diabetes, dtype: float64"
      ]
     },
     "execution_count": 5,
     "metadata": {},
     "output_type": "execute_result"
    }
   ],
   "source": [
    "#correlation values\n",
    "data[data.columns[1:]].corr()['Diabetes'][:].sort_values(ascending=False)"
   ]
  },
  {
   "cell_type": "markdown",
   "metadata": {},
   "source": [
    "Because this dataset has been balanced for diabetes, we should have equal amounts for both having diabetes and not. Let's see:"
   ]
  },
  {
   "cell_type": "code",
   "execution_count": 6,
   "metadata": {
    "scrolled": true
   },
   "outputs": [
    {
     "data": {
      "text/plain": [
       "1.0    35346\n",
       "0.0    35346\n",
       "Name: Diabetes, dtype: int64"
      ]
     },
     "execution_count": 6,
     "metadata": {},
     "output_type": "execute_result"
    }
   ],
   "source": [
    "#How any 0 and 1 values in this dataset for Diabetes?\n",
    "data['Diabetes'].value_counts()"
   ]
  },
  {
   "cell_type": "markdown",
   "metadata": {},
   "source": [
    "Checks out! Let's see if there are any duplicates."
   ]
  },
  {
   "cell_type": "code",
   "execution_count": 7,
   "metadata": {},
   "outputs": [
    {
     "data": {
      "text/plain": [
       "6672"
      ]
     },
     "execution_count": 7,
     "metadata": {},
     "output_type": "execute_result"
    }
   ],
   "source": [
    "#Find and add up all the dumplicates\n",
    "data.duplicated().sum()"
   ]
  },
  {
   "cell_type": "markdown",
   "metadata": {},
   "source": [
    "So it looks like about 10% of the data is duplicates, but since there is no ID to check, we can't be certain that these duplicates are accidental duplicates, or if they are just 6672 people roughly in the same age group and lifestyle."
   ]
  },
  {
   "cell_type": "markdown",
   "metadata": {},
   "source": [
    "## 2. Clean and Inspect the Data <a id='Clean'></a>"
   ]
  },
  {
   "cell_type": "markdown",
   "metadata": {},
   "source": [
    "### Cleaning"
   ]
  },
  {
   "cell_type": "markdown",
   "metadata": {},
   "source": [
    "This dataset doesn't actually need much cleaning. There are no nans, I like the titles and their easy legibility, and most of the data is already in 1/0 format for modeling. \n",
    "\n",
    "Still, just for curiosity, let's check out the values of the columns we will be OHE-ing. \n"
   ]
  },
  {
   "cell_type": "code",
   "execution_count": 8,
   "metadata": {},
   "outputs": [
    {
     "name": "stdout",
     "output_type": "stream",
     "text": [
      "Age:  [1.0, 2.0, 3.0, 4.0, 5.0, 6.0, 7.0, 8.0, 9.0, 10.0, 11.0, 12.0, 13.0]\n",
      "GenHlth:  [1.0, 2.0, 3.0, 4.0, 5.0]\n"
     ]
    }
   ],
   "source": [
    "#Find unique values for the categories we intend to OHE\n",
    "print(\"Age: \", sorted(data['Age'].unique()))\n",
    "print(\"GenHlth: \", sorted(data['GenHlth'].unique()))"
   ]
  },
  {
   "cell_type": "markdown",
   "metadata": {},
   "source": [
    "Because this dataset is so large, I want to take a smaller sample of it to work with, since it will be more efficient than using the whole dataset, but still be statistically representative. "
   ]
  },
  {
   "cell_type": "code",
   "execution_count": 9,
   "metadata": {},
   "outputs": [],
   "source": [
    "#Itty Bitty Little Dataset - sampling at 50%\n",
    "small_data = data.groupby('Diabetes').apply(pd.DataFrame.sample, frac=0.5, random_state=42).reset_index(drop=True)"
   ]
  },
  {
   "cell_type": "code",
   "execution_count": 10,
   "metadata": {
    "scrolled": true
   },
   "outputs": [
    {
     "data": {
      "text/plain": [
       "Diabetes                1.000000\n",
       "GenHlth                 0.408864\n",
       "HighBP                  0.377989\n",
       "BMI                     0.297125\n",
       "HighChol                0.288865\n",
       "DiffWalk                0.267696\n",
       "PhysHlth                0.211565\n",
       "HeartDiseaseorAttack    0.211421\n",
       "Stroke                  0.126182\n",
       "CholCheck               0.119123\n",
       "MentHlth                0.087864\n",
       "Smoker                  0.085257\n",
       "Sex                     0.050891\n",
       "Fruits                 -0.054589\n",
       "Veggies                -0.072921\n",
       "HvyAlcoholConsump      -0.093659\n",
       "PhysActivity           -0.154042\n",
       "Name: Diabetes, dtype: float64"
      ]
     },
     "execution_count": 10,
     "metadata": {},
     "output_type": "execute_result"
    }
   ],
   "source": [
    "#Correlation levels\n",
    "small_data[small_data.columns[1:]].corr()['Diabetes'][:].sort_values(ascending=False)"
   ]
  },
  {
   "cell_type": "markdown",
   "metadata": {},
   "source": [
    "Great! Now let's check for ***multicollinearity on the new, smaller data subset!***"
   ]
  },
  {
   "cell_type": "code",
   "execution_count": 11,
   "metadata": {},
   "outputs": [
    {
     "data": {
      "text/plain": [
       "1.0    17673\n",
       "0.0    17673\n",
       "Name: Diabetes, dtype: int64"
      ]
     },
     "execution_count": 11,
     "metadata": {},
     "output_type": "execute_result"
    }
   ],
   "source": [
    "#How any 0 and 1 values in this dataset for Diabetes?\n",
    "small_data['Diabetes'].value_counts()"
   ]
  },
  {
   "cell_type": "markdown",
   "metadata": {},
   "source": [
    "### Visuals and EDA"
   ]
  },
  {
   "cell_type": "markdown",
   "metadata": {},
   "source": [
    "#### Multicollinearity"
   ]
  },
  {
   "cell_type": "code",
   "execution_count": 12,
   "metadata": {},
   "outputs": [
    {
     "data": {
      "image/png": "[encoded data removed]",
      "text/plain": [
       "<Figure size 1152x1152 with 2 Axes>"
      ]
     },
     "metadata": {
      "needs_background": "light"
     },
     "output_type": "display_data"
    }
   ],
   "source": [
    "#Check for multicollinearity visually:\n",
    "corr = small_data.corr().abs()\n",
    "\n",
    "fig, ax=plt.subplots(figsize=(16,16))\n",
    "matrix = np.triu(corr)\n",
    "cbar_kws={\"label\": \"Correlation Value\", \"shrink\":0.8}\n",
    "heatmap = sns.heatmap(data = corr, cmap='flare', linewidths = 1, square= True,  ax=ax, annot=True, mask=matrix, fmt= \".2f\", cbar_kws=cbar_kws) \n",
    "fig.suptitle('Heatmap of Correlation Between All Variables (Including Target)', fontsize=24, y=.84, x = .42, fontname='Helvetica');\n",
    "heatmap;"
   ]
  },
  {
   "cell_type": "markdown",
   "metadata": {},
   "source": [
    "##### Multicollinearity Summary\n",
    "\n",
    "Our top correlating features with Diabetes are \n",
    "* **GenHlth**\n",
    "* **HighBP**\n",
    "* **BMI**\n",
    "* **HighChol**\n",
    "* **Age**\n",
    "* **DiffWalk**\n",
    "\n",
    "Since none of the values are over .7, we can keep them all!\n",
    "\n",
    "Let's take a look at how they relate to someone with and without Diabetes, among with some of the other top 10. Let's explore some of these visually, but first, let's make a little bar plot cheat sheet to keep things simple!"
   ]
  },
  {
   "cell_type": "markdown",
   "metadata": {},
   "source": [
    "#### Diabetes Bar Plot Functions"
   ]
  },
  {
   "cell_type": "code",
   "execution_count": 13,
   "metadata": {},
   "outputs": [],
   "source": [
    "def dia_bar(X, y, hue, y_title, plot_title):\n",
    "    ax = sns.barplot(x=X, y=y, hue=hue, data=small_data, palette=\"flare\")\n",
    "    ax.figure.set_size_inches(20,10)\n",
    "    ax.set_ylabel(y_title, fontsize=16)\n",
    "    ax.set_title(plot_title, fontsize=20)\n",
    "\n",
    "def dia_bar_simple(X, y, y_title, plot_title):\n",
    "    ax = sns.barplot(x=X, y=y, data=small_data, palette=\"flare\")\n",
    "    ax.figure.set_size_inches(20,10)\n",
    "    ax.set_ylabel(y_title, fontsize=16)\n",
    "    ax.set_title(plot_title, fontsize=20)\n",
    "    \n",
    "def mini_dia_bar(x, y, y_title, plot_title):\n",
    "    mean_df = small_data[[x, y]].groupby(x, as_index=False).mean()\n",
    "    print(mean_df)\n",
    "\n",
    "    #Bar plot to visualize!\n",
    "    ax = sns.barplot(x=x, y=y, data=mean_df, palette=\"flare\")\n",
    "    ax.figure.set_size_inches(6,6)\n",
    "    ax.set_ylabel(y_title)\n",
    "    ax.set_title(plot_title)"
   ]
  },
  {
   "cell_type": "markdown",
   "metadata": {},
   "source": [
    "#### General Health and Age vs Diabetes"
   ]
  },
  {
   "cell_type": "code",
   "execution_count": 14,
   "metadata": {},
   "outputs": [
    {
     "data": {
      "image/png": "[encoded data removed]",
      "text/plain": [
       "<Figure size 1440x720 with 1 Axes>"
      ]
     },
     "metadata": {
      "needs_background": "light"
     },
     "output_type": "display_data"
    }
   ],
   "source": [
    "#Make a barplot of General Health and Age vs Diabetes using our function\n",
    "dia_bar(\"Age\", \"GenHlth\", 'Diabetes', 'General Health Rating', 'General Health Rating per Diabetes Status')\n"
   ]
  },
  {
   "cell_type": "code",
   "execution_count": 15,
   "metadata": {},
   "outputs": [
    {
     "name": "stdout",
     "output_type": "stream",
     "text": [
      "   Diabetes   GenHlth\n",
      "0       0.0  2.382674\n",
      "1       1.0  3.291688\n"
     ]
    },
    {
     "data": {
      "image/png": "[encoded data removed]",
      "text/plain": [
       "<Figure size 432x432 with 1 Axes>"
      ]
     },
     "metadata": {
      "needs_background": "light"
     },
     "output_type": "display_data"
    }
   ],
   "source": [
    "mini_dia_bar('Diabetes', 'GenHlth', 'General Health Rating', 'General Health Rating per Diabetes Status')"
   ]
  },
  {
   "cell_type": "markdown",
   "metadata": {},
   "source": [
    "Here we see a theme stating to emerge where no matter the age group, those that suffer from diabetes also fair worse on their General Health. Overall, diabetics have about **38% worse general health ratings** than those that are not diabetic. "
   ]
  },
  {
   "cell_type": "markdown",
   "metadata": {},
   "source": [
    "#### High Blood Pressure and Age vs Diabetes"
   ]
  },
  {
   "cell_type": "code",
   "execution_count": 16,
   "metadata": {},
   "outputs": [
    {
     "data": {
      "image/png": "[encoded data removed]",
      "text/plain": [
       "<Figure size 1440x720 with 1 Axes>"
      ]
     },
     "metadata": {
      "needs_background": "light"
     },
     "output_type": "display_data"
    }
   ],
   "source": [
    "#Make a barplot of High Blood Pressure and Age vs Diabetes using our function\n",
    "dia_bar(\"Age\", \"HighBP\", 'Diabetes', 'Blood Pressure Score', 'High Blood Pressure per Diabetes Status')"
   ]
  },
  {
   "cell_type": "code",
   "execution_count": 17,
   "metadata": {},
   "outputs": [
    {
     "name": "stdout",
     "output_type": "stream",
     "text": [
      "   Diabetes    HighBP\n",
      "0       0.0  0.375488\n",
      "1       1.0  0.750467\n"
     ]
    },
    {
     "data": {
      "image/png": "[encoded data removed]",
      "text/plain": [
       "<Figure size 432x432 with 1 Axes>"
      ]
     },
     "metadata": {
      "needs_background": "light"
     },
     "output_type": "display_data"
    }
   ],
   "source": [
    "mini_dia_bar('Diabetes', 'HighBP', 'Prevelence of High Blood Pressure', 'Prevelence of High Blood Pressure per Diabetes Status')"
   ]
  },
  {
   "cell_type": "markdown",
   "metadata": {},
   "source": [
    "Overall, those with diabetes have about ***99% higher prevelence*** of high blood pressure than those that do not."
   ]
  },
  {
   "cell_type": "markdown",
   "metadata": {},
   "source": [
    "#### BMI and Age vs Diabetes"
   ]
  },
  {
   "cell_type": "code",
   "execution_count": 18,
   "metadata": {},
   "outputs": [
    {
     "data": {
      "image/png": "[encoded data removed]",
      "text/plain": [
       "<Figure size 1440x720 with 1 Axes>"
      ]
     },
     "metadata": {
      "needs_background": "light"
     },
     "output_type": "display_data"
    }
   ],
   "source": [
    "#Make a barplot of High Blood Pressure and Age vs Diabetes using our function\n",
    "dia_bar(\"Age\", \"BMI\", 'Diabetes', 'BMI Score', 'BMI per Diabetes Status')"
   ]
  },
  {
   "cell_type": "code",
   "execution_count": 19,
   "metadata": {},
   "outputs": [
    {
     "name": "stdout",
     "output_type": "stream",
     "text": [
      "   Diabetes        BMI\n",
      "0       0.0  27.725231\n",
      "1       1.0  31.942624\n"
     ]
    },
    {
     "data": {
      "image/png": "[encoded data removed]",
      "text/plain": [
       "<Figure size 432x432 with 1 Axes>"
      ]
     },
     "metadata": {
      "needs_background": "light"
     },
     "output_type": "display_data"
    }
   ],
   "source": [
    "mini_dia_bar('Diabetes', 'BMI', 'BMI Score', 'Average BMI Score per Diabetes Status')"
   ]
  },
  {
   "cell_type": "markdown",
   "metadata": {},
   "source": [
    "On average, BMIs are about **15% higher** on those with diabetes."
   ]
  },
  {
   "cell_type": "markdown",
   "metadata": {},
   "source": [
    "#### High Cholesterol and Age vs. Diabetes Status"
   ]
  },
  {
   "cell_type": "code",
   "execution_count": 20,
   "metadata": {},
   "outputs": [
    {
     "data": {
      "image/png": "[encoded data removed]",
      "text/plain": [
       "<Figure size 1440x720 with 1 Axes>"
      ]
     },
     "metadata": {
      "needs_background": "light"
     },
     "output_type": "display_data"
    }
   ],
   "source": [
    "dia_bar(\"Age\", \"HighChol\", 'Diabetes', 'Prevelence of High Cholesterol', 'Prevelence of High Cholesterol per Diabetes Status')"
   ]
  },
  {
   "cell_type": "code",
   "execution_count": 21,
   "metadata": {},
   "outputs": [
    {
     "name": "stdout",
     "output_type": "stream",
     "text": [
      "   Diabetes  HighChol\n",
      "0       0.0  0.380184\n",
      "1       1.0  0.668704\n"
     ]
    },
    {
     "data": {
      "image/png": "[encoded data removed]",
      "text/plain": [
       "<Figure size 432x432 with 1 Axes>"
      ]
     },
     "metadata": {
      "needs_background": "light"
     },
     "output_type": "display_data"
    }
   ],
   "source": [
    "#Find average for parameter for diabetes status \n",
    "mini_dia_bar('Diabetes', \"HighChol\", 'Prevelence of High Cholesterol', 'Prevelence of High Cholesterol per Diabetes Status')"
   ]
  },
  {
   "cell_type": "markdown",
   "metadata": {},
   "source": [
    "Overall, the prevelence of high cholesterol was **75% higher** in those with diabetes than those without (0.380184 vs 0.668704). "
   ]
  },
  {
   "cell_type": "markdown",
   "metadata": {},
   "source": [
    "#### Diabetes Status vs Age"
   ]
  },
  {
   "cell_type": "markdown",
   "metadata": {},
   "source": [
    "Here we can plainly see a gradual incline of the prevelence of diabetes as patients get older. There ia slight decline at the end, which might be explained by the lower life expectancy of those with diabetes [(77 for men, 81 for women)](https://www.diabetes.co.uk/diabetes-life-expectancy.html)"
   ]
  },
  {
   "cell_type": "code",
   "execution_count": 22,
   "metadata": {
    "scrolled": false
   },
   "outputs": [
    {
     "data": {
      "image/png": "[encoded data removed]",
      "text/plain": [
       "<Figure size 1440x720 with 1 Axes>"
      ]
     },
     "metadata": {
      "needs_background": "light"
     },
     "output_type": "display_data"
    }
   ],
   "source": [
    "dia_bar_simple(\"Age\", \"HighChol\", 'Prevelence of Diabetes', 'Prevelence of Diabetes per Age Group')\n"
   ]
  },
  {
   "cell_type": "markdown",
   "metadata": {},
   "source": [
    "#### Mental Health and Age vs Diabetes"
   ]
  },
  {
   "cell_type": "code",
   "execution_count": 23,
   "metadata": {},
   "outputs": [
    {
     "data": {
      "image/png": "[encoded data removed]",
      "text/plain": [
       "<Figure size 1440x720 with 1 Axes>"
      ]
     },
     "metadata": {
      "needs_background": "light"
     },
     "output_type": "display_data"
    }
   ],
   "source": [
    "dia_bar(\"Age\", \"MentHlth\", 'Diabetes', 'Number of Poor Mental Health Days in Past 30 Days', 'Poor Mental Health Days per Diabetes Status')\n"
   ]
  },
  {
   "cell_type": "markdown",
   "metadata": {},
   "source": [
    "This one I find particulary telling and concerning. While some may specilate that someone may be more likely to have diabetes if they have poorer mental health, I would argue that it could go both ways. If you have diabetes, it would be one more stressor to add to your concerns, but having poor mental health could lead to poor physical health habits that could lead the way for diseases such as diabetes. \n"
   ]
  },
  {
   "cell_type": "markdown",
   "metadata": {},
   "source": [
    "\n",
    "#### *Outliers*\n",
    "*While it appears that we have a lot of outliers in our data, I will be keeping them in. These ratings are based on the patients own opinion/perception of how they feel, and if a lot of the outliers end up belonging to one outcome (diabetes vs not), it wouldn't be pertinant to remove them.*"
   ]
  },
  {
   "cell_type": "code",
   "execution_count": 24,
   "metadata": {
    "scrolled": false
   },
   "outputs": [
    {
     "data": {
      "image/png": "[encoded data removed]",
      "text/plain": [
       "<Figure size 432x288 with 1 Axes>"
      ]
     },
     "metadata": {},
     "output_type": "display_data"
    }
   ],
   "source": [
    "# Let's try a box and whiskers plot to get a better visual on outliers\n",
    "sns.set_theme(style=\"ticks\", palette=\"pastel\")\n",
    "\n",
    "# Draw a nested boxplot to show Age vs Poor Mental Health Days with Diabetes status indicated in green\n",
    "sns.boxplot(x=\"Age\", y=\"MentHlth\",\n",
    "            hue=\"Diabetes\", palette=\"flare\",\n",
    "            data=small_data)\n",
    "sns.despine(offset=10, trim=True)"
   ]
  },
  {
   "cell_type": "markdown",
   "metadata": {},
   "source": [
    "One thing I do think is really interesting from this is that while there seems to consistently be outliers for poor mental health days throughout the age groups, the oldest age groups average about 55% fewer poor mental health days than the youngest group, even though they have the highest rates of diabetes. (See below) This could be because they have less stressors in their life that would be present in those who are younger with school/work/home/family obligations and responsibilities. \n",
    "\n",
    "Although those in the youngest category (1.0) had over **7 times less prevelence in diabetes** than the age of top diabetes prevelence (11.0), yet they suffered from about **67% more poor mental health days** (4.22 vs 2.52)."
   ]
  },
  {
   "cell_type": "code",
   "execution_count": 25,
   "metadata": {
    "scrolled": true
   },
   "outputs": [
    {
     "name": "stdout",
     "output_type": "stream",
     "text": [
      "     Age  MentHlth  Diabetes\n",
      "0    1.0  4.224652  0.083499\n",
      "1    2.0  3.982734  0.084892\n",
      "2    3.0  4.003036  0.151822\n",
      "3    4.0  4.336558  0.223220\n",
      "4    5.0  4.500000  0.296591\n",
      "5    6.0  4.714223  0.372256\n",
      "6    7.0  5.067234  0.456841\n",
      "7    8.0  4.919879  0.487737\n",
      "8    9.0  4.195199  0.577663\n",
      "9   10.0  2.995608  0.607430\n",
      "10  11.0  2.528526  0.630773\n",
      "11  12.0  2.397678  0.629536\n",
      "12  13.0  1.848021  0.584391\n"
     ]
    }
   ],
   "source": [
    "ment_mean = small_data[['Age', 'MentHlth','Diabetes']].groupby('Age', as_index=False).mean()\n",
    "print(ment_mean)"
   ]
  },
  {
   "cell_type": "markdown",
   "metadata": {},
   "source": [
    "##### Overall Poor Mental Health Days per Diabetes status\n",
    "\n",
    "As we can see below, in regards to the whole population, those with diabetes reported roughly **47% more poor mental health days than those without diabetes** (3.005885 vs. 4.429978). "
   ]
  },
  {
   "cell_type": "code",
   "execution_count": 29,
   "metadata": {
    "scrolled": false
   },
   "outputs": [
    {
     "name": "stdout",
     "output_type": "stream",
     "text": [
      "   Diabetes  MentHlth\n",
      "0       0.0  3.005885\n",
      "1       1.0  4.429978\n"
     ]
    },
    {
     "data": {
      "image/png": "[encoded data removed]",
      "text/plain": [
       "<Figure size 432x432 with 1 Axes>"
      ]
     },
     "metadata": {},
     "output_type": "display_data"
    }
   ],
   "source": [
    "mini_dia_bar('Diabetes', 'MentHlth', 'Mean Poor Mental Health Days', 'Average Poor Mental Health Days per Diabetes Status')"
   ]
  },
  {
   "cell_type": "markdown",
   "metadata": {},
   "source": [
    "#### Difficulty Walking vs. Diabetes Status"
   ]
  },
  {
   "cell_type": "code",
   "execution_count": 30,
   "metadata": {
    "scrolled": false
   },
   "outputs": [
    {
     "data": {
      "image/png": "[encoded data removed]",
      "text/plain": [
       "<Figure size 1440x720 with 1 Axes>"
      ]
     },
     "metadata": {},
     "output_type": "display_data"
    }
   ],
   "source": [
    "dia_bar(\"Age\", \"DiffWalk\", 'Diabetes', 'Walking Difficulty Rating', 'Walking Difficulty Rating per Diabetes Status')\n"
   ]
  },
  {
   "cell_type": "markdown",
   "metadata": {},
   "source": [
    "I think it's so fascinating (though perhaps not too suprising), that the incline for those having difficulty walking increases at a much slower and gradual pace for those without diabetes than those with."
   ]
  },
  {
   "cell_type": "code",
   "execution_count": 31,
   "metadata": {
    "scrolled": false
   },
   "outputs": [
    {
     "name": "stdout",
     "output_type": "stream",
     "text": [
      "   Diabetes  DiffWalk\n",
      "0       0.0  0.137668\n",
      "1       1.0  0.370792\n"
     ]
    },
    {
     "data": {
      "image/png": "[encoded data removed]",
      "text/plain": [
       "<Figure size 432x432 with 1 Axes>"
      ]
     },
     "metadata": {},
     "output_type": "display_data"
    }
   ],
   "source": [
    "mini_dia_bar('Diabetes', 'DiffWalk', 'Prevelence of Difficulty Walking', 'Prevelence of Difficulty Walking per Diabetes Status')"
   ]
  },
  {
   "cell_type": "markdown",
   "metadata": {},
   "source": [
    "Those with diabetes are about **169% more likely** to have issues walking than those without diabetes. "
   ]
  },
  {
   "cell_type": "markdown",
   "metadata": {},
   "source": [
    "#### Sex vs. Diabetes Status"
   ]
  },
  {
   "cell_type": "code",
   "execution_count": 32,
   "metadata": {
    "scrolled": false
   },
   "outputs": [
    {
     "name": "stdout",
     "output_type": "stream",
     "text": [
      "   Sex  Diabetes\n",
      "0  0.0  0.476676\n",
      "1  1.0  0.527761\n"
     ]
    },
    {
     "data": {
      "image/png": "[encoded data removed]",
      "text/plain": [
       "<Figure size 432x432 with 1 Axes>"
      ]
     },
     "metadata": {},
     "output_type": "display_data"
    }
   ],
   "source": [
    "mini_dia_bar('Sex', 'Diabetes', 'Prevelence of Diabetes', 'Prevelence of Diabetes versus Sex')"
   ]
  },
  {
   "cell_type": "markdown",
   "metadata": {},
   "source": [
    " Overall, women are about **10% more likely to have diabetes than men.**"
   ]
  },
  {
   "cell_type": "markdown",
   "metadata": {},
   "source": [
    "## 3. Data Prep and Feature Engineering<a id='Dataprep'></a>"
   ]
  },
  {
   "cell_type": "markdown",
   "metadata": {},
   "source": [
    "* Assign our x and y\n",
    "* Split into training and testing data\n",
    "* OHE-ing\n",
    "* Scaling via StandardScaler "
   ]
  },
  {
   "cell_type": "code",
   "execution_count": 33,
   "metadata": {},
   "outputs": [
    {
     "name": "stdout",
     "output_type": "stream",
     "text": [
      "Diabetes\n",
      "1.0         14146\n",
      "0.0         14130\n",
      "dtype: int64 \n",
      "\n",
      " Diabetes\n",
      "0.0         3543\n",
      "1.0         3527\n",
      "dtype: int64\n"
     ]
    }
   ],
   "source": [
    "#assign y to diabetes and drop it from the dataframe\n",
    "y = small_data[['Diabetes']]\n",
    "X = small_data.drop('Diabetes', axis=1)\n",
    "X_train, X_test, y_train, y_test = train_test_split(X, y, test_size=0.2, random_state=42)\n",
    "\n",
    "\n",
    "#Let's check on our sample sizes!\n",
    "print(y_train.value_counts(), '\\n\\n', y_test.value_counts())"
   ]
  },
  {
   "cell_type": "markdown",
   "metadata": {},
   "source": [
    "### OHE-ing"
   ]
  },
  {
   "cell_type": "markdown",
   "metadata": {
    "heading_collapsed": true
   },
   "source": [
    "#### OHE function"
   ]
  },
  {
   "cell_type": "code",
   "execution_count": 34,
   "metadata": {
    "hidden": true
   },
   "outputs": [
    {
     "data": {
      "text/html": [
       "<div>\n",
       "<style scoped>\n",
       "    .dataframe tbody tr th:only-of-type {\n",
       "        vertical-align: middle;\n",
       "    }\n",
       "\n",
       "    .dataframe tbody tr th {\n",
       "        vertical-align: top;\n",
       "    }\n",
       "\n",
       "    .dataframe thead th {\n",
       "        text-align: right;\n",
       "    }\n",
       "</style>\n",
       "<table border=\"1\" class=\"dataframe\">\n",
       "  <thead>\n",
       "    <tr style=\"text-align: right;\">\n",
       "      <th></th>\n",
       "      <th>Sex</th>\n",
       "      <th>HighChol</th>\n",
       "      <th>CholCheck</th>\n",
       "      <th>BMI</th>\n",
       "      <th>Smoker</th>\n",
       "      <th>HeartDiseaseorAttack</th>\n",
       "      <th>PhysActivity</th>\n",
       "      <th>Fruits</th>\n",
       "      <th>Veggies</th>\n",
       "      <th>HvyAlcoholConsump</th>\n",
       "      <th>...</th>\n",
       "      <th>x0_8.0</th>\n",
       "      <th>x0_9.0</th>\n",
       "      <th>x0_10.0</th>\n",
       "      <th>x0_11.0</th>\n",
       "      <th>x0_12.0</th>\n",
       "      <th>x0_13.0</th>\n",
       "      <th>x1_2.0</th>\n",
       "      <th>x1_3.0</th>\n",
       "      <th>x1_4.0</th>\n",
       "      <th>x1_5.0</th>\n",
       "    </tr>\n",
       "  </thead>\n",
       "  <tbody>\n",
       "    <tr>\n",
       "      <th>21824</th>\n",
       "      <td>1.0</td>\n",
       "      <td>1.0</td>\n",
       "      <td>1.0</td>\n",
       "      <td>30.0</td>\n",
       "      <td>1.0</td>\n",
       "      <td>0.0</td>\n",
       "      <td>1.0</td>\n",
       "      <td>0.0</td>\n",
       "      <td>1.0</td>\n",
       "      <td>0.0</td>\n",
       "      <td>...</td>\n",
       "      <td>0.0</td>\n",
       "      <td>0.0</td>\n",
       "      <td>0.0</td>\n",
       "      <td>1.0</td>\n",
       "      <td>0.0</td>\n",
       "      <td>0.0</td>\n",
       "      <td>0.0</td>\n",
       "      <td>0.0</td>\n",
       "      <td>1.0</td>\n",
       "      <td>0.0</td>\n",
       "    </tr>\n",
       "    <tr>\n",
       "      <th>24421</th>\n",
       "      <td>0.0</td>\n",
       "      <td>0.0</td>\n",
       "      <td>1.0</td>\n",
       "      <td>28.0</td>\n",
       "      <td>1.0</td>\n",
       "      <td>1.0</td>\n",
       "      <td>0.0</td>\n",
       "      <td>1.0</td>\n",
       "      <td>1.0</td>\n",
       "      <td>0.0</td>\n",
       "      <td>...</td>\n",
       "      <td>0.0</td>\n",
       "      <td>0.0</td>\n",
       "      <td>0.0</td>\n",
       "      <td>0.0</td>\n",
       "      <td>1.0</td>\n",
       "      <td>0.0</td>\n",
       "      <td>0.0</td>\n",
       "      <td>1.0</td>\n",
       "      <td>0.0</td>\n",
       "      <td>0.0</td>\n",
       "    </tr>\n",
       "    <tr>\n",
       "      <th>16313</th>\n",
       "      <td>0.0</td>\n",
       "      <td>0.0</td>\n",
       "      <td>1.0</td>\n",
       "      <td>26.0</td>\n",
       "      <td>0.0</td>\n",
       "      <td>0.0</td>\n",
       "      <td>1.0</td>\n",
       "      <td>1.0</td>\n",
       "      <td>0.0</td>\n",
       "      <td>0.0</td>\n",
       "      <td>...</td>\n",
       "      <td>0.0</td>\n",
       "      <td>0.0</td>\n",
       "      <td>0.0</td>\n",
       "      <td>0.0</td>\n",
       "      <td>0.0</td>\n",
       "      <td>0.0</td>\n",
       "      <td>0.0</td>\n",
       "      <td>0.0</td>\n",
       "      <td>0.0</td>\n",
       "      <td>0.0</td>\n",
       "    </tr>\n",
       "    <tr>\n",
       "      <th>25627</th>\n",
       "      <td>1.0</td>\n",
       "      <td>1.0</td>\n",
       "      <td>1.0</td>\n",
       "      <td>27.0</td>\n",
       "      <td>1.0</td>\n",
       "      <td>1.0</td>\n",
       "      <td>1.0</td>\n",
       "      <td>0.0</td>\n",
       "      <td>1.0</td>\n",
       "      <td>0.0</td>\n",
       "      <td>...</td>\n",
       "      <td>0.0</td>\n",
       "      <td>0.0</td>\n",
       "      <td>1.0</td>\n",
       "      <td>0.0</td>\n",
       "      <td>0.0</td>\n",
       "      <td>0.0</td>\n",
       "      <td>1.0</td>\n",
       "      <td>0.0</td>\n",
       "      <td>0.0</td>\n",
       "      <td>0.0</td>\n",
       "    </tr>\n",
       "    <tr>\n",
       "      <th>14170</th>\n",
       "      <td>0.0</td>\n",
       "      <td>1.0</td>\n",
       "      <td>1.0</td>\n",
       "      <td>34.0</td>\n",
       "      <td>1.0</td>\n",
       "      <td>0.0</td>\n",
       "      <td>1.0</td>\n",
       "      <td>0.0</td>\n",
       "      <td>1.0</td>\n",
       "      <td>0.0</td>\n",
       "      <td>...</td>\n",
       "      <td>0.0</td>\n",
       "      <td>1.0</td>\n",
       "      <td>0.0</td>\n",
       "      <td>0.0</td>\n",
       "      <td>0.0</td>\n",
       "      <td>0.0</td>\n",
       "      <td>1.0</td>\n",
       "      <td>0.0</td>\n",
       "      <td>0.0</td>\n",
       "      <td>0.0</td>\n",
       "    </tr>\n",
       "  </tbody>\n",
       "</table>\n",
       "<p>5 rows × 31 columns</p>\n",
       "</div>"
      ],
      "text/plain": [
       "       Sex  HighChol  CholCheck   BMI  Smoker  HeartDiseaseorAttack  \\\n",
       "21824  1.0       1.0        1.0  30.0     1.0                   0.0   \n",
       "24421  0.0       0.0        1.0  28.0     1.0                   1.0   \n",
       "16313  0.0       0.0        1.0  26.0     0.0                   0.0   \n",
       "25627  1.0       1.0        1.0  27.0     1.0                   1.0   \n",
       "14170  0.0       1.0        1.0  34.0     1.0                   0.0   \n",
       "\n",
       "       PhysActivity  Fruits  Veggies  HvyAlcoholConsump  ...  x0_8.0  x0_9.0  \\\n",
       "21824           1.0     0.0      1.0                0.0  ...     0.0     0.0   \n",
       "24421           0.0     1.0      1.0                0.0  ...     0.0     0.0   \n",
       "16313           1.0     1.0      0.0                0.0  ...     0.0     0.0   \n",
       "25627           1.0     0.0      1.0                0.0  ...     0.0     0.0   \n",
       "14170           1.0     0.0      1.0                0.0  ...     0.0     1.0   \n",
       "\n",
       "       x0_10.0  x0_11.0  x0_12.0  x0_13.0  x1_2.0  x1_3.0  x1_4.0  x1_5.0  \n",
       "21824      0.0      1.0      0.0      0.0     0.0     0.0     1.0     0.0  \n",
       "24421      0.0      0.0      1.0      0.0     0.0     1.0     0.0     0.0  \n",
       "16313      0.0      0.0      0.0      0.0     0.0     0.0     0.0     0.0  \n",
       "25627      1.0      0.0      0.0      0.0     1.0     0.0     0.0     0.0  \n",
       "14170      0.0      0.0      0.0      0.0     1.0     0.0     0.0     0.0  \n",
       "\n",
       "[5 rows x 31 columns]"
      ]
     },
     "execution_count": 34,
     "metadata": {},
     "output_type": "execute_result"
    }
   ],
   "source": [
    "#select all object type/catagorical features and OHE them\n",
    "data_cat = pd.DataFrame(X_train, columns=['Age', 'GenHlth'])\n",
    "\n",
    "ohe = OneHotEncoder(drop='first', #to save from multicolinearty\n",
    "                    sparse = False) #by default sparse=True #sparse is a way to efficiently store 1's and 0's when you have a ton of columns with 1's and 0's\n",
    "#fitting it on the categories here and transforming it on said categories\n",
    "ohe_data = ohe.fit_transform(data_cat)\n",
    "#create dummies\n",
    "ohe_data_df=pd.DataFrame(ohe_data,\n",
    "                     columns=ohe.get_feature_names(),\n",
    "                     index=data_cat.index)#make sure to pass an index\n",
    "\n",
    "already_clean_data = X_train.drop(['Age', 'GenHlth'], axis=1)\n",
    "#putting nums and dums dataframes back together, axis = 1 means it will be added from left to right\n",
    "X_train = pd.concat([already_clean_data, ohe_data_df], axis=1)\n",
    "#Check it out!\n",
    "X_train.head()\n",
    "\n",
    "\n"
   ]
  },
  {
   "cell_type": "code",
   "execution_count": 35,
   "metadata": {
    "hidden": true
   },
   "outputs": [
    {
     "data": {
      "text/html": [
       "<div>\n",
       "<style scoped>\n",
       "    .dataframe tbody tr th:only-of-type {\n",
       "        vertical-align: middle;\n",
       "    }\n",
       "\n",
       "    .dataframe tbody tr th {\n",
       "        vertical-align: top;\n",
       "    }\n",
       "\n",
       "    .dataframe thead th {\n",
       "        text-align: right;\n",
       "    }\n",
       "</style>\n",
       "<table border=\"1\" class=\"dataframe\">\n",
       "  <thead>\n",
       "    <tr style=\"text-align: right;\">\n",
       "      <th></th>\n",
       "      <th>Sex</th>\n",
       "      <th>HighChol</th>\n",
       "      <th>CholCheck</th>\n",
       "      <th>BMI</th>\n",
       "      <th>Smoker</th>\n",
       "      <th>HeartDiseaseorAttack</th>\n",
       "      <th>PhysActivity</th>\n",
       "      <th>Fruits</th>\n",
       "      <th>Veggies</th>\n",
       "      <th>HvyAlcoholConsump</th>\n",
       "      <th>...</th>\n",
       "      <th>x0_8.0</th>\n",
       "      <th>x0_9.0</th>\n",
       "      <th>x0_10.0</th>\n",
       "      <th>x0_11.0</th>\n",
       "      <th>x0_12.0</th>\n",
       "      <th>x0_13.0</th>\n",
       "      <th>x1_2.0</th>\n",
       "      <th>x1_3.0</th>\n",
       "      <th>x1_4.0</th>\n",
       "      <th>x1_5.0</th>\n",
       "    </tr>\n",
       "  </thead>\n",
       "  <tbody>\n",
       "    <tr>\n",
       "      <th>19946</th>\n",
       "      <td>1.0</td>\n",
       "      <td>1.0</td>\n",
       "      <td>1.0</td>\n",
       "      <td>28.0</td>\n",
       "      <td>1.0</td>\n",
       "      <td>0.0</td>\n",
       "      <td>1.0</td>\n",
       "      <td>0.0</td>\n",
       "      <td>0.0</td>\n",
       "      <td>0.0</td>\n",
       "      <td>...</td>\n",
       "      <td>0.0</td>\n",
       "      <td>0.0</td>\n",
       "      <td>1.0</td>\n",
       "      <td>0.0</td>\n",
       "      <td>0.0</td>\n",
       "      <td>0.0</td>\n",
       "      <td>1.0</td>\n",
       "      <td>0.0</td>\n",
       "      <td>0.0</td>\n",
       "      <td>0.0</td>\n",
       "    </tr>\n",
       "    <tr>\n",
       "      <th>2448</th>\n",
       "      <td>0.0</td>\n",
       "      <td>1.0</td>\n",
       "      <td>1.0</td>\n",
       "      <td>34.0</td>\n",
       "      <td>0.0</td>\n",
       "      <td>0.0</td>\n",
       "      <td>0.0</td>\n",
       "      <td>0.0</td>\n",
       "      <td>1.0</td>\n",
       "      <td>0.0</td>\n",
       "      <td>...</td>\n",
       "      <td>0.0</td>\n",
       "      <td>0.0</td>\n",
       "      <td>0.0</td>\n",
       "      <td>0.0</td>\n",
       "      <td>0.0</td>\n",
       "      <td>0.0</td>\n",
       "      <td>1.0</td>\n",
       "      <td>0.0</td>\n",
       "      <td>0.0</td>\n",
       "      <td>0.0</td>\n",
       "    </tr>\n",
       "    <tr>\n",
       "      <th>21135</th>\n",
       "      <td>1.0</td>\n",
       "      <td>1.0</td>\n",
       "      <td>1.0</td>\n",
       "      <td>36.0</td>\n",
       "      <td>0.0</td>\n",
       "      <td>1.0</td>\n",
       "      <td>1.0</td>\n",
       "      <td>0.0</td>\n",
       "      <td>1.0</td>\n",
       "      <td>0.0</td>\n",
       "      <td>...</td>\n",
       "      <td>1.0</td>\n",
       "      <td>0.0</td>\n",
       "      <td>0.0</td>\n",
       "      <td>0.0</td>\n",
       "      <td>0.0</td>\n",
       "      <td>0.0</td>\n",
       "      <td>0.0</td>\n",
       "      <td>0.0</td>\n",
       "      <td>1.0</td>\n",
       "      <td>0.0</td>\n",
       "    </tr>\n",
       "    <tr>\n",
       "      <th>21718</th>\n",
       "      <td>0.0</td>\n",
       "      <td>1.0</td>\n",
       "      <td>1.0</td>\n",
       "      <td>30.0</td>\n",
       "      <td>1.0</td>\n",
       "      <td>1.0</td>\n",
       "      <td>1.0</td>\n",
       "      <td>1.0</td>\n",
       "      <td>1.0</td>\n",
       "      <td>0.0</td>\n",
       "      <td>...</td>\n",
       "      <td>0.0</td>\n",
       "      <td>0.0</td>\n",
       "      <td>0.0</td>\n",
       "      <td>0.0</td>\n",
       "      <td>0.0</td>\n",
       "      <td>1.0</td>\n",
       "      <td>0.0</td>\n",
       "      <td>1.0</td>\n",
       "      <td>0.0</td>\n",
       "      <td>0.0</td>\n",
       "    </tr>\n",
       "    <tr>\n",
       "      <th>4984</th>\n",
       "      <td>1.0</td>\n",
       "      <td>1.0</td>\n",
       "      <td>1.0</td>\n",
       "      <td>27.0</td>\n",
       "      <td>1.0</td>\n",
       "      <td>0.0</td>\n",
       "      <td>1.0</td>\n",
       "      <td>0.0</td>\n",
       "      <td>1.0</td>\n",
       "      <td>1.0</td>\n",
       "      <td>...</td>\n",
       "      <td>0.0</td>\n",
       "      <td>0.0</td>\n",
       "      <td>1.0</td>\n",
       "      <td>0.0</td>\n",
       "      <td>0.0</td>\n",
       "      <td>0.0</td>\n",
       "      <td>1.0</td>\n",
       "      <td>0.0</td>\n",
       "      <td>0.0</td>\n",
       "      <td>0.0</td>\n",
       "    </tr>\n",
       "  </tbody>\n",
       "</table>\n",
       "<p>5 rows × 31 columns</p>\n",
       "</div>"
      ],
      "text/plain": [
       "       Sex  HighChol  CholCheck   BMI  Smoker  HeartDiseaseorAttack  \\\n",
       "19946  1.0       1.0        1.0  28.0     1.0                   0.0   \n",
       "2448   0.0       1.0        1.0  34.0     0.0                   0.0   \n",
       "21135  1.0       1.0        1.0  36.0     0.0                   1.0   \n",
       "21718  0.0       1.0        1.0  30.0     1.0                   1.0   \n",
       "4984   1.0       1.0        1.0  27.0     1.0                   0.0   \n",
       "\n",
       "       PhysActivity  Fruits  Veggies  HvyAlcoholConsump  ...  x0_8.0  x0_9.0  \\\n",
       "19946           1.0     0.0      0.0                0.0  ...     0.0     0.0   \n",
       "2448            0.0     0.0      1.0                0.0  ...     0.0     0.0   \n",
       "21135           1.0     0.0      1.0                0.0  ...     1.0     0.0   \n",
       "21718           1.0     1.0      1.0                0.0  ...     0.0     0.0   \n",
       "4984            1.0     0.0      1.0                1.0  ...     0.0     0.0   \n",
       "\n",
       "       x0_10.0  x0_11.0  x0_12.0  x0_13.0  x1_2.0  x1_3.0  x1_4.0  x1_5.0  \n",
       "19946      1.0      0.0      0.0      0.0     1.0     0.0     0.0     0.0  \n",
       "2448       0.0      0.0      0.0      0.0     1.0     0.0     0.0     0.0  \n",
       "21135      0.0      0.0      0.0      0.0     0.0     0.0     1.0     0.0  \n",
       "21718      0.0      0.0      0.0      1.0     0.0     1.0     0.0     0.0  \n",
       "4984       1.0      0.0      0.0      0.0     1.0     0.0     0.0     0.0  \n",
       "\n",
       "[5 rows x 31 columns]"
      ]
     },
     "execution_count": 35,
     "metadata": {},
     "output_type": "execute_result"
    }
   ],
   "source": [
    "#select all object type/catagorical features and OHE them\n",
    "data_cat = pd.DataFrame(X_test, columns=['Age', 'GenHlth'])\n",
    "\n",
    "ohe = OneHotEncoder(drop='first', #to save from multicolinearty\n",
    "                    sparse = False) #by default sparse=True #sparse is a way to efficiently store 1's and 0's when you have a ton of columns with 1's and 0's\n",
    "#fitting it on the categories here and transforming it on said categories\n",
    "dums = ohe.fit_transform(data_cat)\n",
    "#create dummies\n",
    "dums_df=pd.DataFrame(dums,\n",
    "                     columns=ohe.get_feature_names(),\n",
    "                     index=data_cat.index)#make sure to pass an index\n",
    "\n",
    "already_clean_data = X_test.drop(['Age', 'GenHlth'], axis=1)\n",
    "#putting nums and dums dataframes back together, axis = 1 means it will be added from left to right\n",
    "X_test = pd.concat([already_clean_data, dums_df], axis=1)\n",
    "#Check it out!\n",
    "X_test.head()\n",
    "\n",
    "\n"
   ]
  },
  {
   "cell_type": "markdown",
   "metadata": {
    "hidden": true
   },
   "source": [
    "The one downside to OHE is that when it makes the new columns for the dummies, it assigns numbered x's instead of column names, so it becomes a huge pain to read. Here is a bit of help for this one:\n",
    "* \"Age\" = x0\n",
    "* \"GenHlth\" = x1"
   ]
  },
  {
   "cell_type": "markdown",
   "metadata": {
    "heading_collapsed": true
   },
   "source": [
    "#### Storing copy of X_train for later"
   ]
  },
  {
   "cell_type": "code",
   "execution_count": 45,
   "metadata": {
    "hidden": true,
    "scrolled": true
   },
   "outputs": [],
   "source": [
    "#Make a new small sample df before\n",
    "X_train_copy = X_train.iloc[:10]"
   ]
  },
  {
   "cell_type": "code",
   "execution_count": 46,
   "metadata": {
    "hidden": true
   },
   "outputs": [
    {
     "data": {
      "text/html": [
       "<div>\n",
       "<style scoped>\n",
       "    .dataframe tbody tr th:only-of-type {\n",
       "        vertical-align: middle;\n",
       "    }\n",
       "\n",
       "    .dataframe tbody tr th {\n",
       "        vertical-align: top;\n",
       "    }\n",
       "\n",
       "    .dataframe thead th {\n",
       "        text-align: right;\n",
       "    }\n",
       "</style>\n",
       "<table border=\"1\" class=\"dataframe\">\n",
       "  <thead>\n",
       "    <tr style=\"text-align: right;\">\n",
       "      <th></th>\n",
       "      <th>Sex</th>\n",
       "      <th>HighChol</th>\n",
       "      <th>CholCheck</th>\n",
       "      <th>BMI</th>\n",
       "      <th>Smoker</th>\n",
       "      <th>HeartDiseaseorAttack</th>\n",
       "      <th>PhysActivity</th>\n",
       "      <th>Fruits</th>\n",
       "      <th>Veggies</th>\n",
       "      <th>HvyAlcoholConsump</th>\n",
       "      <th>...</th>\n",
       "      <th>x0_8.0</th>\n",
       "      <th>x0_9.0</th>\n",
       "      <th>x0_10.0</th>\n",
       "      <th>x0_11.0</th>\n",
       "      <th>x0_12.0</th>\n",
       "      <th>x0_13.0</th>\n",
       "      <th>x1_2.0</th>\n",
       "      <th>x1_3.0</th>\n",
       "      <th>x1_4.0</th>\n",
       "      <th>x1_5.0</th>\n",
       "    </tr>\n",
       "  </thead>\n",
       "  <tbody>\n",
       "    <tr>\n",
       "      <th>21824</th>\n",
       "      <td>1.0</td>\n",
       "      <td>1.0</td>\n",
       "      <td>1.0</td>\n",
       "      <td>30.0</td>\n",
       "      <td>1.0</td>\n",
       "      <td>0.0</td>\n",
       "      <td>1.0</td>\n",
       "      <td>0.0</td>\n",
       "      <td>1.0</td>\n",
       "      <td>0.0</td>\n",
       "      <td>...</td>\n",
       "      <td>0.0</td>\n",
       "      <td>0.0</td>\n",
       "      <td>0.0</td>\n",
       "      <td>1.0</td>\n",
       "      <td>0.0</td>\n",
       "      <td>0.0</td>\n",
       "      <td>0.0</td>\n",
       "      <td>0.0</td>\n",
       "      <td>1.0</td>\n",
       "      <td>0.0</td>\n",
       "    </tr>\n",
       "    <tr>\n",
       "      <th>24421</th>\n",
       "      <td>0.0</td>\n",
       "      <td>0.0</td>\n",
       "      <td>1.0</td>\n",
       "      <td>28.0</td>\n",
       "      <td>1.0</td>\n",
       "      <td>1.0</td>\n",
       "      <td>0.0</td>\n",
       "      <td>1.0</td>\n",
       "      <td>1.0</td>\n",
       "      <td>0.0</td>\n",
       "      <td>...</td>\n",
       "      <td>0.0</td>\n",
       "      <td>0.0</td>\n",
       "      <td>0.0</td>\n",
       "      <td>0.0</td>\n",
       "      <td>1.0</td>\n",
       "      <td>0.0</td>\n",
       "      <td>0.0</td>\n",
       "      <td>1.0</td>\n",
       "      <td>0.0</td>\n",
       "      <td>0.0</td>\n",
       "    </tr>\n",
       "    <tr>\n",
       "      <th>16313</th>\n",
       "      <td>0.0</td>\n",
       "      <td>0.0</td>\n",
       "      <td>1.0</td>\n",
       "      <td>26.0</td>\n",
       "      <td>0.0</td>\n",
       "      <td>0.0</td>\n",
       "      <td>1.0</td>\n",
       "      <td>1.0</td>\n",
       "      <td>0.0</td>\n",
       "      <td>0.0</td>\n",
       "      <td>...</td>\n",
       "      <td>0.0</td>\n",
       "      <td>0.0</td>\n",
       "      <td>0.0</td>\n",
       "      <td>0.0</td>\n",
       "      <td>0.0</td>\n",
       "      <td>0.0</td>\n",
       "      <td>0.0</td>\n",
       "      <td>0.0</td>\n",
       "      <td>0.0</td>\n",
       "      <td>0.0</td>\n",
       "    </tr>\n",
       "    <tr>\n",
       "      <th>25627</th>\n",
       "      <td>1.0</td>\n",
       "      <td>1.0</td>\n",
       "      <td>1.0</td>\n",
       "      <td>27.0</td>\n",
       "      <td>1.0</td>\n",
       "      <td>1.0</td>\n",
       "      <td>1.0</td>\n",
       "      <td>0.0</td>\n",
       "      <td>1.0</td>\n",
       "      <td>0.0</td>\n",
       "      <td>...</td>\n",
       "      <td>0.0</td>\n",
       "      <td>0.0</td>\n",
       "      <td>1.0</td>\n",
       "      <td>0.0</td>\n",
       "      <td>0.0</td>\n",
       "      <td>0.0</td>\n",
       "      <td>1.0</td>\n",
       "      <td>0.0</td>\n",
       "      <td>0.0</td>\n",
       "      <td>0.0</td>\n",
       "    </tr>\n",
       "    <tr>\n",
       "      <th>14170</th>\n",
       "      <td>0.0</td>\n",
       "      <td>1.0</td>\n",
       "      <td>1.0</td>\n",
       "      <td>34.0</td>\n",
       "      <td>1.0</td>\n",
       "      <td>0.0</td>\n",
       "      <td>1.0</td>\n",
       "      <td>0.0</td>\n",
       "      <td>1.0</td>\n",
       "      <td>0.0</td>\n",
       "      <td>...</td>\n",
       "      <td>0.0</td>\n",
       "      <td>1.0</td>\n",
       "      <td>0.0</td>\n",
       "      <td>0.0</td>\n",
       "      <td>0.0</td>\n",
       "      <td>0.0</td>\n",
       "      <td>1.0</td>\n",
       "      <td>0.0</td>\n",
       "      <td>0.0</td>\n",
       "      <td>0.0</td>\n",
       "    </tr>\n",
       "  </tbody>\n",
       "</table>\n",
       "<p>5 rows × 31 columns</p>\n",
       "</div>"
      ],
      "text/plain": [
       "       Sex  HighChol  CholCheck   BMI  Smoker  HeartDiseaseorAttack  \\\n",
       "21824  1.0       1.0        1.0  30.0     1.0                   0.0   \n",
       "24421  0.0       0.0        1.0  28.0     1.0                   1.0   \n",
       "16313  0.0       0.0        1.0  26.0     0.0                   0.0   \n",
       "25627  1.0       1.0        1.0  27.0     1.0                   1.0   \n",
       "14170  0.0       1.0        1.0  34.0     1.0                   0.0   \n",
       "\n",
       "       PhysActivity  Fruits  Veggies  HvyAlcoholConsump  ...  x0_8.0  x0_9.0  \\\n",
       "21824           1.0     0.0      1.0                0.0  ...     0.0     0.0   \n",
       "24421           0.0     1.0      1.0                0.0  ...     0.0     0.0   \n",
       "16313           1.0     1.0      0.0                0.0  ...     0.0     0.0   \n",
       "25627           1.0     0.0      1.0                0.0  ...     0.0     0.0   \n",
       "14170           1.0     0.0      1.0                0.0  ...     0.0     1.0   \n",
       "\n",
       "       x0_10.0  x0_11.0  x0_12.0  x0_13.0  x1_2.0  x1_3.0  x1_4.0  x1_5.0  \n",
       "21824      0.0      1.0      0.0      0.0     0.0     0.0     1.0     0.0  \n",
       "24421      0.0      0.0      1.0      0.0     0.0     1.0     0.0     0.0  \n",
       "16313      0.0      0.0      0.0      0.0     0.0     0.0     0.0     0.0  \n",
       "25627      1.0      0.0      0.0      0.0     1.0     0.0     0.0     0.0  \n",
       "14170      0.0      0.0      0.0      0.0     1.0     0.0     0.0     0.0  \n",
       "\n",
       "[5 rows x 31 columns]"
      ]
     },
     "execution_count": 46,
     "metadata": {},
     "output_type": "execute_result"
    }
   ],
   "source": [
    "#Check that it looks ok\n",
    "X_train_copy.head()"
   ]
  },
  {
   "cell_type": "markdown",
   "metadata": {
    "heading_collapsed": true
   },
   "source": [
    "#### Scaling"
   ]
  },
  {
   "cell_type": "code",
   "execution_count": null,
   "metadata": {
    "hidden": true
   },
   "outputs": [],
   "source": [
    "#Scaling before modeling\n",
    "sc = StandardScaler()\n",
    "X_train = sc.fit_transform(X_train)\n",
    "X_test = sc.transform(X_test)"
   ]
  },
  {
   "cell_type": "markdown",
   "metadata": {},
   "source": [
    "## 4. Models<a id='Modeling'></a>"
   ]
  },
  {
   "cell_type": "markdown",
   "metadata": {},
   "source": [
    "We are going to play around with some different types of models, and tweak them and their hyperparameters to see how they fair. We will go in this order:\n",
    "1. [Logistic Regression](#lr)\n",
    "   * [GridSearch (GridSearchCV)](#gscv_lr) - To help find the best parameters to use in our model\n",
    "    \n",
    "2. [Random Forrest (RandomForrestClassifier)](#rf)\n",
    "   * [GridSearch (GridSearchCV)](#gscv_dt) - To help find the best parameters to use in our model\n",
    "3. [XG Boost](#xgboost)\n",
    "   * [GridSearch (GridSearchCV)](#gscv_lr) - To help find the best parameters to use in our model\n",
    "4. [LogitBoost](#logit)"
   ]
  },
  {
   "cell_type": "markdown",
   "metadata": {},
   "source": [
    "### Fancy Functions : Model Results\n",
    "But first, let's define what we would like to look at for each model we run to help us save on codespace and time."
   ]
  },
  {
   "cell_type": "code",
   "execution_count": 40,
   "metadata": {},
   "outputs": [],
   "source": [
    "def model_results(model):\n",
    "    \n",
    "    with plt.style.context('seaborn-talk'):\n",
    "        fig, (ax1, ax2) = plt.subplots(ncols=2, figsize=(15, 5))\n",
    "\n",
    "        # Create Confusion Matrix for the test set\n",
    "        plot_confusion_matrix(model, X_test, y_test, normalize = 'true', ax=ax1,  cmap = 'flare') \n",
    "        ax1.grid(False) \n",
    "        ax1.set_title(\"Test Confusion Matrix\")\n",
    "\n",
    "                \n",
    "        # Create Roc curve for the test and train for TP and FP rates\n",
    "        plot_roc_curve(model, X_train, y_train, ax=ax2, color='green', name ='Train ROC curve')\n",
    "        plot_roc_curve(model, X_test, y_test, ax=ax2, color = 'blue', name ='Test ROC curve' )\n",
    "        ax2.plot([0, 1], [0, 1], color='black', lw=2, linestyle='-')\n",
    "        ax2.set_xlabel('False Positive Rate')\n",
    "        ax2.set_ylabel('True Positive Rate')\n",
    "        ax2.set_title('Receiver Operating Characteristic (ROC) Curve')\n",
    "        plt.show()\n",
    "        \n",
    "        #Create a classification report\n",
    "        y_pred = model.predict(X_test)\n",
    "        print(classification_report(y_test, y_pred))\n",
    "        \n",
    "        \n",
    "        ######***NEW LINE*** Print CV ROC_AUC score, and roc_auc score for test/train\n",
    "        \n",
    "        #Print CV ROC_AUC score\n",
    "        roc_score_train_cv = cross_val_score(estimator=model, X=X_train,  y=y_train, \n",
    "                                        cv=StratifiedKFold(shuffle=True), scoring='roc_auc').mean()\n",
    "        print(f\"Mean Cross Validated Roc_Auc Score: {roc_score_train_cv :.0%}\")  \n",
    "\n",
    "        #print roc_auc for test and train \n",
    "        roc_score_train = roc_auc_score(y_train, model.predict_proba(X_train)[:, 1]) \n",
    "        print(f\"Train Roc_Auc Score: {roc_score_train :.0%}\")  \n",
    "\n",
    "        roc_score_test = roc_auc_score(y_test, model.predict_proba(X_test)[:, 1])\n",
    "        print(f\"Test Roc_Auc Score: {roc_score_test :.0%}\")  \n",
    "        \n",
    "        accuracy_train = model.score(X_train, y_train)\n",
    "        accuracy_test = model.score(X_test, y_test)\n",
    "        print(f\"Train Accuracy Score: {accuracy_train :.0%}\")\n",
    "        print(f\"Test Accuracy Score: {accuracy_test :.0%}\")"
   ]
  },
  {
   "cell_type": "markdown",
   "metadata": {},
   "source": [
    "### Model #1: Logistic Regression<a id='lr'></a>"
   ]
  },
  {
   "cell_type": "markdown",
   "metadata": {},
   "source": [
    "First up is the classic Logistic Regression. We will start off with default settings (except for the random_state). \n",
    "\n",
    "Logistic regression is a popular classification method in statistics that is used to predict the **probability of an outcome** by fitting data to a logistic function."
   ]
  },
  {
   "cell_type": "code",
   "execution_count": null,
   "metadata": {},
   "outputs": [],
   "source": [
    "#basic logistic regression model\n",
    "lr = LogisticRegression(random_state=42)\n",
    "\n",
    "#Fit to information\n",
    "lr.fit(X_train, y_train)"
   ]
  },
  {
   "cell_type": "markdown",
   "metadata": {},
   "source": [
    "After fitting to the data, we can now see the results of the baseline model. "
   ]
  },
  {
   "cell_type": "code",
   "execution_count": null,
   "metadata": {
    "scrolled": false
   },
   "outputs": [],
   "source": [
    "model_results(lr)"
   ]
  },
  {
   "cell_type": "markdown",
   "metadata": {},
   "source": [
    "So our CV Roc_Auc score is over 80%, which is pretty great out of the gate!\n",
    "\n",
    "Overall, not too shabby, but since train scores are a smidge higher than test scores, it's evident that we are **slightly overfitting**."
   ]
  },
  {
   "cell_type": "markdown",
   "metadata": {},
   "source": [
    "##### Gridsearch Optimization for LogisticRegression Model <a id='gscv_lr'></a>\n",
    "Let's see if we can tune our LR parameters to improve our scores. We will use Gridsearch to go thru these parameters to find the most optimal ones to use. "
   ]
  },
  {
   "cell_type": "code",
   "execution_count": null,
   "metadata": {},
   "outputs": [],
   "source": [
    "param_grid_lr = {\n",
    "    'class_weight': ['balanced'],\n",
    "    'penalty':['l1', 'l2', 'elasticnet'],\n",
    "    'C': [1.0, 2.0]\n",
    "}"
   ]
  },
  {
   "cell_type": "code",
   "execution_count": null,
   "metadata": {},
   "outputs": [],
   "source": [
    "lr_gs = GridSearchCV(estimator=lr, \n",
    "                             param_grid=param_grid_lr, \n",
    "                             verbose=1, cv=10,#calm down, 5 is fine, keep odd \n",
    "                             n_jobs=-1)\n",
    "lr_gs.fit(X_train, y_train)\n"
   ]
  },
  {
   "cell_type": "code",
   "execution_count": null,
   "metadata": {},
   "outputs": [],
   "source": [
    "model_results(lr_gs)"
   ]
  },
  {
   "cell_type": "markdown",
   "metadata": {},
   "source": [
    "#### Hmmm...\n",
    "Our model has slightly improved for the precision for those with diabetes.\n",
    "\n",
    "###### Verdict: *GS did slightly improve model for detection of Diabetes*\n",
    "\n",
    "But while we are here, let's check out the 15 top performing parameters for the base model. "
   ]
  },
  {
   "cell_type": "markdown",
   "metadata": {},
   "source": [
    "The top 15 revolve mostly around GenHlth (x1), Cholesterol Check, High Cholesterol, Age (x0), Physical Health, High BP, Heart Disease or heart attack, stroke, and gender, which isn't super surprising, given what we have seen before with the corellation heatmap. "
   ]
  },
  {
   "cell_type": "markdown",
   "metadata": {},
   "source": [
    "### Model #2: Random Forrest Model<a id='rf'></a>"
   ]
  },
  {
   "cell_type": "markdown",
   "metadata": {},
   "source": [
    "Random Forrest Model is an ensemble learning method for classification, regression and other tasks that operates by constructing a multitude of decision trees at training time. For classification tasks, the output of the random forest is the class selected by most trees. ([Source](\"https://en.wikipedia.org/wiki/Random_forest\"))"
   ]
  },
  {
   "cell_type": "code",
   "execution_count": null,
   "metadata": {},
   "outputs": [],
   "source": [
    "rf = RandomForestClassifier(random_state=123)\n",
    "rf.fit(X_train, y_train)"
   ]
  },
  {
   "cell_type": "code",
   "execution_count": null,
   "metadata": {},
   "outputs": [],
   "source": [
    "model_results(rf)"
   ]
  },
  {
   "cell_type": "markdown",
   "metadata": {},
   "source": [
    "As we can see, the ROC came out way too high, indicating that we are ***way overfitting***, and our testing isn't coming out as well as would be prefered. \n",
    "\n",
    "##### Gridsearch Optimization for Random Forrest Model <a id='gscv_rf'></a>\n",
    "\n",
    "Let's see if we can change our DT parameters to improve our scores. We will use Gridsearch to go thru these parameters to find the most optimal ones to use."
   ]
  },
  {
   "cell_type": "code",
   "execution_count": null,
   "metadata": {},
   "outputs": [],
   "source": [
    "grid = [{'max_depth': [4, 5, 6, 7],\n",
    "         'min_samples_split': [2, 5, 10],\n",
    "         'min_samples_leaf': [1, 3, 5]}]\n",
    "\n",
    "#define the gridsearch\n",
    "rf_gs = GridSearchCV(estimator=rf,\n",
    "                          param_grid=grid,\n",
    "                          scoring='accuracy',\n",
    "                          cv=5)\n",
    "#fit the training data\n",
    "rf_gs.fit(X_train, y_train);"
   ]
  },
  {
   "cell_type": "code",
   "execution_count": null,
   "metadata": {
    "scrolled": false
   },
   "outputs": [],
   "source": [
    "model_results(rf_gs)"
   ]
  },
  {
   "cell_type": "markdown",
   "metadata": {},
   "source": [
    "***Considerably better!***\n",
    "\n",
    "Our training scores are still a bit more than our testing scores, so we are overfitting slightly, but our recall for improved across the board slightly, which is great. \n",
    "\n",
    "###### Verdict: *GS did improve model for detection of Diabetes*"
   ]
  },
  {
   "cell_type": "markdown",
   "metadata": {},
   "source": [
    "### Model #3:  XG Boost<a id='xgboost'></a>"
   ]
  },
  {
   "cell_type": "markdown",
   "metadata": {},
   "source": [
    "XGBoost is short for Extreme Gradient Boost and makes use of regularization parameters that helps against overfitting."
   ]
  },
  {
   "cell_type": "code",
   "execution_count": null,
   "metadata": {},
   "outputs": [],
   "source": [
    "xgb = XGBClassifier(random_state=42)\n",
    "xgb.fit(X_train, y_train)"
   ]
  },
  {
   "cell_type": "code",
   "execution_count": null,
   "metadata": {},
   "outputs": [],
   "source": [
    "model_results(xgb)"
   ]
  },
  {
   "cell_type": "markdown",
   "metadata": {},
   "source": [
    "Not a bad start, though overfitting is an issue. Recall is off to a great start, but let's refine. \n",
    "\n",
    "#### Gridsearch Optimization for XG Boost"
   ]
  },
  {
   "cell_type": "code",
   "execution_count": null,
   "metadata": {
    "scrolled": false
   },
   "outputs": [],
   "source": [
    "parameters = {\n",
    "    'n_estimators': [75],              \n",
    "    'learning_rate': [0.05, 0.1, 0.2],  \n",
    "    'max_depth': [4, 5, 6],            \n",
    "    'gamma': [0.5, 1],                 \n",
    "    'min_child_weight': [3, 4, 5], \n",
    "    'subsample': [0.5, 0.75],          \n",
    "    'colsample_bytree':[0.5, 0.75],\n",
    "    'random_state':[42]\n",
    "}\n",
    "\n",
    "better_xgb = GridSearchCV(estimator = xgb,       \n",
    "                        param_grid = parameters,     \n",
    "                        scoring ='roc_auc',          \n",
    "                        cv = 5,\n",
    "                        n_jobs = -1\n",
    ")                      \n",
    "\n",
    "# Train the pipeline (tranformations & predictor)ui0\n",
    "better_xgb.fit(X_train, y_train);\n",
    "model_results(better_xgb)"
   ]
  },
  {
   "cell_type": "markdown",
   "metadata": {},
   "source": [
    "#### Results\n",
    "We are overfitting, but recall is looking better! As a reminder, recall indicates that when you predict that someone has diabetes, you are correct the percentage of what ever your recall is. For example, if you have a recall value of .75, that would mean you correctly predicted that someone had diabetes 79% of the time."
   ]
  },
  {
   "cell_type": "markdown",
   "metadata": {},
   "source": [
    "### Model #4: LogitBoost<a id='logit'></a>"
   ]
  },
  {
   "cell_type": "markdown",
   "metadata": {},
   "source": [
    "Logitboost is a boosting classifying algorithm that uses an ensemble of weighted weak learners to fit a model through additive logistic regression. \n",
    "\n",
    "A key differences between Logitboost and other boosting algorithms such as AdaBoost would be that while Adaboost uses a classification algorithm as a weak learner, LogitBoost uses a regression algorithm as it’s base estimator (if none specified, a decision stump is selected). Furthermore, while AdaBoost minimizes the exponential loss, LogitBoost minimizes the logistic loss. "
   ]
  },
  {
   "cell_type": "code",
   "execution_count": 38,
   "metadata": {},
   "outputs": [
    {
     "data": {
      "text/plain": [
       "LogitBoost(random_state=42)"
      ]
     },
     "execution_count": 38,
     "metadata": {},
     "output_type": "execute_result"
    }
   ],
   "source": [
    "lboost = LogitBoost(random_state=42)\n",
    "lboost.fit(X_train, y_train)"
   ]
  },
  {
   "cell_type": "code",
   "execution_count": 39,
   "metadata": {
    "scrolled": false
   },
   "outputs": [
    {
     "ename": "NameError",
     "evalue": "name 'model_results' is not defined",
     "output_type": "error",
     "traceback": [
      "\u001b[0;31m---------------------------------------------------------------------------\u001b[0m",
      "\u001b[0;31mNameError\u001b[0m                                 Traceback (most recent call last)",
      "\u001b[0;32m<ipython-input-39-8cc0a25f6d5b>\u001b[0m in \u001b[0;36m<module>\u001b[0;34m\u001b[0m\n\u001b[0;32m----> 1\u001b[0;31m \u001b[0mmodel_results\u001b[0m\u001b[0;34m(\u001b[0m\u001b[0mlboost\u001b[0m\u001b[0;34m)\u001b[0m\u001b[0;34m\u001b[0m\u001b[0;34m\u001b[0m\u001b[0m\n\u001b[0m",
      "\u001b[0;31mNameError\u001b[0m: name 'model_results' is not defined"
     ]
    }
   ],
   "source": [
    "model_results(lboost)"
   ]
  },
  {
   "cell_type": "markdown",
   "metadata": {},
   "source": [
    "This is really great! Our recall is looking pretty great, though not as well as other models. \n",
    "\n",
    "### Feature Importance\n",
    "While we are here, let's take another look at feature importances."
   ]
  },
  {
   "cell_type": "code",
   "execution_count": 41,
   "metadata": {},
   "outputs": [
    {
     "ename": "AttributeError",
     "evalue": "'Series' object has no attribute 'columns'",
     "output_type": "error",
     "traceback": [
      "\u001b[0;31m---------------------------------------------------------------------------\u001b[0m",
      "\u001b[0;31mAttributeError\u001b[0m                            Traceback (most recent call last)",
      "\u001b[0;32m<ipython-input-41-ee3d47b4045c>\u001b[0m in \u001b[0;36m<module>\u001b[0;34m\u001b[0m\n\u001b[0;32m----> 1\u001b[0;31m \u001b[0mfeature_imp_lboost\u001b[0m \u001b[0;34m=\u001b[0m \u001b[0mpd\u001b[0m\u001b[0;34m.\u001b[0m\u001b[0mDataFrame\u001b[0m\u001b[0;34m(\u001b[0m\u001b[0mpd\u001b[0m\u001b[0;34m.\u001b[0m\u001b[0mSeries\u001b[0m\u001b[0;34m(\u001b[0m\u001b[0mlboost\u001b[0m\u001b[0;34m.\u001b[0m\u001b[0mfeature_importances_\u001b[0m\u001b[0;34m,\u001b[0m \u001b[0mindex\u001b[0m\u001b[0;34m=\u001b[0m\u001b[0mX_train_copy\u001b[0m\u001b[0;34m.\u001b[0m\u001b[0mcolumns\u001b[0m\u001b[0;34m)\u001b[0m\u001b[0;34m.\u001b[0m\u001b[0msort_values\u001b[0m\u001b[0;34m(\u001b[0m\u001b[0mascending\u001b[0m\u001b[0;34m=\u001b[0m\u001b[0;32mFalse\u001b[0m\u001b[0;34m)\u001b[0m\u001b[0;34m)\u001b[0m\u001b[0;34m\u001b[0m\u001b[0;34m\u001b[0m\u001b[0m\n\u001b[0m\u001b[1;32m      2\u001b[0m \u001b[0mfeature_imp_lboost\u001b[0m \u001b[0;34m=\u001b[0m \u001b[0mfeature_imp_lboost\u001b[0m\u001b[0;34m.\u001b[0m\u001b[0mhead\u001b[0m\u001b[0;34m(\u001b[0m\u001b[0;36m10\u001b[0m\u001b[0;34m)\u001b[0m\u001b[0;34m\u001b[0m\u001b[0;34m\u001b[0m\u001b[0m\n\u001b[1;32m      3\u001b[0m \u001b[0mfeature_imp_lboost\u001b[0m\u001b[0;34m[\u001b[0m\u001b[0;34m'index'\u001b[0m\u001b[0;34m]\u001b[0m \u001b[0;34m=\u001b[0m \u001b[0mfeature_imp_lboost\u001b[0m\u001b[0;34m.\u001b[0m\u001b[0mindex\u001b[0m\u001b[0;34m\u001b[0m\u001b[0;34m\u001b[0m\u001b[0m\n\u001b[1;32m      4\u001b[0m \u001b[0mfeature_imp_lboost\u001b[0m\u001b[0;34m.\u001b[0m\u001b[0mhead\u001b[0m\u001b[0;34m(\u001b[0m\u001b[0;34m)\u001b[0m\u001b[0;34m\u001b[0m\u001b[0;34m\u001b[0m\u001b[0m\n\u001b[1;32m      5\u001b[0m \u001b[0;34m\u001b[0m\u001b[0m\n",
      "\u001b[0;32m~/opt/anaconda3/envs/learn-env/lib/python3.8/site-packages/pandas/core/generic.py\u001b[0m in \u001b[0;36m__getattr__\u001b[0;34m(self, name)\u001b[0m\n\u001b[1;32m   5137\u001b[0m             \u001b[0;32mif\u001b[0m \u001b[0mself\u001b[0m\u001b[0;34m.\u001b[0m\u001b[0m_info_axis\u001b[0m\u001b[0;34m.\u001b[0m\u001b[0m_can_hold_identifiers_and_holds_name\u001b[0m\u001b[0;34m(\u001b[0m\u001b[0mname\u001b[0m\u001b[0;34m)\u001b[0m\u001b[0;34m:\u001b[0m\u001b[0;34m\u001b[0m\u001b[0;34m\u001b[0m\u001b[0m\n\u001b[1;32m   5138\u001b[0m                 \u001b[0;32mreturn\u001b[0m \u001b[0mself\u001b[0m\u001b[0;34m[\u001b[0m\u001b[0mname\u001b[0m\u001b[0;34m]\u001b[0m\u001b[0;34m\u001b[0m\u001b[0;34m\u001b[0m\u001b[0m\n\u001b[0;32m-> 5139\u001b[0;31m             \u001b[0;32mreturn\u001b[0m \u001b[0mobject\u001b[0m\u001b[0;34m.\u001b[0m\u001b[0m__getattribute__\u001b[0m\u001b[0;34m(\u001b[0m\u001b[0mself\u001b[0m\u001b[0;34m,\u001b[0m \u001b[0mname\u001b[0m\u001b[0;34m)\u001b[0m\u001b[0;34m\u001b[0m\u001b[0;34m\u001b[0m\u001b[0m\n\u001b[0m\u001b[1;32m   5140\u001b[0m \u001b[0;34m\u001b[0m\u001b[0m\n\u001b[1;32m   5141\u001b[0m     \u001b[0;32mdef\u001b[0m \u001b[0m__setattr__\u001b[0m\u001b[0;34m(\u001b[0m\u001b[0mself\u001b[0m\u001b[0;34m,\u001b[0m \u001b[0mname\u001b[0m\u001b[0;34m:\u001b[0m \u001b[0mstr\u001b[0m\u001b[0;34m,\u001b[0m \u001b[0mvalue\u001b[0m\u001b[0;34m)\u001b[0m \u001b[0;34m->\u001b[0m \u001b[0;32mNone\u001b[0m\u001b[0;34m:\u001b[0m\u001b[0;34m\u001b[0m\u001b[0;34m\u001b[0m\u001b[0m\n",
      "\u001b[0;31mAttributeError\u001b[0m: 'Series' object has no attribute 'columns'"
     ]
    }
   ],
   "source": [
    "feature_imp_lboost = pd.DataFrame(pd.Series(lboost.feature_importances_, index=X_train_copy.columns).sort_values(ascending=False))\n",
    "feature_imp_lboost = feature_imp_lboost.head(10)\n",
    "feature_imp_lboost['index'] = feature_imp_lboost.index\n",
    "feature_imp_lboost.head()\n",
    "\n",
    "ax = sns.barplot(x=feature_imp_lboost[0], y=feature_imp_lboost['index'], data=feature_imp_lboost, palette=\"flare\")\n",
    "ax.set_xlabel('Level of Importance')\n",
    "ax.set_ylabel('Variable')\n",
    "ax.set_title('Level of Importance per Variable')\n"
   ]
  },
  {
   "cell_type": "markdown",
   "metadata": {
    "heading_collapsed": true
   },
   "source": [
    "#### Takeaway:\n",
    "\n",
    "Here we have a plot of the top 15 features. Because some of these features are a result of OHE, they have \"x\" and then a number for column names. As a reminder, here is a translation: \n",
    "* \"Age\" = x0\n",
    "* \"GenHlth\" = x1\n",
    "\n",
    "What we can take away from this is that **BMI** is the most imporant with **General Health** (on a scale of 1 being good to 5 being the worst) taking the next few top spots. \n",
    "\n",
    "Additionally, whether or not someone has high blood pressure, a recent cholestorol check, high cholesterol, and difficulty walking have substantial impact on the final outcome. "
   ]
  },
  {
   "cell_type": "markdown",
   "metadata": {},
   "source": [
    "## 5. Final Model Selection<a id='final'></a>"
   ]
  },
  {
   "cell_type": "markdown",
   "metadata": {},
   "source": [
    "### Model #3: XGBoost After GridSearchCV"
   ]
  },
  {
   "cell_type": "code",
   "execution_count": null,
   "metadata": {},
   "outputs": [],
   "source": [
    "model_results(better_xgb)"
   ]
  },
  {
   "cell_type": "markdown",
   "metadata": {},
   "source": [
    "#### Why?\n",
    "Recall for true positives was higher than any other model, being able to accurately predict positive diabetes cases at a pretty high rate without greatly impacting our non-diabetic recall rate. This is important because we want to be able to get as many as we can without significantly sacrificing our recall for negative cases, which could lead to a lot of unnessesary testing. While some loss is evident and even expected, it is not at a significant rate in this model."
   ]
  },
  {
   "cell_type": "markdown",
   "metadata": {},
   "source": [
    "#### Feature Importance for Final Model "
   ]
  },
  {
   "cell_type": "code",
   "execution_count": null,
   "metadata": {},
   "outputs": [],
   "source": [
    "feature_imp_xgb = pd.DataFrame(pd.Series(better_xgb.best_estimator_.feature_importances_, index=X_train_copy.columns).sort_values(ascending=False))\n",
    "feature_imp_xgb = feature_imp_xgb.head(10)\n",
    "feature_imp_xgb['index'] = feature_imp_xgb.index\n",
    "feature_imp_xgb.head()\n",
    "\n",
    "ax = sns.barplot(x=feature_imp_xgb[0], y=feature_imp_xgb['index'], data=feature_imp_xgb, palette=\"flare\")\n",
    "ax.set_xlabel('Level of Importance')\n",
    "ax.set_ylabel('Variable')\n",
    "ax.set_title('Level of Importance per Variable')\n"
   ]
  },
  {
   "cell_type": "markdown",
   "metadata": {},
   "source": [
    "As a reminder for our plot:\n",
    "* \"Age\" = x0\n",
    "* \"GenHlth\" = x1\n",
    "\n",
    "It appears with our best model the most important features are **high blood pressure, high cholesterol, poor general health, difficulty walking, a previous heart attack or disease, BMI, and age.** "
   ]
  },
  {
   "cell_type": "markdown",
   "metadata": {},
   "source": [
    "## 6. Business Recommendation:<a id='business'></a>"
   ]
  },
  {
   "cell_type": "markdown",
   "metadata": {},
   "source": [
    "#### Basic Use Function\n",
    "When receiving a new patient or even reviewing updated information for a current patient, doctors and nurses would be able to input the basic data points needed for the model to see if a patient might have diabetes (diagnosed or not). This can be implimented into their workflow via an add-on to software they currently use, or as a standalone application. \n",
    "\n",
    "#### Recommendation\n",
    "You will want to keep an eye out for **high blood pressure, high cholesterol, poor general health, elevated BMI, and difficulty walking, especially in older and female patients.**\n",
    "\n",
    "While this model can be useful for inputting data on new and existing patients, it shows that the most influental parameters could be examined to utilize in an action plan to improve the patients health.\n",
    "\n",
    "For example, while someone cannot make themselves younger or erase a stroke from their medical history, they could work to:\n",
    "* lower their blood pressure\n",
    "* lower their cholesterol\n",
    "* get their BMI to a healthy level\n",
    "* take steps to improve their general physical health\n",
    "* refer to mental health services such as counseling, therapy, etc. as needed"
   ]
  },
  {
   "cell_type": "markdown",
   "metadata": {},
   "source": [
    "## 7. Going further<a id='further'></a>"
   ]
  },
  {
   "cell_type": "markdown",
   "metadata": {},
   "source": [
    "I would like to explore the original data from the original dataset (rather than this subset) and do a bit more exploratory analysis on that. This dataset explored pretty broad topics, but I'd like to see if going into more detail in each topic made more of a difference rather than the broad topic on it's own. \n",
    "\n",
    "In addition, I would like to explore more data derived not from the patients opinion (such as how they personally rate something), but from a measurable quantity (like with BMI) to see if we can get away from possible personal bias. \n",
    "\n",
    "On a more data-centric note, I think next time I will change the column titles after OHE-ing, as continually refering back to my legend got pretty old, pretty fast. \n",
    "\n",
    "**Lastly, thank you for taking the time to read through this, and I hope it helped inform and awaken your curiosity!**"
   ]
  }
 ],
 "metadata": {
  "kernelspec": {
   "display_name": "Python 3",
   "language": "python",
   "name": "python3"
  },
  "language_info": {
   "codemirror_mode": {
    "name": "ipython",
    "version": 3
   },
   "file_extension": ".py",
   "mimetype": "text/x-python",
   "name": "python",
   "nbconvert_exporter": "python",
   "pygments_lexer": "ipython3",
   "version": "3.8.5"
  }
 },
 "nbformat": 4,
 "nbformat_minor": 2
}
