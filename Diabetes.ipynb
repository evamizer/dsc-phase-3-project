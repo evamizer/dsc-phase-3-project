{
 "cells": [
  {
   "cell_type": "markdown",
   "metadata": {
    "heading_collapsed": true
   },
   "source": [
    "## Phase 3 Project Submission - Diabetes or Bust\n",
    "\n",
    "* Student name: Eva Mizer\n",
    "* Student pace: Flex\n",
    "* Scheduled project review date/time: Tuesday, Jan 10th, 10:00am via Zoom\n",
    "* Instructor name: Morgan Jones\n",
    "* Blog post URL: https://www.blogger.com/blog/posts/4845670283059937521?pli=1\n"
   ]
  },
  {
   "cell_type": "markdown",
   "metadata": {},
   "source": [
    "## Introduction"
   ]
  },
  {
   "cell_type": "markdown",
   "metadata": {},
   "source": [
    "### Business Case "
   ]
  },
  {
   "cell_type": "markdown",
   "metadata": {},
   "source": [
    "#### Stake Holders:\n",
    "* Medical facilities such as primary care physician offices, or even other medical care facilities such as convenient care facilities, urgent care facilities, and hospitals. While these are my primary stake holders, it would be within the rhealm of possibility that this model could be used by insurance companies.\n",
    "\n",
    "#### Busniess Problem/Solution:\n",
    "* When receiving a new patient or even reviewing updated information for a current patient, doctors and nurses would be able to input the basic data points needed for the model to see if a patient might have diabetes (diagnosed or not). \n",
    "\n",
    "#### Performance Goals:\n",
    "* **My goal is to make predictions with my model as accurately as possible while maximizing true positive cases. We will be setting our thresholds at 80% for both accuracy and recall.** \n",
    "\n",
    "* Since this is just a quick tool to screen if someone is likely to have diabetes, it would be better to overdiagnose positive cases than to underdiagnose. Undiagnosed diabetes can have pretty serious health complications if left untreated, so overdiagnosing (high recall for true positives even at the expense of true negatives recall) would be advised. Doctors can order more specific tests to determine if someone does indeed have diabetes. \n",
    "\n",
    "* **It should be noted that this model does not distinguish between Type-1 and Type-2 diabetes.**"
   ]
  },
  {
   "cell_type": "markdown",
   "metadata": {},
   "source": [
    "### Overview \n"
   ]
  },
  {
   "cell_type": "markdown",
   "metadata": {
    "heading_collapsed": true
   },
   "source": [
    "#### The Data\n",
    "The [data](\"https://www.kaggle.com/datasets/prosperchuks/health-dataset\") we are using today is from the [Behavioral Risk Factor Surveillance System (BRFSS)](https://www.kaggle.com/datasets/cdc/behavioral-risk-factor-surveillance-system\"), a health-related telephone survey that is collected annually by the CDC. This dataset is a balanced subset of the original dataset of 441,455 Americans on health-related risk behaviors, chronic health conditions, and the use of preventative services from 2015, made available on Kaggle. These features are either questions directly asked of participants, or calculated variables based on individual participant responses. While the original dataset had over 330 features and over 400,000 entries, this subset has 21 feature variables and 70,692 entries. Because the subset is so large, we will be take a 10% sample of that subset for ease of use. \n",
    "\n",
    "**It should be noted that this dataset does not distinguish between Type-1 and Type-2 diabetes.**\n",
    "\n",
    "#### Scoring Metric\n",
    "* Roc_Auc and recall will be used as the scoring metric for our models.\n",
    "* We want to maximize our true positives in recall.\n",
    "\n",
    "##### 1. [Import Libraries and Data](#Import_Libraries)\n",
    "##### 2. [Clean and Inspect the Data](#Clean)\n",
    "##### 3. [Data Prep](#Dataprep)\n",
    "* Choose target features (diabetes/all others)\n",
    "* Split into X and Y\n",
    "* Split for Training and Testing\n",
    "* OHE\n",
    "\n",
    "##### 4. [Models and refinement](#Modeling) \n",
    "* Classification model report\n",
    "* Analysis\n",
    "\n",
    "##### 5. [Final Model Selection](#Final)\n",
    "\n",
    "##### 6. [Business Recommendations](#business)\n",
    "\n",
    "##### 7. [Next Steps](#next)"
   ]
  },
  {
   "cell_type": "markdown",
   "metadata": {
    "heading_collapsed": true
   },
   "source": [
    "## 1. Import the Libraries <a id='Import_Libraries'></a>"
   ]
  },
  {
   "cell_type": "code",
   "execution_count": 1,
   "metadata": {
    "hidden": true
   },
   "outputs": [],
   "source": [
    "# IMPORT ALL THE THINGS!\n",
    "\n",
    "#Basic Goodies\n",
    "import numpy as np \n",
    "import pandas as pd\n",
    "import xgboost \n",
    "from matplotlib import pyplot as plt\n",
    "from sklearn.utils import resample\n",
    "\n",
    "#Basic Classifiers\n",
    "from sklearn.linear_model import LogisticRegression, LinearRegression\n",
    "from sklearn.tree import DecisionTreeClassifier\n",
    "from logitboost import LogitBoost\n",
    "from xgboost import XGBClassifier\n",
    "from sklearn.ensemble import AdaBoostClassifier\n",
    "from sklearn.svm import SVC\n",
    "from sklearn.linear_model import Lasso\n",
    "\n",
    "\n",
    "\n",
    "#model selection\n",
    "from sklearn.model_selection import train_test_split, GridSearchCV, cross_val_score, cross_validate\n",
    "from sklearn.ensemble import RandomForestClassifier, AdaBoostClassifier, GradientBoostingClassifier\n",
    "import statsmodels.api as sm\n",
    "\n",
    "#Preprocessing Tools\n",
    "from sklearn.preprocessing import OneHotEncoder, StandardScaler\n",
    "\n",
    "#Model tuning methods\n",
    "from sklearn.pipeline import Pipeline, make_pipeline\n",
    "from sklearn.compose import ColumnTransformer\n",
    "\n",
    "#For checking precision, etc.\n",
    "from sklearn.metrics import classification_report, accuracy_score, roc_curve, auc, confusion_matrix, precision_score, plot_roc_curve, roc_curve, roc_auc_score, plot_confusion_matrix\n",
    "from sklearn.model_selection import StratifiedKFold\n",
    "from sklearn.metrics import plot_roc_curve, roc_curve, roc_auc_score\n",
    "from sklearn.metrics import precision_score, recall_score, accuracy_score, f1_score\n",
    "\n",
    "#Import scikit-learn metrics module for accuracy calculation\n",
    "from sklearn import metrics\n",
    "\n",
    "#For Visuals\n",
    "import matplotlib.pyplot as plt\n",
    "import seaborn as sns\n",
    "\n",
    "#Because I hate pink warnings\n",
    "import warnings\n",
    "warnings.filterwarnings('ignore')"
   ]
  },
  {
   "cell_type": "markdown",
   "metadata": {
    "hidden": true
   },
   "source": [
    "### Meet the Data\n",
    "Before we get started, let's take a look at the dataset itself. We have mostly binary features, with a few categorical and one scaled. "
   ]
  },
  {
   "cell_type": "markdown",
   "metadata": {
    "hidden": true
   },
   "source": [
    "#### Target Feature:\n",
    "* **Diabetes:** Binary. Does patient have diabetes?\n",
    "    * 0 = no \n",
    "    * 1 = yes\n",
    "\n",
    "#### Predictive Features:\n",
    "* **Age:** Categorical. 13-level age category, 1-13 in sets of 5. \n",
    "    * 1 = 18-24 \n",
    "    * 2 = 25-29\n",
    "    * 3 = 30-34\n",
    "    * 4 = 35-39\n",
    "    * 5 = 40-44\n",
    "    * 6 = 45-49\n",
    "    * 7 = 50-54\n",
    "    * 8 = 55-59\n",
    "    * 9 = 60-64\n",
    "    * 10 = 65-69\n",
    "    * 11 = 70-74\n",
    "    * 12 = 75-79\n",
    "    * 13 = 80 or older\n",
    "* **Sex:** Binary. Patient's gender.\n",
    "    * 1: male; \n",
    "    * 0: female\n",
    "* **HighChol:** Binary. \n",
    "    * 0 = no high cholesterol \n",
    "    * 1 = high cholesterol\n",
    "* **CholCheck:** Binary.\n",
    "    * 0 = no cholesterol check in 5 years \n",
    "    * 1 = yes cholesterol check in 5 years\n",
    "* **BMI:** Numerical (non-binary). Patients BMI\n",
    "* **Smoker:** Binary. Has patient smoked at least 100 cigarettes in their entire life? \n",
    "[Note: 5 packs = 100 cigarettes] \n",
    "    * 0 = no \n",
    "    * 1 = yes\n",
    "* **HeartDiseaseorAttack:**  Binary. Coronary heart disease (CHD) or myocardial infarction (MI)     \n",
    "    * 0 = no \n",
    "    * 1 = yes\n",
    "* **PhysActivity:** Binary. Physical activity in past 30 days - not including job    \n",
    "    * 0 = no \n",
    "    * 1 = yes\n",
    "* **Fruits:** Binary. Consume Fruit 1 or more times per day    \n",
    "    * 0 = no \n",
    "    * 1 = yes\n",
    "* **Veggies:** Binary. Consume Vegetables 1 or more times per day    \n",
    "    * 0 = no \n",
    "    * 1 = yes\n",
    "* **HvyAlcoholConsump:** Binary. (adult men >=14 drinks per week and adult women>=7 drinks per week) \n",
    "    * 0 = no \n",
    "    * 1 = yes\n",
    "* **GenHlth:** Categorical. Patients asked to rank their general your health on a scale of 1-5. \n",
    "    * 1 = excellent \n",
    "    * 2 = very good \n",
    "    * 3 = good \n",
    "    * 4 = fair \n",
    "    * 5 = poor\n",
    "* **MentHlth:** Numerical. Number of days of poor mental health in the last 30 days on a scale of 1-30 days\n",
    "* **PhysHlth:**  Numerical. Number of days of physical illness or injury days in past 30 days scale 1-30 days\n",
    "* **DiffWalk:** Binary. Does patient have serious difficulty walking or climbing stairs?\n",
    "    * 0 = no \n",
    "    * 1 = yes\n",
    "* **Stroke:** Binary. Has patient ever experienced a stroke?\n",
    "    * 0 = no \n",
    "    * 1 = yes\n",
    "* **HighBP:** Binary. Does patient have high blood pressure?\n",
    "    * 0 = no \n",
    "    * 1 = yes\n",
    "* **Diabetes:** Binary. Does patient have diabetes?\n",
    "    * 0 = no \n",
    "    * 1 = yes"
   ]
  },
  {
   "cell_type": "markdown",
   "metadata": {
    "hidden": true
   },
   "source": [
    "Now let's take a look at each feature, how many entries we have, how many nulls, and what type it is, etc. "
   ]
  },
  {
   "cell_type": "code",
   "execution_count": 9,
   "metadata": {
    "hidden": true,
    "scrolled": true
   },
   "outputs": [
    {
     "name": "stdout",
     "output_type": "stream",
     "text": [
      "(70692, 18)\n",
      "<class 'pandas.core.frame.DataFrame'>\n",
      "RangeIndex: 70692 entries, 0 to 70691\n",
      "Data columns (total 18 columns):\n",
      " #   Column                Non-Null Count  Dtype  \n",
      "---  ------                --------------  -----  \n",
      " 0   Age                   70692 non-null  float64\n",
      " 1   Sex                   70692 non-null  float64\n",
      " 2   HighChol              70692 non-null  float64\n",
      " 3   CholCheck             70692 non-null  float64\n",
      " 4   BMI                   70692 non-null  float64\n",
      " 5   Smoker                70692 non-null  float64\n",
      " 6   HeartDiseaseorAttack  70692 non-null  float64\n",
      " 7   PhysActivity          70692 non-null  float64\n",
      " 8   Fruits                70692 non-null  float64\n",
      " 9   Veggies               70692 non-null  float64\n",
      " 10  HvyAlcoholConsump     70692 non-null  float64\n",
      " 11  GenHlth               70692 non-null  float64\n",
      " 12  MentHlth              70692 non-null  float64\n",
      " 13  PhysHlth              70692 non-null  float64\n",
      " 14  DiffWalk              70692 non-null  float64\n",
      " 15  Stroke                70692 non-null  float64\n",
      " 16  HighBP                70692 non-null  float64\n",
      " 17  Diabetes              70692 non-null  float64\n",
      "dtypes: float64(18)\n",
      "memory usage: 9.7 MB\n",
      "None\n"
     ]
    }
   ],
   "source": [
    "# Load the diabetes dataset\n",
    "data = pd.read_csv('data/diabetes_data.csv') \n",
    "# Print the dimensions of data\n",
    "print(data.shape)\n",
    "# Check out the info for the dataframe\n",
    "print(data.info())\n"
   ]
  },
  {
   "cell_type": "code",
   "execution_count": 10,
   "metadata": {
    "hidden": true
   },
   "outputs": [
    {
     "data": {
      "text/html": [
       "<div>\n",
       "<style scoped>\n",
       "    .dataframe tbody tr th:only-of-type {\n",
       "        vertical-align: middle;\n",
       "    }\n",
       "\n",
       "    .dataframe tbody tr th {\n",
       "        vertical-align: top;\n",
       "    }\n",
       "\n",
       "    .dataframe thead th {\n",
       "        text-align: right;\n",
       "    }\n",
       "</style>\n",
       "<table border=\"1\" class=\"dataframe\">\n",
       "  <thead>\n",
       "    <tr style=\"text-align: right;\">\n",
       "      <th></th>\n",
       "      <th>Age</th>\n",
       "      <th>Sex</th>\n",
       "      <th>HighChol</th>\n",
       "      <th>CholCheck</th>\n",
       "      <th>BMI</th>\n",
       "      <th>Smoker</th>\n",
       "      <th>HeartDiseaseorAttack</th>\n",
       "      <th>PhysActivity</th>\n",
       "      <th>Fruits</th>\n",
       "      <th>Veggies</th>\n",
       "      <th>HvyAlcoholConsump</th>\n",
       "      <th>GenHlth</th>\n",
       "      <th>MentHlth</th>\n",
       "      <th>PhysHlth</th>\n",
       "      <th>DiffWalk</th>\n",
       "      <th>Stroke</th>\n",
       "      <th>HighBP</th>\n",
       "      <th>Diabetes</th>\n",
       "    </tr>\n",
       "  </thead>\n",
       "  <tbody>\n",
       "    <tr>\n",
       "      <th>0</th>\n",
       "      <td>4.0</td>\n",
       "      <td>1.0</td>\n",
       "      <td>0.0</td>\n",
       "      <td>1.0</td>\n",
       "      <td>26.0</td>\n",
       "      <td>0.0</td>\n",
       "      <td>0.0</td>\n",
       "      <td>1.0</td>\n",
       "      <td>0.0</td>\n",
       "      <td>1.0</td>\n",
       "      <td>0.0</td>\n",
       "      <td>3.0</td>\n",
       "      <td>5.0</td>\n",
       "      <td>30.0</td>\n",
       "      <td>0.0</td>\n",
       "      <td>0.0</td>\n",
       "      <td>1.0</td>\n",
       "      <td>0.0</td>\n",
       "    </tr>\n",
       "    <tr>\n",
       "      <th>1</th>\n",
       "      <td>12.0</td>\n",
       "      <td>1.0</td>\n",
       "      <td>1.0</td>\n",
       "      <td>1.0</td>\n",
       "      <td>26.0</td>\n",
       "      <td>1.0</td>\n",
       "      <td>0.0</td>\n",
       "      <td>0.0</td>\n",
       "      <td>1.0</td>\n",
       "      <td>0.0</td>\n",
       "      <td>0.0</td>\n",
       "      <td>3.0</td>\n",
       "      <td>0.0</td>\n",
       "      <td>0.0</td>\n",
       "      <td>0.0</td>\n",
       "      <td>1.0</td>\n",
       "      <td>1.0</td>\n",
       "      <td>0.0</td>\n",
       "    </tr>\n",
       "    <tr>\n",
       "      <th>2</th>\n",
       "      <td>13.0</td>\n",
       "      <td>1.0</td>\n",
       "      <td>0.0</td>\n",
       "      <td>1.0</td>\n",
       "      <td>26.0</td>\n",
       "      <td>0.0</td>\n",
       "      <td>0.0</td>\n",
       "      <td>1.0</td>\n",
       "      <td>1.0</td>\n",
       "      <td>1.0</td>\n",
       "      <td>0.0</td>\n",
       "      <td>1.0</td>\n",
       "      <td>0.0</td>\n",
       "      <td>10.0</td>\n",
       "      <td>0.0</td>\n",
       "      <td>0.0</td>\n",
       "      <td>0.0</td>\n",
       "      <td>0.0</td>\n",
       "    </tr>\n",
       "    <tr>\n",
       "      <th>3</th>\n",
       "      <td>11.0</td>\n",
       "      <td>1.0</td>\n",
       "      <td>1.0</td>\n",
       "      <td>1.0</td>\n",
       "      <td>28.0</td>\n",
       "      <td>1.0</td>\n",
       "      <td>0.0</td>\n",
       "      <td>1.0</td>\n",
       "      <td>1.0</td>\n",
       "      <td>1.0</td>\n",
       "      <td>0.0</td>\n",
       "      <td>3.0</td>\n",
       "      <td>0.0</td>\n",
       "      <td>3.0</td>\n",
       "      <td>0.0</td>\n",
       "      <td>0.0</td>\n",
       "      <td>1.0</td>\n",
       "      <td>0.0</td>\n",
       "    </tr>\n",
       "    <tr>\n",
       "      <th>4</th>\n",
       "      <td>8.0</td>\n",
       "      <td>0.0</td>\n",
       "      <td>0.0</td>\n",
       "      <td>1.0</td>\n",
       "      <td>29.0</td>\n",
       "      <td>1.0</td>\n",
       "      <td>0.0</td>\n",
       "      <td>1.0</td>\n",
       "      <td>1.0</td>\n",
       "      <td>1.0</td>\n",
       "      <td>0.0</td>\n",
       "      <td>2.0</td>\n",
       "      <td>0.0</td>\n",
       "      <td>0.0</td>\n",
       "      <td>0.0</td>\n",
       "      <td>0.0</td>\n",
       "      <td>0.0</td>\n",
       "      <td>0.0</td>\n",
       "    </tr>\n",
       "  </tbody>\n",
       "</table>\n",
       "</div>"
      ],
      "text/plain": [
       "    Age  Sex  HighChol  CholCheck   BMI  Smoker  HeartDiseaseorAttack  \\\n",
       "0   4.0  1.0       0.0        1.0  26.0     0.0                   0.0   \n",
       "1  12.0  1.0       1.0        1.0  26.0     1.0                   0.0   \n",
       "2  13.0  1.0       0.0        1.0  26.0     0.0                   0.0   \n",
       "3  11.0  1.0       1.0        1.0  28.0     1.0                   0.0   \n",
       "4   8.0  0.0       0.0        1.0  29.0     1.0                   0.0   \n",
       "\n",
       "   PhysActivity  Fruits  Veggies  HvyAlcoholConsump  GenHlth  MentHlth  \\\n",
       "0           1.0     0.0      1.0                0.0      3.0       5.0   \n",
       "1           0.0     1.0      0.0                0.0      3.0       0.0   \n",
       "2           1.0     1.0      1.0                0.0      1.0       0.0   \n",
       "3           1.0     1.0      1.0                0.0      3.0       0.0   \n",
       "4           1.0     1.0      1.0                0.0      2.0       0.0   \n",
       "\n",
       "   PhysHlth  DiffWalk  Stroke  HighBP  Diabetes  \n",
       "0      30.0       0.0     0.0     1.0       0.0  \n",
       "1       0.0       0.0     1.0     1.0       0.0  \n",
       "2      10.0       0.0     0.0     0.0       0.0  \n",
       "3       3.0       0.0     0.0     1.0       0.0  \n",
       "4       0.0       0.0     0.0     0.0       0.0  "
      ]
     },
     "execution_count": 10,
     "metadata": {},
     "output_type": "execute_result"
    }
   ],
   "source": [
    "# Show the first 5 rows\n",
    "data.head()"
   ]
  },
  {
   "cell_type": "markdown",
   "metadata": {
    "hidden": true
   },
   "source": [
    "Cool! Looks like a nice descriptive dataset with some columns that will need to be reformatted and/or dummied out, and a good hunk of entries to work with. \n",
    "\n",
    "Now let's explore a little more at what kind of unique values we are working with and how many Nans we have."
   ]
  },
  {
   "cell_type": "code",
   "execution_count": 11,
   "metadata": {
    "hidden": true
   },
   "outputs": [
    {
     "name": "stdout",
     "output_type": "stream",
     "text": [
      "Age                     13\n",
      "Sex                      2\n",
      "HighChol                 2\n",
      "CholCheck                2\n",
      "BMI                     80\n",
      "Smoker                   2\n",
      "HeartDiseaseorAttack     2\n",
      "PhysActivity             2\n",
      "Fruits                   2\n",
      "Veggies                  2\n",
      "HvyAlcoholConsump        2\n",
      "GenHlth                  5\n",
      "MentHlth                31\n",
      "PhysHlth                31\n",
      "DiffWalk                 2\n",
      "Stroke                   2\n",
      "HighBP                   2\n",
      "Diabetes                 2\n",
      "dtype: int64\n",
      "There are 0 Nans!\n"
     ]
    }
   ],
   "source": [
    "#How many unique values per column?\n",
    "print(data.nunique())\n",
    "\n",
    "#How many Nans, computer?\n",
    "print(\"There are\", data.isna().sum().sum(), \"Nans!\")"
   ]
  },
  {
   "cell_type": "markdown",
   "metadata": {
    "hidden": true
   },
   "source": [
    "So it looks like we will need to dummy out Age, BMI, GenHlth, MentHlth, and PhysHlth. Everything else is already in 0/1 format and, even better, have no Nans!! \n",
    "\n",
    "Let's see the correlation between Diabetes and the other columns. "
   ]
  },
  {
   "cell_type": "code",
   "execution_count": 12,
   "metadata": {
    "hidden": true
   },
   "outputs": [
    {
     "data": {
      "text/plain": [
       "Diabetes                1.000000\n",
       "GenHlth                 0.407612\n",
       "HighBP                  0.381516\n",
       "BMI                     0.293373\n",
       "HighChol                0.289213\n",
       "DiffWalk                0.272646\n",
       "PhysHlth                0.213081\n",
       "HeartDiseaseorAttack    0.211523\n",
       "Stroke                  0.125427\n",
       "CholCheck               0.115382\n",
       "MentHlth                0.087029\n",
       "Smoker                  0.085999\n",
       "Sex                     0.044413\n",
       "Fruits                 -0.054077\n",
       "Veggies                -0.079293\n",
       "HvyAlcoholConsump      -0.094853\n",
       "PhysActivity           -0.158666\n",
       "Name: Diabetes, dtype: float64"
      ]
     },
     "execution_count": 12,
     "metadata": {},
     "output_type": "execute_result"
    }
   ],
   "source": [
    "#correlation values\n",
    "data[data.columns[1:]].corr()['Diabetes'][:].sort_values(ascending=False)"
   ]
  },
  {
   "cell_type": "markdown",
   "metadata": {
    "hidden": true
   },
   "source": [
    "Because this dataset has been balanced for diabetes, we should have equal amounts for both having diabetes and not. Let's see:"
   ]
  },
  {
   "cell_type": "code",
   "execution_count": 13,
   "metadata": {
    "hidden": true,
    "scrolled": true
   },
   "outputs": [
    {
     "data": {
      "text/plain": [
       "1.0    35346\n",
       "0.0    35346\n",
       "Name: Diabetes, dtype: int64"
      ]
     },
     "execution_count": 13,
     "metadata": {},
     "output_type": "execute_result"
    }
   ],
   "source": [
    "#How any 0 and 1 values in this dataset for Diabetes?\n",
    "data['Diabetes'].value_counts()"
   ]
  },
  {
   "cell_type": "markdown",
   "metadata": {
    "hidden": true
   },
   "source": [
    "Checks out! Let's see if there are any duplicates."
   ]
  },
  {
   "cell_type": "code",
   "execution_count": null,
   "metadata": {
    "hidden": true
   },
   "outputs": [],
   "source": [
    "#Find and add up all the dumplicates\n",
    "data.duplicated().sum()"
   ]
  },
  {
   "cell_type": "markdown",
   "metadata": {
    "hidden": true
   },
   "source": [
    "So it looks like about 10% of the data is duplicates, but since there is no ID to check, we can't be certain that these duplicates are accidental duplicates, or if they are just 6672 people roughly in the same age group and lifestyle."
   ]
  },
  {
   "cell_type": "markdown",
   "metadata": {},
   "source": [
    "## 2. Clean and Inspect the Data <a id='Clean'></a>"
   ]
  },
  {
   "cell_type": "markdown",
   "metadata": {},
   "source": [
    "This dataset doesn't actually need much cleaning. There are no nans, I like the titles and their easy legibility, and most of the data is already in 1/0 format for easy fun modeling. \n",
    "\n",
    "Still, just for curiosity, let's check out the values of the columns we will be OHE-ing. \n"
   ]
  },
  {
   "cell_type": "code",
   "execution_count": 14,
   "metadata": {},
   "outputs": [
    {
     "name": "stdout",
     "output_type": "stream",
     "text": [
      "Age:  [1.0, 2.0, 3.0, 4.0, 5.0, 6.0, 7.0, 8.0, 9.0, 10.0, 11.0, 12.0, 13.0]\n",
      "GenHlth:  [1.0, 2.0, 3.0, 4.0, 5.0]\n"
     ]
    }
   ],
   "source": [
    "#Find unique values for the categories we intend to OHE\n",
    "print(\"Age: \", sorted(data['Age'].unique()))\n",
    "print(\"GenHlth: \", sorted(data['GenHlth'].unique()))"
   ]
  },
  {
   "cell_type": "markdown",
   "metadata": {},
   "source": [
    "Ok, so when I look at this, I'm thinking that the OHE of BMI could make our model *really, really* slow, but it's one of our heavy correlation hitters, so we will likely be better off with it. Still, I might try to see how much it affects the end result of the model and if we actually need it. \n",
    "\n",
    "Because this dataset is so large, I want to take a smaller sample of it to work with, since it will be more efficient than using the whole dataset, but still be statistically representative. "
   ]
  },
  {
   "cell_type": "code",
   "execution_count": 15,
   "metadata": {},
   "outputs": [],
   "source": [
    "small_data = data.groupby('Diabetes').apply(pd.DataFrame.sample, frac=0.5, random_state=42).reset_index(drop=True)"
   ]
  },
  {
   "cell_type": "code",
   "execution_count": null,
   "metadata": {
    "scrolled": true
   },
   "outputs": [],
   "source": [
    "#Close (but not exact) correlation levels? YES!\n",
    "small_data[small_data.columns[1:]].corr()['Diabetes'][:].sort_values(ascending=False)"
   ]
  },
  {
   "cell_type": "markdown",
   "metadata": {},
   "source": [
    "Great! Now let's check for ***multicollinearity on the new, smaller data subset!***"
   ]
  },
  {
   "cell_type": "markdown",
   "metadata": {},
   "source": [
    "### Visuals and EDA"
   ]
  },
  {
   "cell_type": "markdown",
   "metadata": {},
   "source": [
    "#### Multicollinearity"
   ]
  },
  {
   "cell_type": "code",
   "execution_count": 61,
   "metadata": {},
   "outputs": [
    {
     "data": {
      "image/png": "[encoded data removed]",
      "text/plain": [
       "<Figure size 1152x1152 with 2 Axes>"
      ]
     },
     "metadata": {
      "needs_background": "light"
     },
     "output_type": "display_data"
    }
   ],
   "source": [
    "#Check for multicollinearity visually:\n",
    "corr = small_data.corr().abs()\n",
    "\n",
    "fig, ax=plt.subplots(figsize=(16,16))\n",
    "matrix = np.triu(corr)\n",
    "cbar_kws={\"label\": \"Correlation Value\", \"shrink\":0.8}\n",
    "heatmap = sns.heatmap(data = corr, cmap='flare', linewidths = 1, square= True,  ax=ax, annot=True, mask=matrix, fmt= \".2f\", cbar_kws=cbar_kws) \n",
    "fig.suptitle('Heatmap of Correlation Between All Variables (Including Target)', fontsize=24, y=.84, x = .42, fontname='Helvetica');\n",
    "heatmap;"
   ]
  },
  {
   "cell_type": "markdown",
   "metadata": {},
   "source": [
    "##### Multicollinearity Summary\n",
    "\n",
    "Our top correlating features with Diabetes are \n",
    "* **GenHlth**\n",
    "* **HighBP**\n",
    "* **BMI**\n",
    "* **HighChol**\n",
    "* **Age**\n",
    "* **DiffWalk**\n",
    "\n",
    "Since none of the values are over .7, we can keep them all!\n",
    "\n",
    "Let's take a look at how they relate to someone with and without Diabetes, among with some of the other top 10. Let's explore some of these visually, but first, let's make a little box plot cheat sheet to keep things simple!"
   ]
  },
  {
   "cell_type": "markdown",
   "metadata": {},
   "source": [
    "#### Diabetes Box Plot Functions"
   ]
  },
  {
   "cell_type": "code",
   "execution_count": null,
   "metadata": {},
   "outputs": [],
   "source": [
    "def dia_box(X, y, y_title, plot_title):\n",
    "    ax = sns.barplot(x=X, y=y, hue='Diabetes', data=small_data, palette=\"flare\")\n",
    "    ax.figure.set_size_inches(20,10)\n",
    "    ax.set_ylabel(y_title, fontsize=16)\n",
    "    ax.set_title(plot_title, fontsize=20)\n",
    "\n",
    "def dia_box_simple(X, y, y_title, plot_title):\n",
    "    ax = sns.barplot(x=X, y=y, data=small_data, palette=\"flare\")\n",
    "    ax.figure.set_size_inches(20,10)\n",
    "    ax.set_ylabel(y_title, fontsize=16)\n",
    "    ax.set_title(plot_title, fontsize=20)\n",
    "    \n",
    "def mini_dia_box(y, y_title, plot_title):\n",
    "    mean_df = small_data[['Diabetes', y]].groupby('Diabetes', as_index=False).mean()\n",
    "    print(mean_df)\n",
    "\n",
    "    #Bar plot to visualize!\n",
    "    ax = sns.barplot(x='Diabetes', y=y, data=mean_df, palette=\"flare\")\n",
    "    ax.figure.set_size_inches(6,6)\n",
    "    ax.set_ylabel(y_title)\n",
    "    ax.set_title(plot_title)"
   ]
  },
  {
   "cell_type": "markdown",
   "metadata": {},
   "source": [
    "#### General Health and Age vs Diabetes"
   ]
  },
  {
   "cell_type": "code",
   "execution_count": null,
   "metadata": {},
   "outputs": [],
   "source": [
    "#Make a boxplot of General Health and Age vs Diabetes using our function\n",
    "dia_box(\"Age\", \"GenHlth\", 'General Health Rating', 'General Health Rating per Diabetes Status')\n"
   ]
  },
  {
   "cell_type": "code",
   "execution_count": null,
   "metadata": {},
   "outputs": [],
   "source": [
    "mini_dia_box('GenHlth', 'General Health Rating', 'General Health Rating per Diabetes Status')"
   ]
  },
  {
   "cell_type": "markdown",
   "metadata": {},
   "source": [
    "Here we see a theme stating to emerge where no matter the age group, those that suffer from diabetes also fair worse on their General Health. Overall, diabetics have about **39% worse general health ratings** than those that are not diabetic. "
   ]
  },
  {
   "cell_type": "markdown",
   "metadata": {},
   "source": [
    "#### High Blood Pressure and Age vs Diabetes"
   ]
  },
  {
   "cell_type": "code",
   "execution_count": null,
   "metadata": {},
   "outputs": [],
   "source": [
    "#Make a boxplot of High Blood Pressure and Age vs Diabetes using our function\n",
    "dia_box(\"Age\", \"HighBP\", 'Blood Pressure Score', 'High Blood Pressure per Diabetes Status')"
   ]
  },
  {
   "cell_type": "code",
   "execution_count": null,
   "metadata": {},
   "outputs": [],
   "source": [
    "mini_dia_box('HighBP', 'Prevelence of High Blood Pressure', 'Prevelence of High Blood Pressure per Diabetes Status')"
   ]
  },
  {
   "cell_type": "markdown",
   "metadata": {},
   "source": [
    "Overall, those with diabetes have about ***99% higher prevelence*** of high blood pressure than those that do not."
   ]
  },
  {
   "cell_type": "markdown",
   "metadata": {},
   "source": [
    "#### BMI and Age vs Diabetes"
   ]
  },
  {
   "cell_type": "code",
   "execution_count": null,
   "metadata": {},
   "outputs": [],
   "source": [
    "#Make a boxplot of High Blood Pressure and Age vs Diabetes using our function\n",
    "dia_box(\"Age\", \"BMI\", 'BMI Score', 'BMI per Diabetes Status')"
   ]
  },
  {
   "cell_type": "code",
   "execution_count": null,
   "metadata": {},
   "outputs": [],
   "source": [
    "mini_dia_box('BMI', 'BMI Score', 'Average BMI Score per Diabetes Status')"
   ]
  },
  {
   "cell_type": "markdown",
   "metadata": {},
   "source": [
    "On average, BMIs are about **15% higher** on those with diabetes."
   ]
  },
  {
   "cell_type": "markdown",
   "metadata": {},
   "source": [
    "#### High Cholesterol and Age vs. Diabetes Status"
   ]
  },
  {
   "cell_type": "code",
   "execution_count": null,
   "metadata": {},
   "outputs": [],
   "source": [
    "dia_box(\"Age\", \"HighChol\", 'Prevelence of High Cholesterol', 'Prevelence of High Cholesterol per Diabetes Status')"
   ]
  },
  {
   "cell_type": "code",
   "execution_count": null,
   "metadata": {},
   "outputs": [],
   "source": [
    "#Find average for parameter for diabetes status \n",
    "mini_dia_box(\"HighChol\", 'Prevelence of High Cholesterol', 'Prevelence of High Cholesterol per Diabetes Status')"
   ]
  },
  {
   "cell_type": "markdown",
   "metadata": {},
   "source": [
    "Overall, the prevelence of high cholesterol was **75% higher** in those with diabetes than those without. "
   ]
  },
  {
   "cell_type": "markdown",
   "metadata": {},
   "source": [
    "#### Diabetes Status vs Age\n",
    "\n",
    "Here we can plainly see a gradual incline of the prevelence of diabetes as patients get older. There ia slight decline at the end, which might be explained by the lower life expectancy of those with diabetes [(77 for men, 81 for women)](https://www.diabetes.co.uk/diabetes-life-expectancy.html)"
   ]
  },
  {
   "cell_type": "code",
   "execution_count": null,
   "metadata": {
    "scrolled": false
   },
   "outputs": [],
   "source": [
    "dia_box_simple(\"Age\", \"HighChol\", 'Prevelence of Diabetes', 'Prevelence of Diabetes per Age Group')\n"
   ]
  },
  {
   "cell_type": "markdown",
   "metadata": {},
   "source": [
    "#### Mental Health and Age vs Diabetes\n",
    "\n",
    "While being the 10th most correlated value, this is something I'd really like to visualize. "
   ]
  },
  {
   "cell_type": "code",
   "execution_count": null,
   "metadata": {},
   "outputs": [],
   "source": [
    "dia_box(\"Age\", \"MentHlth\", 'Number of Poor Mental Health Days in Past 30 Days', 'Poor Mental Health Days per Diabetes Status')\n"
   ]
  },
  {
   "cell_type": "markdown",
   "metadata": {},
   "source": [
    "This one I find particulary telling and concerning. While some may specilate that someone may be more likely to have diabetes if they have poorer mental health, I would argue that it could go both ways. If you have diabetes, it would be one more stressor to add to your concerns, but having poor mental health could lead to poor physical health habits that could lead the way for diseases such as diabetes. \n"
   ]
  },
  {
   "cell_type": "markdown",
   "metadata": {},
   "source": [
    "\n",
    "#### *Outliers*\n",
    "*While it appears that we have a lot of outliers in our data, I will be keeping them in. These ratings are based on the patients own opinion/perception of how they feel, and if a lot of the outliers end up belonging to one outcome (diabetes vs not), it wouldn't be pertinant to remove them.*"
   ]
  },
  {
   "cell_type": "code",
   "execution_count": null,
   "metadata": {
    "scrolled": false
   },
   "outputs": [],
   "source": [
    "# Let's try a box and whiskers plot to get a better visual on outliers\n",
    "sns.set_theme(style=\"ticks\", palette=\"pastel\")\n",
    "\n",
    "# Draw a nested boxplot to show Age vs Poor Mental Health Days with Diabetes status indicated in green\n",
    "sns.boxplot(x=\"Age\", y=\"MentHlth\",\n",
    "            hue=\"Diabetes\", palette=\"flare\",\n",
    "            data=small_data)\n",
    "sns.despine(offset=10, trim=True)"
   ]
  },
  {
   "cell_type": "markdown",
   "metadata": {},
   "source": [
    "One thing I do think is really interesting from this is that while there seems to consistently be outliers for poor mental health days throughout the age groups, the oldest age groups average about 55% fewer poor mental health days than the youngest group, even though they have the highest rates of diabetes. (See below) This could be because they have less stressors in their life that would be present in those who are younger with school/work/home/family obligations and responsibilities. \n",
    "\n",
    "Although those in the youngest category (1.0) had over **15 times less prevelence in diabetes** than the age of top diabetes prevelence (11.0), yet they suffered from about **46% more poor mental health days (3.95 vs 2.70**)."
   ]
  },
  {
   "cell_type": "code",
   "execution_count": null,
   "metadata": {
    "scrolled": true
   },
   "outputs": [],
   "source": [
    "ment_mean = small_data[['Age', 'MentHlth','Diabetes']].groupby('Age', as_index=False).mean()\n",
    "print(ment_mean)"
   ]
  },
  {
   "cell_type": "markdown",
   "metadata": {},
   "source": [
    "##### Overall Poor Mental Health Days per Diabetes status\n",
    "\n",
    "As we can see below, in regards to the whole population, those with diabetes reported roughly **45% more poor mental health days than those without diabetes.**"
   ]
  },
  {
   "cell_type": "code",
   "execution_count": null,
   "metadata": {
    "scrolled": false
   },
   "outputs": [],
   "source": [
    "mini_dia_box('MentHlth', 'Mean Poor Mental Health Days', 'Average Poor Mental Health Days per Diabetes Status')"
   ]
  },
  {
   "cell_type": "markdown",
   "metadata": {},
   "source": [
    "#### Difficulty Walking vs. Diabetes Status"
   ]
  },
  {
   "cell_type": "code",
   "execution_count": null,
   "metadata": {
    "scrolled": false
   },
   "outputs": [],
   "source": [
    "dia_box(\"Age\", \"DiffWalk\", 'Walking Difficulty Rating', 'Walking Difficulty Rating per Diabetes Status')\n"
   ]
  },
  {
   "cell_type": "markdown",
   "metadata": {},
   "source": [
    "I think it's so fascinating (though perhaps not too suprising), that the incline for those having difficulty walking increases at a much slower and gradual pace for those without diabetes than those with."
   ]
  },
  {
   "cell_type": "code",
   "execution_count": null,
   "metadata": {},
   "outputs": [],
   "source": [
    "mini_dia_box('DiffWalk', 'Prevelence of Difficulty Walking', 'Prevelence of Difficulty Walking per Diabetes Status')"
   ]
  },
  {
   "cell_type": "markdown",
   "metadata": {},
   "source": [
    " Overall, regardless of age, patients are **2.7 times as likely to have difficulty walking if they have diabetes.**"
   ]
  },
  {
   "cell_type": "markdown",
   "metadata": {
    "heading_collapsed": true
   },
   "source": [
    "## 3. Data Prep and Feature Engineering<a id='Dataprep'></a>\n",
    "\n",
    "* Assign our x and y\n",
    "* Split into training and testing data\n",
    "* OHE-ing\n"
   ]
  },
  {
   "cell_type": "code",
   "execution_count": 71,
   "metadata": {
    "hidden": true
   },
   "outputs": [
    {
     "name": "stdout",
     "output_type": "stream",
     "text": [
      "Diabetes\n",
      "1.0         14146\n",
      "0.0         14130\n",
      "dtype: int64 \n",
      "\n",
      " Diabetes\n",
      "0.0         3543\n",
      "1.0         3527\n",
      "dtype: int64\n"
     ]
    }
   ],
   "source": [
    "#assign y to diabetes and drop it from the dataframe\n",
    "y = small_data[['Diabetes']]\n",
    "X = small_data.drop('Diabetes', axis=1)\n",
    "X_train, X_test, y_train, y_test = train_test_split(X, y, test_size=0.2, random_state=42)\n",
    "\n",
    "\n",
    "#Let's check on our sample sizes!\n",
    "print(y_train.value_counts(), '\\n\\n', y_test.value_counts())"
   ]
  },
  {
   "cell_type": "markdown",
   "metadata": {
    "hidden": true
   },
   "source": [
    "### OHE-ing"
   ]
  },
  {
   "cell_type": "markdown",
   "metadata": {
    "hidden": true
   },
   "source": [
    "#### OHE function"
   ]
  },
  {
   "cell_type": "code",
   "execution_count": 72,
   "metadata": {
    "hidden": true
   },
   "outputs": [
    {
     "data": {
      "text/html": [
       "<div>\n",
       "<style scoped>\n",
       "    .dataframe tbody tr th:only-of-type {\n",
       "        vertical-align: middle;\n",
       "    }\n",
       "\n",
       "    .dataframe tbody tr th {\n",
       "        vertical-align: top;\n",
       "    }\n",
       "\n",
       "    .dataframe thead th {\n",
       "        text-align: right;\n",
       "    }\n",
       "</style>\n",
       "<table border=\"1\" class=\"dataframe\">\n",
       "  <thead>\n",
       "    <tr style=\"text-align: right;\">\n",
       "      <th></th>\n",
       "      <th>Sex</th>\n",
       "      <th>HighChol</th>\n",
       "      <th>CholCheck</th>\n",
       "      <th>BMI</th>\n",
       "      <th>Smoker</th>\n",
       "      <th>HeartDiseaseorAttack</th>\n",
       "      <th>PhysActivity</th>\n",
       "      <th>Fruits</th>\n",
       "      <th>Veggies</th>\n",
       "      <th>HvyAlcoholConsump</th>\n",
       "      <th>...</th>\n",
       "      <th>x0_8.0</th>\n",
       "      <th>x0_9.0</th>\n",
       "      <th>x0_10.0</th>\n",
       "      <th>x0_11.0</th>\n",
       "      <th>x0_12.0</th>\n",
       "      <th>x0_13.0</th>\n",
       "      <th>x1_2.0</th>\n",
       "      <th>x1_3.0</th>\n",
       "      <th>x1_4.0</th>\n",
       "      <th>x1_5.0</th>\n",
       "    </tr>\n",
       "  </thead>\n",
       "  <tbody>\n",
       "    <tr>\n",
       "      <th>21824</th>\n",
       "      <td>1.0</td>\n",
       "      <td>1.0</td>\n",
       "      <td>1.0</td>\n",
       "      <td>30.0</td>\n",
       "      <td>1.0</td>\n",
       "      <td>0.0</td>\n",
       "      <td>1.0</td>\n",
       "      <td>0.0</td>\n",
       "      <td>1.0</td>\n",
       "      <td>0.0</td>\n",
       "      <td>...</td>\n",
       "      <td>0.0</td>\n",
       "      <td>0.0</td>\n",
       "      <td>0.0</td>\n",
       "      <td>1.0</td>\n",
       "      <td>0.0</td>\n",
       "      <td>0.0</td>\n",
       "      <td>0.0</td>\n",
       "      <td>0.0</td>\n",
       "      <td>1.0</td>\n",
       "      <td>0.0</td>\n",
       "    </tr>\n",
       "    <tr>\n",
       "      <th>24421</th>\n",
       "      <td>0.0</td>\n",
       "      <td>0.0</td>\n",
       "      <td>1.0</td>\n",
       "      <td>28.0</td>\n",
       "      <td>1.0</td>\n",
       "      <td>1.0</td>\n",
       "      <td>0.0</td>\n",
       "      <td>1.0</td>\n",
       "      <td>1.0</td>\n",
       "      <td>0.0</td>\n",
       "      <td>...</td>\n",
       "      <td>0.0</td>\n",
       "      <td>0.0</td>\n",
       "      <td>0.0</td>\n",
       "      <td>0.0</td>\n",
       "      <td>1.0</td>\n",
       "      <td>0.0</td>\n",
       "      <td>0.0</td>\n",
       "      <td>1.0</td>\n",
       "      <td>0.0</td>\n",
       "      <td>0.0</td>\n",
       "    </tr>\n",
       "    <tr>\n",
       "      <th>16313</th>\n",
       "      <td>0.0</td>\n",
       "      <td>0.0</td>\n",
       "      <td>1.0</td>\n",
       "      <td>26.0</td>\n",
       "      <td>0.0</td>\n",
       "      <td>0.0</td>\n",
       "      <td>1.0</td>\n",
       "      <td>1.0</td>\n",
       "      <td>0.0</td>\n",
       "      <td>0.0</td>\n",
       "      <td>...</td>\n",
       "      <td>0.0</td>\n",
       "      <td>0.0</td>\n",
       "      <td>0.0</td>\n",
       "      <td>0.0</td>\n",
       "      <td>0.0</td>\n",
       "      <td>0.0</td>\n",
       "      <td>0.0</td>\n",
       "      <td>0.0</td>\n",
       "      <td>0.0</td>\n",
       "      <td>0.0</td>\n",
       "    </tr>\n",
       "    <tr>\n",
       "      <th>25627</th>\n",
       "      <td>1.0</td>\n",
       "      <td>1.0</td>\n",
       "      <td>1.0</td>\n",
       "      <td>27.0</td>\n",
       "      <td>1.0</td>\n",
       "      <td>1.0</td>\n",
       "      <td>1.0</td>\n",
       "      <td>0.0</td>\n",
       "      <td>1.0</td>\n",
       "      <td>0.0</td>\n",
       "      <td>...</td>\n",
       "      <td>0.0</td>\n",
       "      <td>0.0</td>\n",
       "      <td>1.0</td>\n",
       "      <td>0.0</td>\n",
       "      <td>0.0</td>\n",
       "      <td>0.0</td>\n",
       "      <td>1.0</td>\n",
       "      <td>0.0</td>\n",
       "      <td>0.0</td>\n",
       "      <td>0.0</td>\n",
       "    </tr>\n",
       "    <tr>\n",
       "      <th>14170</th>\n",
       "      <td>0.0</td>\n",
       "      <td>1.0</td>\n",
       "      <td>1.0</td>\n",
       "      <td>34.0</td>\n",
       "      <td>1.0</td>\n",
       "      <td>0.0</td>\n",
       "      <td>1.0</td>\n",
       "      <td>0.0</td>\n",
       "      <td>1.0</td>\n",
       "      <td>0.0</td>\n",
       "      <td>...</td>\n",
       "      <td>0.0</td>\n",
       "      <td>1.0</td>\n",
       "      <td>0.0</td>\n",
       "      <td>0.0</td>\n",
       "      <td>0.0</td>\n",
       "      <td>0.0</td>\n",
       "      <td>1.0</td>\n",
       "      <td>0.0</td>\n",
       "      <td>0.0</td>\n",
       "      <td>0.0</td>\n",
       "    </tr>\n",
       "  </tbody>\n",
       "</table>\n",
       "<p>5 rows × 31 columns</p>\n",
       "</div>"
      ],
      "text/plain": [
       "       Sex  HighChol  CholCheck   BMI  Smoker  HeartDiseaseorAttack  \\\n",
       "21824  1.0       1.0        1.0  30.0     1.0                   0.0   \n",
       "24421  0.0       0.0        1.0  28.0     1.0                   1.0   \n",
       "16313  0.0       0.0        1.0  26.0     0.0                   0.0   \n",
       "25627  1.0       1.0        1.0  27.0     1.0                   1.0   \n",
       "14170  0.0       1.0        1.0  34.0     1.0                   0.0   \n",
       "\n",
       "       PhysActivity  Fruits  Veggies  HvyAlcoholConsump  ...  x0_8.0  x0_9.0  \\\n",
       "21824           1.0     0.0      1.0                0.0  ...     0.0     0.0   \n",
       "24421           0.0     1.0      1.0                0.0  ...     0.0     0.0   \n",
       "16313           1.0     1.0      0.0                0.0  ...     0.0     0.0   \n",
       "25627           1.0     0.0      1.0                0.0  ...     0.0     0.0   \n",
       "14170           1.0     0.0      1.0                0.0  ...     0.0     1.0   \n",
       "\n",
       "       x0_10.0  x0_11.0  x0_12.0  x0_13.0  x1_2.0  x1_3.0  x1_4.0  x1_5.0  \n",
       "21824      0.0      1.0      0.0      0.0     0.0     0.0     1.0     0.0  \n",
       "24421      0.0      0.0      1.0      0.0     0.0     1.0     0.0     0.0  \n",
       "16313      0.0      0.0      0.0      0.0     0.0     0.0     0.0     0.0  \n",
       "25627      1.0      0.0      0.0      0.0     1.0     0.0     0.0     0.0  \n",
       "14170      0.0      0.0      0.0      0.0     1.0     0.0     0.0     0.0  \n",
       "\n",
       "[5 rows x 31 columns]"
      ]
     },
     "execution_count": 72,
     "metadata": {},
     "output_type": "execute_result"
    }
   ],
   "source": [
    "#select all object type/catagorical features and OHE them\n",
    "data_cat = pd.DataFrame(X_train, columns=['Age', 'GenHlth'])\n",
    "\n",
    "ohe = OneHotEncoder(drop='first', #to save from multicolinearty\n",
    "                    sparse = False) #by default sparse=True #sparse is a way to efficiently store 1's and 0's when you have a ton of columns with 1's and 0's\n",
    "#fitting it on the categories here and transforming it on said categories\n",
    "ohe_data = ohe.fit_transform(data_cat)\n",
    "#create dummies\n",
    "ohe_data_df=pd.DataFrame(ohe_data,\n",
    "                     columns=ohe.get_feature_names(),\n",
    "                     index=data_cat.index)#make sure to pass an index\n",
    "\n",
    "already_clean_data = X_train.drop(['Age', 'GenHlth'], axis=1)\n",
    "#putting nums and dums dataframes back together, axis = 1 means it will be added from left to right\n",
    "X_train = pd.concat([already_clean_data, ohe_data_df], axis=1)\n",
    "#Check it out!\n",
    "X_train.head()\n",
    "\n",
    "\n"
   ]
  },
  {
   "cell_type": "code",
   "execution_count": 73,
   "metadata": {
    "hidden": true
   },
   "outputs": [
    {
     "data": {
      "text/html": [
       "<div>\n",
       "<style scoped>\n",
       "    .dataframe tbody tr th:only-of-type {\n",
       "        vertical-align: middle;\n",
       "    }\n",
       "\n",
       "    .dataframe tbody tr th {\n",
       "        vertical-align: top;\n",
       "    }\n",
       "\n",
       "    .dataframe thead th {\n",
       "        text-align: right;\n",
       "    }\n",
       "</style>\n",
       "<table border=\"1\" class=\"dataframe\">\n",
       "  <thead>\n",
       "    <tr style=\"text-align: right;\">\n",
       "      <th></th>\n",
       "      <th>Sex</th>\n",
       "      <th>HighChol</th>\n",
       "      <th>CholCheck</th>\n",
       "      <th>BMI</th>\n",
       "      <th>Smoker</th>\n",
       "      <th>HeartDiseaseorAttack</th>\n",
       "      <th>PhysActivity</th>\n",
       "      <th>Fruits</th>\n",
       "      <th>Veggies</th>\n",
       "      <th>HvyAlcoholConsump</th>\n",
       "      <th>...</th>\n",
       "      <th>x0_8.0</th>\n",
       "      <th>x0_9.0</th>\n",
       "      <th>x0_10.0</th>\n",
       "      <th>x0_11.0</th>\n",
       "      <th>x0_12.0</th>\n",
       "      <th>x0_13.0</th>\n",
       "      <th>x1_2.0</th>\n",
       "      <th>x1_3.0</th>\n",
       "      <th>x1_4.0</th>\n",
       "      <th>x1_5.0</th>\n",
       "    </tr>\n",
       "  </thead>\n",
       "  <tbody>\n",
       "    <tr>\n",
       "      <th>19946</th>\n",
       "      <td>1.0</td>\n",
       "      <td>1.0</td>\n",
       "      <td>1.0</td>\n",
       "      <td>28.0</td>\n",
       "      <td>1.0</td>\n",
       "      <td>0.0</td>\n",
       "      <td>1.0</td>\n",
       "      <td>0.0</td>\n",
       "      <td>0.0</td>\n",
       "      <td>0.0</td>\n",
       "      <td>...</td>\n",
       "      <td>0.0</td>\n",
       "      <td>0.0</td>\n",
       "      <td>1.0</td>\n",
       "      <td>0.0</td>\n",
       "      <td>0.0</td>\n",
       "      <td>0.0</td>\n",
       "      <td>1.0</td>\n",
       "      <td>0.0</td>\n",
       "      <td>0.0</td>\n",
       "      <td>0.0</td>\n",
       "    </tr>\n",
       "    <tr>\n",
       "      <th>2448</th>\n",
       "      <td>0.0</td>\n",
       "      <td>1.0</td>\n",
       "      <td>1.0</td>\n",
       "      <td>34.0</td>\n",
       "      <td>0.0</td>\n",
       "      <td>0.0</td>\n",
       "      <td>0.0</td>\n",
       "      <td>0.0</td>\n",
       "      <td>1.0</td>\n",
       "      <td>0.0</td>\n",
       "      <td>...</td>\n",
       "      <td>0.0</td>\n",
       "      <td>0.0</td>\n",
       "      <td>0.0</td>\n",
       "      <td>0.0</td>\n",
       "      <td>0.0</td>\n",
       "      <td>0.0</td>\n",
       "      <td>1.0</td>\n",
       "      <td>0.0</td>\n",
       "      <td>0.0</td>\n",
       "      <td>0.0</td>\n",
       "    </tr>\n",
       "    <tr>\n",
       "      <th>21135</th>\n",
       "      <td>1.0</td>\n",
       "      <td>1.0</td>\n",
       "      <td>1.0</td>\n",
       "      <td>36.0</td>\n",
       "      <td>0.0</td>\n",
       "      <td>1.0</td>\n",
       "      <td>1.0</td>\n",
       "      <td>0.0</td>\n",
       "      <td>1.0</td>\n",
       "      <td>0.0</td>\n",
       "      <td>...</td>\n",
       "      <td>1.0</td>\n",
       "      <td>0.0</td>\n",
       "      <td>0.0</td>\n",
       "      <td>0.0</td>\n",
       "      <td>0.0</td>\n",
       "      <td>0.0</td>\n",
       "      <td>0.0</td>\n",
       "      <td>0.0</td>\n",
       "      <td>1.0</td>\n",
       "      <td>0.0</td>\n",
       "    </tr>\n",
       "    <tr>\n",
       "      <th>21718</th>\n",
       "      <td>0.0</td>\n",
       "      <td>1.0</td>\n",
       "      <td>1.0</td>\n",
       "      <td>30.0</td>\n",
       "      <td>1.0</td>\n",
       "      <td>1.0</td>\n",
       "      <td>1.0</td>\n",
       "      <td>1.0</td>\n",
       "      <td>1.0</td>\n",
       "      <td>0.0</td>\n",
       "      <td>...</td>\n",
       "      <td>0.0</td>\n",
       "      <td>0.0</td>\n",
       "      <td>0.0</td>\n",
       "      <td>0.0</td>\n",
       "      <td>0.0</td>\n",
       "      <td>1.0</td>\n",
       "      <td>0.0</td>\n",
       "      <td>1.0</td>\n",
       "      <td>0.0</td>\n",
       "      <td>0.0</td>\n",
       "    </tr>\n",
       "    <tr>\n",
       "      <th>4984</th>\n",
       "      <td>1.0</td>\n",
       "      <td>1.0</td>\n",
       "      <td>1.0</td>\n",
       "      <td>27.0</td>\n",
       "      <td>1.0</td>\n",
       "      <td>0.0</td>\n",
       "      <td>1.0</td>\n",
       "      <td>0.0</td>\n",
       "      <td>1.0</td>\n",
       "      <td>1.0</td>\n",
       "      <td>...</td>\n",
       "      <td>0.0</td>\n",
       "      <td>0.0</td>\n",
       "      <td>1.0</td>\n",
       "      <td>0.0</td>\n",
       "      <td>0.0</td>\n",
       "      <td>0.0</td>\n",
       "      <td>1.0</td>\n",
       "      <td>0.0</td>\n",
       "      <td>0.0</td>\n",
       "      <td>0.0</td>\n",
       "    </tr>\n",
       "  </tbody>\n",
       "</table>\n",
       "<p>5 rows × 31 columns</p>\n",
       "</div>"
      ],
      "text/plain": [
       "       Sex  HighChol  CholCheck   BMI  Smoker  HeartDiseaseorAttack  \\\n",
       "19946  1.0       1.0        1.0  28.0     1.0                   0.0   \n",
       "2448   0.0       1.0        1.0  34.0     0.0                   0.0   \n",
       "21135  1.0       1.0        1.0  36.0     0.0                   1.0   \n",
       "21718  0.0       1.0        1.0  30.0     1.0                   1.0   \n",
       "4984   1.0       1.0        1.0  27.0     1.0                   0.0   \n",
       "\n",
       "       PhysActivity  Fruits  Veggies  HvyAlcoholConsump  ...  x0_8.0  x0_9.0  \\\n",
       "19946           1.0     0.0      0.0                0.0  ...     0.0     0.0   \n",
       "2448            0.0     0.0      1.0                0.0  ...     0.0     0.0   \n",
       "21135           1.0     0.0      1.0                0.0  ...     1.0     0.0   \n",
       "21718           1.0     1.0      1.0                0.0  ...     0.0     0.0   \n",
       "4984            1.0     0.0      1.0                1.0  ...     0.0     0.0   \n",
       "\n",
       "       x0_10.0  x0_11.0  x0_12.0  x0_13.0  x1_2.0  x1_3.0  x1_4.0  x1_5.0  \n",
       "19946      1.0      0.0      0.0      0.0     1.0     0.0     0.0     0.0  \n",
       "2448       0.0      0.0      0.0      0.0     1.0     0.0     0.0     0.0  \n",
       "21135      0.0      0.0      0.0      0.0     0.0     0.0     1.0     0.0  \n",
       "21718      0.0      0.0      0.0      1.0     0.0     1.0     0.0     0.0  \n",
       "4984       1.0      0.0      0.0      0.0     1.0     0.0     0.0     0.0  \n",
       "\n",
       "[5 rows x 31 columns]"
      ]
     },
     "execution_count": 73,
     "metadata": {},
     "output_type": "execute_result"
    }
   ],
   "source": [
    "#select all object type/catagorical features and OHE them\n",
    "data_cat = pd.DataFrame(X_test, columns=['Age', 'GenHlth'])\n",
    "\n",
    "ohe = OneHotEncoder(drop='first', #to save from multicolinearty\n",
    "                    sparse = False) #by default sparse=True #sparse is a way to efficiently store 1's and 0's when you have a ton of columns with 1's and 0's\n",
    "#fitting it on the categories here and transforming it on said categories\n",
    "dums = ohe.fit_transform(data_cat)\n",
    "#create dummies\n",
    "dums_df=pd.DataFrame(dums,\n",
    "                     columns=ohe.get_feature_names(),\n",
    "                     index=data_cat.index)#make sure to pass an index\n",
    "\n",
    "already_clean_data = X_test.drop(['Age', 'GenHlth'], axis=1)\n",
    "#putting nums and dums dataframes back together, axis = 1 means it will be added from left to right\n",
    "X_test = pd.concat([already_clean_data, dums_df], axis=1)\n",
    "#Check it out!\n",
    "X_test.head()\n",
    "\n",
    "\n"
   ]
  },
  {
   "cell_type": "markdown",
   "metadata": {
    "hidden": true
   },
   "source": [
    "The one downside to OHE is that when it makes the new columns for the dummies, it assigns numbered x's instead of column names, so it becomes a huge pain to read. Here is a bit of help for this one:\n",
    "* \"Age\" = x0\n",
    "* \"GenHlth\" = x1"
   ]
  },
  {
   "cell_type": "code",
   "execution_count": 74,
   "metadata": {
    "hidden": true
   },
   "outputs": [],
   "source": [
    "#Scaling before modeling\n",
    "sc = StandardScaler()\n",
    "X_train = sc.fit_transform(X_train)\n",
    "X_test = sc.transform(X_test)"
   ]
  },
  {
   "cell_type": "markdown",
   "metadata": {},
   "source": [
    "## 4. Models<a id='Modeling'></a>"
   ]
  },
  {
   "cell_type": "markdown",
   "metadata": {},
   "source": [
    "We are going to play around with some different types of models, and tweak them and their hyperparameters to see how they fair. We will go in this order:\n",
    "1. [Logistic Regression](#lr)\n",
    "   * [GridSearch (GridSearchCV)](#gscv_lr) - To help find the best parameters to use in our model\n",
    "    \n",
    "2. [Random Forrest (RandomForrestClassifier)](#rf)\n",
    "   * [GridSearch (GridSearchCV)](#gscv_dt) - To help find the best parameters to use in our model\n",
    "3. [XG Boost](#xgboost)\n",
    "   * [GridSearch (GridSearchCV)](#gscv_lr) - To help find the best parameters to use in our model\n",
    "4. [LogitBoost](#logit)"
   ]
  },
  {
   "cell_type": "markdown",
   "metadata": {
    "heading_collapsed": true
   },
   "source": [
    "### Fancy Functions : Model Results\n",
    "But first, let's define what we would like to look at for each model we run to help us save on codespace and time."
   ]
  },
  {
   "cell_type": "code",
   "execution_count": 22,
   "metadata": {
    "hidden": true
   },
   "outputs": [],
   "source": [
    "def model_results(model):\n",
    "    \n",
    "    with plt.style.context('seaborn-talk'):\n",
    "        fig, (ax1, ax2) = plt.subplots(ncols=2, figsize=(15, 5))\n",
    "\n",
    "        # Create Confusion Matrix for the test set\n",
    "        plot_confusion_matrix(model, X_test, y_test, normalize = 'true', ax=ax1,  cmap = 'flare') \n",
    "        ax1.grid(False) \n",
    "        ax1.set_title(\"Train Confusion Matrix\")\n",
    "\n",
    "                \n",
    "        # Create Roc curve for the test and train for TP and FP rates\n",
    "        plot_roc_curve(model, X_train, y_train, ax=ax2, color='green', name ='Train ROC curve')\n",
    "        plot_roc_curve(model, X_test, y_test, ax=ax2, color = 'blue', name ='Test ROC curve' )\n",
    "        ax2.plot([0, 1], [0, 1], color='black', lw=2, linestyle='-')\n",
    "        ax2.set_xlabel('False Positive Rate')\n",
    "        ax2.set_ylabel('True Positive Rate')\n",
    "        ax2.set_title('Receiver Operating Characteristic (ROC) Curve')\n",
    "        plt.show()\n",
    "        \n",
    "        #Create a classification report\n",
    "        y_pred = model.predict(X_test)\n",
    "        print(classification_report(y_test, y_pred))\n",
    "        \n",
    "        \n",
    "        ######***NEW LINE*** Print CV ROC_AUC score, and roc_auc score for test/train\n",
    "        \n",
    "        #Print CV ROC_AUC score\n",
    "        roc_score_train_cv = cross_val_score(estimator=model, X=X_train,  y=y_train, \n",
    "                                        cv=StratifiedKFold(shuffle=True), scoring='roc_auc').mean()\n",
    "        print(f\"Mean Cross Validated Roc_Auc Score: {roc_score_train_cv :.0%}\")  \n",
    "\n",
    "        #print roc_auc for test and train \n",
    "        roc_score_train = roc_auc_score(y_train, model.predict_proba(X_train)[:, 1]) \n",
    "        print(f\"Train Roc_Auc Score: {roc_score_train :.0%}\")  \n",
    "\n",
    "        roc_score_test = roc_auc_score(y_test, model.predict_proba(X_test)[:, 1])\n",
    "        print(f\"Test Roc_Auc Score: {roc_score_test :.0%}\")  \n",
    "        \n",
    "        accuracy_train = model.score(X_train, y_train)\n",
    "        accuracy_test = model.score(X_test, y_test)\n",
    "        print(f\"Train Accuracy Score: {accuracy_train :.0%}\")\n",
    "        print(f\"Test Accuracy Score: {accuracy_test :.0%}\")\n",
    "        "
   ]
  },
  {
   "cell_type": "markdown",
   "metadata": {
    "heading_collapsed": true
   },
   "source": [
    "### Model #1: Logistic Regression<a id='lr'></a>"
   ]
  },
  {
   "cell_type": "markdown",
   "metadata": {
    "hidden": true
   },
   "source": [
    "First up is the classic Logistic Regression. We will start off with default settings (except for the random_state). \n",
    "\n",
    "Logistic regression is a popular classification method in statistics that is used to predict the **probability of an outcome** by fitting data to a logistic function.\n",
    "\n",
    "For reference, Logistic Regression defaults are the following:\n",
    "\n",
    "* **penalty**:{‘l1’, ‘l2’, ‘elasticnet’, None}, default=’l2’\n",
    "* **dual**:bool, default=False\n",
    "Dual or primal formulation. Dual formulation is only implemented for l2 penalty with liblinear solver. Prefer dual=False when n_samples > n_features.\n",
    "* **tol**: float, default=1e-4\n",
    "Tolerance for stopping criteria."
   ]
  },
  {
   "cell_type": "code",
   "execution_count": 75,
   "metadata": {
    "hidden": true
   },
   "outputs": [
    {
     "data": {
      "text/plain": [
       "LogisticRegression(random_state=42)"
      ]
     },
     "execution_count": 75,
     "metadata": {},
     "output_type": "execute_result"
    }
   ],
   "source": [
    "#basic logistic regression model\n",
    "lr = LogisticRegression(random_state=42)\n",
    "\n",
    "#Fit to information\n",
    "lr.fit(X_train, y_train)"
   ]
  },
  {
   "cell_type": "markdown",
   "metadata": {
    "hidden": true
   },
   "source": [
    "After fitting to the data, we can now see the results of the baseline model. "
   ]
  },
  {
   "cell_type": "code",
   "execution_count": 76,
   "metadata": {
    "hidden": true,
    "scrolled": false
   },
   "outputs": [
    {
     "data": {
      "image/png": "[encoded data removed]",
      "text/plain": [
       "<Figure size 1080x360 with 3 Axes>"
      ]
     },
     "metadata": {
      "needs_background": "light"
     },
     "output_type": "display_data"
    },
    {
     "name": "stdout",
     "output_type": "stream",
     "text": [
      "              precision    recall  f1-score   support\n",
      "\n",
      "         0.0       0.77      0.72      0.74      3543\n",
      "         1.0       0.73      0.78      0.76      3527\n",
      "\n",
      "    accuracy                           0.75      7070\n",
      "   macro avg       0.75      0.75      0.75      7070\n",
      "weighted avg       0.75      0.75      0.75      7070\n",
      "\n",
      "Mean Cross Validated Roc_Auc Score: 83%\n",
      "Train Roc_Auc Score: 83%\n",
      "Test Roc_Auc Score: 82%\n",
      "Train Accuracy Score: 75%\n",
      "Test Accuracy Score: 75%\n"
     ]
    }
   ],
   "source": [
    "model_results(lr)"
   ]
  },
  {
   "cell_type": "markdown",
   "metadata": {
    "hidden": true
   },
   "source": [
    "So our CV Roc_Auc score is over 80%, which is pretty great out of the gate!\n",
    "\n",
    "Overall, not too shabby, but since train scores are a smidge higher than test scores, it's evident that we are **slightly overfitting**."
   ]
  },
  {
   "cell_type": "markdown",
   "metadata": {
    "hidden": true
   },
   "source": [
    "##### Gridsearch Optimization for LogisticRegression Model <a id='gscv_lr'></a>\n",
    "Let's see if we can tune our LR parameters to improve our scores. We will use Gridsearch to go thru these parameters to find the most optimal ones to use. "
   ]
  },
  {
   "cell_type": "code",
   "execution_count": 77,
   "metadata": {
    "hidden": true
   },
   "outputs": [],
   "source": [
    "param_grid_lr = {\n",
    "    'max_iter': [5, 10, 20, 50],                      \n",
    "    'solver': ['newton-cg', 'lbfgs', 'liblinear', 'sag', 'newton-cholesky', 'saga'],  \n",
    "    'class_weight': ['balanced'],\n",
    "    'penalty':['l1', 'l2', 'elasticnet'],\n",
    "    'random_state':[42]\n",
    "}"
   ]
  },
  {
   "cell_type": "code",
   "execution_count": 78,
   "metadata": {
    "hidden": true
   },
   "outputs": [
    {
     "name": "stdout",
     "output_type": "stream",
     "text": [
      "Fitting 10 folds for each of 72 candidates, totalling 720 fits\n"
     ]
    },
    {
     "name": "stderr",
     "output_type": "stream",
     "text": [
      "[Parallel(n_jobs=-1)]: Using backend LokyBackend with 10 concurrent workers.\n",
      "[Parallel(n_jobs=-1)]: Done  30 tasks      | elapsed:    1.0s\n",
      "[Parallel(n_jobs=-1)]: Done 595 tasks      | elapsed:    5.2s\n",
      "[Parallel(n_jobs=-1)]: Done 720 out of 720 | elapsed:    7.7s finished\n"
     ]
    },
    {
     "data": {
      "text/plain": [
       "GridSearchCV(cv=10, estimator=LogisticRegression(random_state=42), n_jobs=-1,\n",
       "             param_grid={'class_weight': ['balanced'],\n",
       "                         'max_iter': [5, 10, 20, 50],\n",
       "                         'penalty': ['l1', 'l2', 'elasticnet'],\n",
       "                         'random_state': [42],\n",
       "                         'solver': ['newton-cg', 'lbfgs', 'liblinear', 'sag',\n",
       "                                    'newton-cholesky', 'saga']},\n",
       "             verbose=1)"
      ]
     },
     "execution_count": 78,
     "metadata": {},
     "output_type": "execute_result"
    }
   ],
   "source": [
    "lr_gs = GridSearchCV(estimator=lr, \n",
    "                             param_grid=param_grid_lr, \n",
    "                             verbose=1, cv=10, \n",
    "                             n_jobs=-1)\n",
    "lr_gs.fit(X_train, y_train)\n"
   ]
  },
  {
   "cell_type": "code",
   "execution_count": 79,
   "metadata": {
    "hidden": true
   },
   "outputs": [
    {
     "data": {
      "image/png": "[encoded data removed]",
      "text/plain": [
       "<Figure size 1080x360 with 3 Axes>"
      ]
     },
     "metadata": {
      "needs_background": "light"
     },
     "output_type": "display_data"
    },
    {
     "name": "stdout",
     "output_type": "stream",
     "text": [
      "              precision    recall  f1-score   support\n",
      "\n",
      "         0.0       0.77      0.72      0.74      3543\n",
      "         1.0       0.74      0.78      0.76      3527\n",
      "\n",
      "    accuracy                           0.75      7070\n",
      "   macro avg       0.75      0.75      0.75      7070\n",
      "weighted avg       0.75      0.75      0.75      7070\n",
      "\n",
      "Fitting 10 folds for each of 72 candidates, totalling 720 fits\n"
     ]
    },
    {
     "name": "stderr",
     "output_type": "stream",
     "text": [
      "[Parallel(n_jobs=-1)]: Using backend LokyBackend with 10 concurrent workers.\n",
      "[Parallel(n_jobs=-1)]: Done  40 tasks      | elapsed:    0.1s\n",
      "[Parallel(n_jobs=-1)]: Done 720 out of 720 | elapsed:    4.6s finished\n",
      "[Parallel(n_jobs=-1)]: Using backend LokyBackend with 10 concurrent workers.\n"
     ]
    },
    {
     "name": "stdout",
     "output_type": "stream",
     "text": [
      "Fitting 10 folds for each of 72 candidates, totalling 720 fits\n"
     ]
    },
    {
     "name": "stderr",
     "output_type": "stream",
     "text": [
      "[Parallel(n_jobs=-1)]: Done  40 tasks      | elapsed:    0.1s\n",
      "[Parallel(n_jobs=-1)]: Done 720 out of 720 | elapsed:    4.7s finished\n"
     ]
    },
    {
     "name": "stdout",
     "output_type": "stream",
     "text": [
      "Fitting 10 folds for each of 72 candidates, totalling 720 fits\n"
     ]
    },
    {
     "name": "stderr",
     "output_type": "stream",
     "text": [
      "[Parallel(n_jobs=-1)]: Using backend LokyBackend with 10 concurrent workers.\n",
      "[Parallel(n_jobs=-1)]: Done  40 tasks      | elapsed:    0.1s\n",
      "[Parallel(n_jobs=-1)]: Done 720 out of 720 | elapsed:    4.7s finished\n",
      "[Parallel(n_jobs=-1)]: Using backend LokyBackend with 10 concurrent workers.\n"
     ]
    },
    {
     "name": "stdout",
     "output_type": "stream",
     "text": [
      "Fitting 10 folds for each of 72 candidates, totalling 720 fits\n"
     ]
    },
    {
     "name": "stderr",
     "output_type": "stream",
     "text": [
      "[Parallel(n_jobs=-1)]: Done  40 tasks      | elapsed:    0.1s\n",
      "[Parallel(n_jobs=-1)]: Done 625 tasks      | elapsed:    3.5s\n",
      "[Parallel(n_jobs=-1)]: Done 720 out of 720 | elapsed:    5.7s finished\n"
     ]
    },
    {
     "name": "stdout",
     "output_type": "stream",
     "text": [
      "Fitting 10 folds for each of 72 candidates, totalling 720 fits\n"
     ]
    },
    {
     "name": "stderr",
     "output_type": "stream",
     "text": [
      "[Parallel(n_jobs=-1)]: Using backend LokyBackend with 10 concurrent workers.\n",
      "[Parallel(n_jobs=-1)]: Done  40 tasks      | elapsed:    0.1s\n"
     ]
    },
    {
     "name": "stdout",
     "output_type": "stream",
     "text": [
      "Mean Cross Validated Roc_Auc Score: 83%\n",
      "Train Roc_Auc Score: 83%\n",
      "Test Roc_Auc Score: 82%\n",
      "Train Accuracy Score: 75%\n",
      "Test Accuracy Score: 75%\n"
     ]
    },
    {
     "name": "stderr",
     "output_type": "stream",
     "text": [
      "[Parallel(n_jobs=-1)]: Done 720 out of 720 | elapsed:    4.7s finished\n"
     ]
    }
   ],
   "source": [
    "model_results(lr_gs)"
   ]
  },
  {
   "cell_type": "markdown",
   "metadata": {
    "hidden": true
   },
   "source": [
    "#### Hmmm...\n",
    "Our model has slightly improved for Roc_Auc score and the recall/precision for those without diabetes.\n",
    "\n",
    "###### Verdict: *GS did slightly improve model for detection of Diabetes*\n",
    "\n",
    "But while we are here, let's check out the 15 top performing parameters for the base model. "
   ]
  },
  {
   "cell_type": "code",
   "execution_count": 56,
   "metadata": {
    "hidden": true
   },
   "outputs": [
    {
     "data": {
      "text/html": [
       "<div>\n",
       "<style scoped>\n",
       "    .dataframe tbody tr th:only-of-type {\n",
       "        vertical-align: middle;\n",
       "    }\n",
       "\n",
       "    .dataframe tbody tr th {\n",
       "        vertical-align: top;\n",
       "    }\n",
       "\n",
       "    .dataframe thead th {\n",
       "        text-align: right;\n",
       "    }\n",
       "</style>\n",
       "<table border=\"1\" class=\"dataframe\">\n",
       "  <thead>\n",
       "    <tr style=\"text-align: right;\">\n",
       "      <th></th>\n",
       "      <th>Parameter</th>\n",
       "      <th>Importance</th>\n",
       "    </tr>\n",
       "  </thead>\n",
       "  <tbody>\n",
       "    <tr>\n",
       "      <th>30</th>\n",
       "      <td>x1_5.0</td>\n",
       "      <td>2.448045</td>\n",
       "    </tr>\n",
       "    <tr>\n",
       "      <th>29</th>\n",
       "      <td>x1_4.0</td>\n",
       "      <td>2.265604</td>\n",
       "    </tr>\n",
       "    <tr>\n",
       "      <th>28</th>\n",
       "      <td>x1_3.0</td>\n",
       "      <td>1.626396</td>\n",
       "    </tr>\n",
       "    <tr>\n",
       "      <th>27</th>\n",
       "      <td>x1_2.0</td>\n",
       "      <td>0.856409</td>\n",
       "    </tr>\n",
       "    <tr>\n",
       "      <th>2</th>\n",
       "      <td>CholCheck</td>\n",
       "      <td>0.782350</td>\n",
       "    </tr>\n",
       "    <tr>\n",
       "      <th>14</th>\n",
       "      <td>HighBP</td>\n",
       "      <td>0.663647</td>\n",
       "    </tr>\n",
       "    <tr>\n",
       "      <th>24</th>\n",
       "      <td>x0_11.0</td>\n",
       "      <td>0.619786</td>\n",
       "    </tr>\n",
       "    <tr>\n",
       "      <th>25</th>\n",
       "      <td>x0_12.0</td>\n",
       "      <td>0.524484</td>\n",
       "    </tr>\n",
       "    <tr>\n",
       "      <th>1</th>\n",
       "      <td>HighChol</td>\n",
       "      <td>0.509575</td>\n",
       "    </tr>\n",
       "    <tr>\n",
       "      <th>23</th>\n",
       "      <td>x0_10.0</td>\n",
       "      <td>0.479666</td>\n",
       "    </tr>\n",
       "    <tr>\n",
       "      <th>26</th>\n",
       "      <td>x0_13.0</td>\n",
       "      <td>0.457107</td>\n",
       "    </tr>\n",
       "    <tr>\n",
       "      <th>22</th>\n",
       "      <td>x0_9.0</td>\n",
       "      <td>0.282021</td>\n",
       "    </tr>\n",
       "    <tr>\n",
       "      <th>5</th>\n",
       "      <td>HeartDiseaseorAttack</td>\n",
       "      <td>0.265032</td>\n",
       "    </tr>\n",
       "    <tr>\n",
       "      <th>13</th>\n",
       "      <td>Stroke</td>\n",
       "      <td>0.238447</td>\n",
       "    </tr>\n",
       "    <tr>\n",
       "      <th>0</th>\n",
       "      <td>Sex</td>\n",
       "      <td>0.235385</td>\n",
       "    </tr>\n",
       "  </tbody>\n",
       "</table>\n",
       "</div>"
      ],
      "text/plain": [
       "               Parameter  Importance\n",
       "30                x1_5.0    2.448045\n",
       "29                x1_4.0    2.265604\n",
       "28                x1_3.0    1.626396\n",
       "27                x1_2.0    0.856409\n",
       "2              CholCheck    0.782350\n",
       "14                HighBP    0.663647\n",
       "24               x0_11.0    0.619786\n",
       "25               x0_12.0    0.524484\n",
       "1               HighChol    0.509575\n",
       "23               x0_10.0    0.479666\n",
       "26               x0_13.0    0.457107\n",
       "22                x0_9.0    0.282021\n",
       "5   HeartDiseaseorAttack    0.265032\n",
       "13                Stroke    0.238447\n",
       "0                    Sex    0.235385"
      ]
     },
     "execution_count": 56,
     "metadata": {},
     "output_type": "execute_result"
    }
   ],
   "source": [
    "importances = pd.DataFrame(data={\n",
    "    'Parameter': X_train.columns,\n",
    "    'Importance': lr.coef_[0]\n",
    "})\n",
    "importances = importances.sort_values(by='Importance', ascending=False)\n",
    "importances.head(15)"
   ]
  },
  {
   "cell_type": "markdown",
   "metadata": {
    "hidden": true
   },
   "source": [
    "The top 15 revolve mostly around GenHlth (x1), Cholesterol Check, High Cholesterol, Age (x0), Physical Health, High BP, Heart Disease or heart attack. ,Stroke, and gender, which isn't super surprising, given what we have seen before with the corellation heatmap. "
   ]
  },
  {
   "cell_type": "markdown",
   "metadata": {
    "heading_collapsed": true
   },
   "source": [
    "### Model #2: Random Forrest Model<a id='rf'></a>"
   ]
  },
  {
   "cell_type": "code",
   "execution_count": 81,
   "metadata": {
    "hidden": true
   },
   "outputs": [
    {
     "data": {
      "text/plain": [
       "RandomForestClassifier(random_state=123)"
      ]
     },
     "execution_count": 81,
     "metadata": {},
     "output_type": "execute_result"
    }
   ],
   "source": [
    "rf = RandomForestClassifier(random_state=123)\n",
    "rf.fit(X_train, y_train)"
   ]
  },
  {
   "cell_type": "code",
   "execution_count": 82,
   "metadata": {
    "hidden": true
   },
   "outputs": [
    {
     "data": {
      "image/png": "[encoded data removed]",
      "text/plain": [
       "<Figure size 1080x360 with 3 Axes>"
      ]
     },
     "metadata": {
      "needs_background": "light"
     },
     "output_type": "display_data"
    },
    {
     "name": "stdout",
     "output_type": "stream",
     "text": [
      "              precision    recall  f1-score   support\n",
      "\n",
      "         0.0       0.74      0.69      0.71      3543\n",
      "         1.0       0.71      0.76      0.73      3527\n",
      "\n",
      "    accuracy                           0.72      7070\n",
      "   macro avg       0.72      0.72      0.72      7070\n",
      "weighted avg       0.72      0.72      0.72      7070\n",
      "\n",
      "Mean Cross Validated Roc_Auc Score: 79%\n",
      "Train Roc_Auc Score: 100%\n",
      "Test Roc_Auc Score: 79%\n",
      "Train Accuracy Score: 98%\n",
      "Test Accuracy Score: 72%\n"
     ]
    }
   ],
   "source": [
    "model_results(rf)"
   ]
  },
  {
   "cell_type": "markdown",
   "metadata": {
    "hidden": true
   },
   "source": [
    "As we can see, the ROC came out way too high, indicating that we are ***way overfitting***, and our testing isn't coming out as well as would be prefered. \n",
    "\n",
    "##### Gridsearch Optimization for Random Forrest Model <a id='gscv_rf'></a>\n",
    "\n",
    "Let's see if we can change our DT parameters to improve our scores. We will use Gridsearch to go thru these parameters to find the most optimal ones to use."
   ]
  },
  {
   "cell_type": "code",
   "execution_count": 85,
   "metadata": {
    "hidden": true
   },
   "outputs": [],
   "source": [
    "grid = [{'max_depth': [4, 5, 6, 7],\n",
    "         'min_samples_split': [2, 5, 10],\n",
    "         'min_samples_leaf': [1, 3, 5]}]\n",
    "\n",
    "#define the gridsearch\n",
    "rf_gs = GridSearchCV(estimator=rf,\n",
    "                          param_grid=grid,\n",
    "                          scoring='accuracy',\n",
    "                          cv=5)\n",
    "#fit the training data\n",
    "rf_gs.fit(X_train, y_train);"
   ]
  },
  {
   "cell_type": "code",
   "execution_count": 87,
   "metadata": {
    "hidden": true,
    "scrolled": false
   },
   "outputs": [
    {
     "data": {
      "image/png": "[encoded data removed]",
      "text/plain": [
       "<Figure size 1080x360 with 3 Axes>"
      ]
     },
     "metadata": {
      "needs_background": "light"
     },
     "output_type": "display_data"
    },
    {
     "name": "stdout",
     "output_type": "stream",
     "text": [
      "              precision    recall  f1-score   support\n",
      "\n",
      "         0.0       0.76      0.71      0.73      3543\n",
      "         1.0       0.72      0.77      0.75      3527\n",
      "\n",
      "    accuracy                           0.74      7070\n",
      "   macro avg       0.74      0.74      0.74      7070\n",
      "weighted avg       0.74      0.74      0.74      7070\n",
      "\n",
      "Mean Cross Validated Roc_Auc Score: 82%\n",
      "Train Roc_Auc Score: 82%\n",
      "Test Roc_Auc Score: 81%\n",
      "Train Accuracy Score: 75%\n",
      "Test Accuracy Score: 74%\n"
     ]
    }
   ],
   "source": [
    "model_results(rf_gs)"
   ]
  },
  {
   "cell_type": "markdown",
   "metadata": {
    "hidden": true
   },
   "source": [
    "***Considerably better!***\n",
    "\n",
    "* Our Roc_Auc rose\n",
    "* Our recall rose for true positives\n",
    "* Our accuracy rose\n",
    "\n",
    "Our training scores are still a bit more than our testing scores, so we are overfitting slightly, and our recall for those without diabetes fell, which isn't great. We also really want to improve further to improve the Roc_Auc Score. \n",
    "\n",
    "###### Verdict: *GS did improve model for detection of Diabetes*"
   ]
  },
  {
   "cell_type": "markdown",
   "metadata": {},
   "source": [
    "### Model #3:  XG Boost<a id='xgboost'></a>"
   ]
  },
  {
   "cell_type": "markdown",
   "metadata": {},
   "source": [
    "XGBoost is short for Extreme Gradient Boost and makes use of regularization parameters that helps against overfitting."
   ]
  },
  {
   "cell_type": "code",
   "execution_count": 86,
   "metadata": {},
   "outputs": [
    {
     "data": {
      "text/plain": [
       "XGBClassifier(base_score=0.5, booster='gbtree', colsample_bylevel=1,\n",
       "              colsample_bynode=1, colsample_bytree=1, gamma=0, gpu_id=-1,\n",
       "              importance_type='gain', interaction_constraints='',\n",
       "              learning_rate=0.300000012, max_delta_step=0, max_depth=6,\n",
       "              min_child_weight=1, missing=nan, monotone_constraints='()',\n",
       "              n_estimators=100, n_jobs=0, num_parallel_tree=1, random_state=42,\n",
       "              reg_alpha=0, reg_lambda=1, scale_pos_weight=1, subsample=1,\n",
       "              tree_method='exact', validate_parameters=1, verbosity=None)"
      ]
     },
     "execution_count": 86,
     "metadata": {},
     "output_type": "execute_result"
    }
   ],
   "source": [
    "xgb = XGBClassifier(random_state=42)\n",
    "xgb.fit(X_train, y_train)"
   ]
  },
  {
   "cell_type": "code",
   "execution_count": null,
   "metadata": {},
   "outputs": [],
   "source": [
    "model_results(xgb)"
   ]
  },
  {
   "cell_type": "markdown",
   "metadata": {},
   "source": [
    "Not a bad start, though overfitting is an issue. Let's refine. \n",
    "\n",
    "#### Gridsearch Optimization for XG Boost"
   ]
  },
  {
   "cell_type": "code",
   "execution_count": null,
   "metadata": {
    "scrolled": true
   },
   "outputs": [],
   "source": [
    "parameters = {\n",
    "    'n_estimators': [75],              \n",
    "    'learning_rate': [0.05, 0.1, 0.2],  \n",
    "    'max_depth': [4, 5, 6],            \n",
    "    'gamma': [0.5, 1],                 \n",
    "    'min_child_weight': [3, 4, 5], \n",
    "    'subsample': [0.5, 0.75],          \n",
    "    'colsample_bytree':[0.5, 0.75],\n",
    "    'random_state':[42]\n",
    "}\n",
    "\n",
    "better_xgb = GridSearchCV(estimator = xgb,       \n",
    "                        param_grid = parameters,     \n",
    "                        scoring ='roc_auc',          \n",
    "                        cv = 5,\n",
    "                        n_jobs = -1\n",
    ")                      \n",
    "\n",
    "# Train the pipeline (tranformations & predictor)ui0\n",
    "better_xgb.fit(X_train, y_train);\n",
    "model_results(better_xgb)"
   ]
  },
  {
   "cell_type": "markdown",
   "metadata": {},
   "source": [
    "#### Results\n",
    "We are overfitting, and accuracy could be better, but recall is not too bad. "
   ]
  },
  {
   "cell_type": "markdown",
   "metadata": {
    "heading_collapsed": true
   },
   "source": [
    "### Model #4: LogitBoost<a id='logit'></a>"
   ]
  },
  {
   "cell_type": "markdown",
   "metadata": {
    "hidden": true
   },
   "source": [
    "LogitBoost is a classifier is a meta-estimator that fits an additive model minimizing a logistic loss function."
   ]
  },
  {
   "cell_type": "code",
   "execution_count": 69,
   "metadata": {
    "hidden": true
   },
   "outputs": [
    {
     "ename": "AttributeError",
     "evalue": "'LogitBoost' object has no attribute 'estimators_'",
     "output_type": "error",
     "traceback": [
      "\u001b[0;31m---------------------------------------------------------------------------\u001b[0m",
      "\u001b[0;31mAttributeError\u001b[0m                            Traceback (most recent call last)",
      "\u001b[0;32m<ipython-input-69-ba85fac30001>\u001b[0m in \u001b[0;36m<module>\u001b[0;34m\u001b[0m\n\u001b[0;32m----> 1\u001b[0;31m lboost = Pipeline([('ss', StandardScaler()),\n\u001b[0m\u001b[1;32m      2\u001b[0m                    'lgb', LogitBoost(random_state=42)])\n\u001b[1;32m      3\u001b[0m \u001b[0mlboost\u001b[0m\u001b[0;34m.\u001b[0m\u001b[0mfit\u001b[0m\u001b[0;34m(\u001b[0m\u001b[0mX_train\u001b[0m\u001b[0;34m,\u001b[0m \u001b[0my_train\u001b[0m\u001b[0;34m)\u001b[0m\u001b[0;34m\u001b[0m\u001b[0;34m\u001b[0m\u001b[0m\n",
      "\u001b[0;32m~/opt/anaconda3/envs/learn-env/lib/python3.8/site-packages/sklearn/utils/validation.py\u001b[0m in \u001b[0;36minner_f\u001b[0;34m(*args, **kwargs)\u001b[0m\n\u001b[1;32m     70\u001b[0m                           FutureWarning)\n\u001b[1;32m     71\u001b[0m         \u001b[0mkwargs\u001b[0m\u001b[0;34m.\u001b[0m\u001b[0mupdate\u001b[0m\u001b[0;34m(\u001b[0m\u001b[0;34m{\u001b[0m\u001b[0mk\u001b[0m\u001b[0;34m:\u001b[0m \u001b[0marg\u001b[0m \u001b[0;32mfor\u001b[0m \u001b[0mk\u001b[0m\u001b[0;34m,\u001b[0m \u001b[0marg\u001b[0m \u001b[0;32min\u001b[0m \u001b[0mzip\u001b[0m\u001b[0;34m(\u001b[0m\u001b[0msig\u001b[0m\u001b[0;34m.\u001b[0m\u001b[0mparameters\u001b[0m\u001b[0;34m,\u001b[0m \u001b[0margs\u001b[0m\u001b[0;34m)\u001b[0m\u001b[0;34m}\u001b[0m\u001b[0;34m)\u001b[0m\u001b[0;34m\u001b[0m\u001b[0;34m\u001b[0m\u001b[0m\n\u001b[0;32m---> 72\u001b[0;31m         \u001b[0;32mreturn\u001b[0m \u001b[0mf\u001b[0m\u001b[0;34m(\u001b[0m\u001b[0;34m**\u001b[0m\u001b[0mkwargs\u001b[0m\u001b[0;34m)\u001b[0m\u001b[0;34m\u001b[0m\u001b[0;34m\u001b[0m\u001b[0m\n\u001b[0m\u001b[1;32m     73\u001b[0m     \u001b[0;32mreturn\u001b[0m \u001b[0minner_f\u001b[0m\u001b[0;34m\u001b[0m\u001b[0;34m\u001b[0m\u001b[0m\n\u001b[1;32m     74\u001b[0m \u001b[0;34m\u001b[0m\u001b[0m\n",
      "\u001b[0;32m~/opt/anaconda3/envs/learn-env/lib/python3.8/site-packages/sklearn/pipeline.py\u001b[0m in \u001b[0;36m__init__\u001b[0;34m(self, steps, memory, verbose)\u001b[0m\n\u001b[1;32m    112\u001b[0m         \u001b[0mself\u001b[0m\u001b[0;34m.\u001b[0m\u001b[0mmemory\u001b[0m \u001b[0;34m=\u001b[0m \u001b[0mmemory\u001b[0m\u001b[0;34m\u001b[0m\u001b[0;34m\u001b[0m\u001b[0m\n\u001b[1;32m    113\u001b[0m         \u001b[0mself\u001b[0m\u001b[0;34m.\u001b[0m\u001b[0mverbose\u001b[0m \u001b[0;34m=\u001b[0m \u001b[0mverbose\u001b[0m\u001b[0;34m\u001b[0m\u001b[0;34m\u001b[0m\u001b[0m\n\u001b[0;32m--> 114\u001b[0;31m         \u001b[0mself\u001b[0m\u001b[0;34m.\u001b[0m\u001b[0m_validate_steps\u001b[0m\u001b[0;34m(\u001b[0m\u001b[0;34m)\u001b[0m\u001b[0;34m\u001b[0m\u001b[0;34m\u001b[0m\u001b[0m\n\u001b[0m\u001b[1;32m    115\u001b[0m \u001b[0;34m\u001b[0m\u001b[0m\n\u001b[1;32m    116\u001b[0m     \u001b[0;32mdef\u001b[0m \u001b[0mget_params\u001b[0m\u001b[0;34m(\u001b[0m\u001b[0mself\u001b[0m\u001b[0;34m,\u001b[0m \u001b[0mdeep\u001b[0m\u001b[0;34m=\u001b[0m\u001b[0;32mTrue\u001b[0m\u001b[0;34m)\u001b[0m\u001b[0;34m:\u001b[0m\u001b[0;34m\u001b[0m\u001b[0;34m\u001b[0m\u001b[0m\n",
      "\u001b[0;32m~/opt/anaconda3/envs/learn-env/lib/python3.8/site-packages/sklearn/pipeline.py\u001b[0m in \u001b[0;36m_validate_steps\u001b[0;34m(self)\u001b[0m\n\u001b[1;32m    143\u001b[0m \u001b[0;34m\u001b[0m\u001b[0m\n\u001b[1;32m    144\u001b[0m     \u001b[0;32mdef\u001b[0m \u001b[0m_validate_steps\u001b[0m\u001b[0;34m(\u001b[0m\u001b[0mself\u001b[0m\u001b[0;34m)\u001b[0m\u001b[0;34m:\u001b[0m\u001b[0;34m\u001b[0m\u001b[0;34m\u001b[0m\u001b[0m\n\u001b[0;32m--> 145\u001b[0;31m         \u001b[0mnames\u001b[0m\u001b[0;34m,\u001b[0m \u001b[0mestimators\u001b[0m \u001b[0;34m=\u001b[0m \u001b[0mzip\u001b[0m\u001b[0;34m(\u001b[0m\u001b[0;34m*\u001b[0m\u001b[0mself\u001b[0m\u001b[0;34m.\u001b[0m\u001b[0msteps\u001b[0m\u001b[0;34m)\u001b[0m\u001b[0;34m\u001b[0m\u001b[0;34m\u001b[0m\u001b[0m\n\u001b[0m\u001b[1;32m    146\u001b[0m \u001b[0;34m\u001b[0m\u001b[0m\n\u001b[1;32m    147\u001b[0m         \u001b[0;31m# validate names\u001b[0m\u001b[0;34m\u001b[0m\u001b[0;34m\u001b[0m\u001b[0;34m\u001b[0m\u001b[0m\n",
      "\u001b[0;32m~/opt/anaconda3/envs/learn-env/lib/python3.8/site-packages/sklearn/ensemble/_base.py\u001b[0m in \u001b[0;36m__iter__\u001b[0;34m(self)\u001b[0m\n\u001b[1;32m    171\u001b[0m     \u001b[0;32mdef\u001b[0m \u001b[0m__iter__\u001b[0m\u001b[0;34m(\u001b[0m\u001b[0mself\u001b[0m\u001b[0;34m)\u001b[0m\u001b[0;34m:\u001b[0m\u001b[0;34m\u001b[0m\u001b[0;34m\u001b[0m\u001b[0m\n\u001b[1;32m    172\u001b[0m         \u001b[0;34m\"\"\"Return iterator over estimators in the ensemble.\"\"\"\u001b[0m\u001b[0;34m\u001b[0m\u001b[0;34m\u001b[0m\u001b[0m\n\u001b[0;32m--> 173\u001b[0;31m         \u001b[0;32mreturn\u001b[0m \u001b[0miter\u001b[0m\u001b[0;34m(\u001b[0m\u001b[0mself\u001b[0m\u001b[0;34m.\u001b[0m\u001b[0mestimators_\u001b[0m\u001b[0;34m)\u001b[0m\u001b[0;34m\u001b[0m\u001b[0;34m\u001b[0m\u001b[0m\n\u001b[0m\u001b[1;32m    174\u001b[0m \u001b[0;34m\u001b[0m\u001b[0m\n\u001b[1;32m    175\u001b[0m \u001b[0;34m\u001b[0m\u001b[0m\n",
      "\u001b[0;31mAttributeError\u001b[0m: 'LogitBoost' object has no attribute 'estimators_'"
     ]
    }
   ],
   "source": [
    "lboost = LogitBoost(random_state=42)])\n",
    "lboost.fit(X_train, y_train)"
   ]
  },
  {
   "cell_type": "code",
   "execution_count": null,
   "metadata": {
    "hidden": true,
    "scrolled": true
   },
   "outputs": [],
   "source": [
    "model_results(lboost)"
   ]
  },
  {
   "cell_type": "markdown",
   "metadata": {
    "hidden": true
   },
   "source": [
    "This is really great! Our mean CV Roc_Auc score is over 80, and our test/train ROC_Auc and Accuracy scores are very close! \n",
    "\n",
    "### Feature Importance\n",
    "While we are here, let's take another look at feature importances."
   ]
  },
  {
   "cell_type": "code",
   "execution_count": null,
   "metadata": {
    "hidden": true
   },
   "outputs": [],
   "source": [
    "lboost.feature_importances_"
   ]
  },
  {
   "cell_type": "code",
   "execution_count": null,
   "metadata": {
    "hidden": true,
    "scrolled": true
   },
   "outputs": [],
   "source": [
    "(pd.Series(lboost.feature_importances_, index=X.columns)\n",
    "   .nlargest(15)\n",
    "   .plot(kind='barh', title=\"Top 15 Feature Importances of LogitBoost\"))"
   ]
  },
  {
   "cell_type": "markdown",
   "metadata": {
    "hidden": true
   },
   "source": [
    "#### Takeaway:\n",
    "\n",
    "Here we have a plot of the top 15 features. Because some of these features are a result of OHE, they have \"x\" and then a number for column names. As a reminder, here is a translation: \n",
    "* \"Age\" = x0\n",
    "* \"BMI\" = x1\n",
    "* \"GenHlth\" = x2\n",
    "\n",
    "What we can take away from this is that **General Health** (with a scale of 1 being good to 5 being the worst) is the most imporant. While BMI's make a presence on the \"top 15\", it is not due to having a BMI too high - a BMI of 17 or 18 is actually considered underweight, while a BMI of 22 is considered in the healthy range. While a BMI considered underweight would be helpful in spotting someone who might be prone to disease, it's intruiging to me that a regular, even healthy BMI would have such a high ranking in relation to diabetes. \n",
    "\n",
    "Additionally, whether or not someone has had a stroke, has high blood pressure, and difficulty walking have substantial impact on the final outcome. "
   ]
  },
  {
   "cell_type": "markdown",
   "metadata": {},
   "source": [
    "## 5. Final Model Selection<a id='final'></a>\n",
    "Here we will look at our models perfomance next to each other and decide which we will choose."
   ]
  },
  {
   "cell_type": "markdown",
   "metadata": {},
   "source": [
    "### Model #1: Logistic Regression After GridSearchCV"
   ]
  },
  {
   "cell_type": "code",
   "execution_count": null,
   "metadata": {},
   "outputs": [],
   "source": [
    "model_results(lr_gs)"
   ]
  },
  {
   "cell_type": "markdown",
   "metadata": {},
   "source": [
    "##### Why?\n",
    "* Final model came in with a Mean Cross Validates Roc_Auc Score over 80\n",
    "* Recall for true positives was higher than any other model\n",
    "* Overfitting is at a tolerable level"
   ]
  },
  {
   "cell_type": "markdown",
   "metadata": {},
   "source": [
    "## 6. Business Recommendation:<a id='business'></a>"
   ]
  },
  {
   "cell_type": "markdown",
   "metadata": {},
   "source": [
    "#### Basic Use Function\n",
    "When receiving a new patient or even reviewing updated information for a current patient, doctors and nurses would be able to input the basic data points needed for the model to see if a patient might have diabetes (diagnosed or not). This can be implimented into their workflow via an add-on to software they currently use, or as a standalone application. \n",
    "\n",
    "#### Recommendation\n",
    "You will want to keep an eye out for **poor general health, high blood pressure, high cholesterol, elevated BMI, and difficulty walking, especially in older patients.**\n",
    "\n",
    "While this model can be useful for inputting data on new and existing patients, it shows that the most influental parameters could be examined to utilize in an action plan to improve the patients health.\n",
    "\n",
    "For example, while someone cannot make themselves younger or erase a stroke from their medical history, they could work to:\n",
    "* get their BMI to a healthy level\n",
    "* lower their blood pressure\n",
    "* take steps to improve their general physical health\n",
    "* refer to mental health services such as counseling, therapy, etc. as needed"
   ]
  },
  {
   "cell_type": "markdown",
   "metadata": {
    "heading_collapsed": true
   },
   "source": [
    "## 7. Going further<a id='further'></a>\n",
    "\n",
    "I would like to explore the original data from the original dataset (rather than this subset) and do a bit more exploratory analysis on that. This dataset explored pretty broad topics, but I'd like to see if going into more detail in each topic made more of a difference rather than the broad topic on it's own. \n",
    "\n",
    "In addition, I would like to explore more data derived not from the patients opinion, but from a measurable quantity outside of that to see if we can get away from possible personal bias. "
   ]
  },
  {
   "cell_type": "code",
   "execution_count": null,
   "metadata": {
    "hidden": true
   },
   "outputs": [],
   "source": []
  }
 ],
 "metadata": {
  "kernelspec": {
   "display_name": "Python 3",
   "language": "python",
   "name": "python3"
  },
  "language_info": {
   "codemirror_mode": {
    "name": "ipython",
    "version": 3
   },
   "file_extension": ".py",
   "mimetype": "text/x-python",
   "name": "python",
   "nbconvert_exporter": "python",
   "pygments_lexer": "ipython3",
   "version": "3.8.5"
  }
 },
 "nbformat": 4,
 "nbformat_minor": 2
}
